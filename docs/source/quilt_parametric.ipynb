{
 "cells": [
  {
   "cell_type": "markdown",
   "metadata": {},
   "source": [
    "# Parametric Compilation Examples\n",
    "\n",
    "In this notebook, we demonstrate parametric compilation by way of three \"experiments\": \n",
    "\n",
    "* Qubit Spectroscopy, in which we sweep over a detuning parameter,\n",
    "* Power Rabi, in which we sweep over pulse scale,\n",
    "* Time Rabi, in which we sweep over pulse duration.\n",
    "\n",
    "The intent here is to demonstrate Quil-T features; as such we do not do much in the way of data analysis."
   ]
  },
  {
   "cell_type": "code",
   "execution_count": 1,
   "metadata": {},
   "outputs": [],
   "source": [
    "from typing import Optional\n",
    "from pyquil import Program, get_qc\n",
    "from pyquil.quilatom import Qubit, Frame\n",
    "from pyquil.quilbase import Gate, Pulse, DefCalibration\n",
    "from pyquil.gates import RX\n",
    "\n",
    "qc = get_qc('Aspen-8')"
   ]
  },
  {
   "cell_type": "code",
   "execution_count": 2,
   "metadata": {},
   "outputs": [],
   "source": [
    "cals = qc.compiler.get_calibration_program()"
   ]
  },
  {
   "cell_type": "markdown",
   "metadata": {},
   "source": [
    "First, we write a useful little helper, to extract the first pulse from a gate calibration."
   ]
  },
  {
   "cell_type": "code",
   "execution_count": 3,
   "metadata": {},
   "outputs": [
    {
     "name": "stdout",
     "output_type": "stream",
     "text": [
      "NONBLOCKING PULSE 0 \"rf\" drag_gaussian(duration: 1.2e-07, fwhm: 3e-08, t0: 6e-08, anh: -190000000.0, alpha: -0.5128791143256078, scale: 0.63376686965814, phase: 0.0, detuning: 0.0)\n"
     ]
    }
   ],
   "source": [
    "import numpy as np\n",
    "\n",
    "def get_pulse(cal: DefCalibration) -> Optional[Pulse]:\n",
    "    return next((i for i in cal.instrs if isinstance(i, Pulse)), None)\n",
    "\n",
    "rx0 = cals.get_calibration(RX(np.pi, 0))\n",
    "print(get_pulse(rx0))"
   ]
  },
  {
   "cell_type": "markdown",
   "metadata": {},
   "source": [
    "## Qubit Spectroscopy\n",
    "\n",
    "\n",
    "Here we present a simple Qubit spectroscopy experiment. The general idea is that we scan over a range of frequencies, applying a pulse and measuring the resulting probability that the qubit is excited. There are some natural matters which we do _not_ concern ourselves with, for example the choice of pulse duration, or carefully inspecting the readout values. Instead we wish to demonstrate how this sort of experiment can be done using parametric compilation.\n",
    "\n",
    "We first define a function which can produce a parametric program to perform this experiment."
   ]
  },
  {
   "cell_type": "code",
   "execution_count": 4,
   "metadata": {},
   "outputs": [
    {
     "name": "stdout",
     "output_type": "stream",
     "text": [
      "DEFFRAME 0 \"rf\":\n",
      "    DIRECTION: \"tx\"\n",
      "    INITIAL-FREQUENCY: 5145219610.47124\n",
      "    CENTER-FREQUENCY: 5250000000.0\n",
      "    HARDWARE-OBJECT: \"q0_rf\"\n",
      "    SAMPLE-RATE: 1000000000.0\n",
      "\n",
      "DECLARE ro BIT[1]\n",
      "DECLARE detuning REAL[1]\n",
      "SHIFT-FREQUENCY 0 \"rf\" detuning[0]\n",
      "RX(pi) 0\n",
      "MEASURE 0 ro[0]\n",
      "\n"
     ]
    }
   ],
   "source": [
    "def qubit_spectroscopy(qubit: int, param: str, *, calibrations: Program, shots: int = 1000) -> Program:\n",
    "    \"\"\" Generate a program for doing a Qubit spectroscopy experiment.\n",
    "    \n",
    "    :param qubit: The qubit index to run on.\n",
    "    :param param: The name of the parameter used for detuning.\n",
    "    :param calibrations: The QPU calibrations, needed in order to identify an appropriate pulse and frame.\n",
    "    :param shots: The number of shots to execute for a single run.\n",
    "    \"\"\"\n",
    "    \n",
    "    # The basic idea is:\n",
    "    # - shift the frequency by the amount indicated by `param`\n",
    "    # - do an RX(pi) gate\n",
    "    # - measure\n",
    "    \n",
    "    # We first find the frame on which the RX(pi) pulse is applied.\n",
    "    cal = calibrations.get_calibration(RX(np.pi, qubit))\n",
    "    pulse = get_pulse(cal)\n",
    "    frame = pulse.frame\n",
    "    \n",
    "    # When we construct the program, we are sure to include the frame definition\n",
    "    # (since SHIFT-FREQUENCY is applied to this frame).\n",
    "    return Program(\n",
    "        calibrations.frames[pulse.frame],\n",
    "        'DECLARE ro BIT',\n",
    "        f'DECLARE {param} REAL',\n",
    "        f'SHIFT-FREQUENCY {frame} {param}',\n",
    "        f'RX(pi) {qubit}',\n",
    "        f'MEASURE {qubit} ro'\n",
    "    ).wrap_in_numshots_loop(1000)\n",
    "\n",
    "print(qubit_spectroscopy(0, 'detuning', calibrations=cals))"
   ]
  },
  {
   "cell_type": "markdown",
   "metadata": {},
   "source": [
    "Now we compile and run, considering detuning frequencies in the range from -3 MHz to +3 MHz. Note that with parametric compilation we only require one call to the compiler."
   ]
  },
  {
   "cell_type": "code",
   "execution_count": 5,
   "metadata": {},
   "outputs": [],
   "source": [
    "exe = qc.compiler.native_quil_to_executable(qubit_spectroscopy(0, 'detuning', calibrations=cals))\n",
    "\n",
    "detunings = np.linspace(-3e6, 3e6, 100)\n",
    "dprobs = []\n",
    "for detuning in detunings:\n",
    "    exe.write_memory(region_name='detuning', value=detuning)\n",
    "    results = qc.run(exe)\n",
    "    p1 = np.sum(results)/len(results)\n",
    "    dprobs.append(p1)"
   ]
  },
  {
   "cell_type": "code",
   "execution_count": 6,
   "metadata": {},
   "outputs": [
    {
     "data": {
      "text/plain": [
       "[<matplotlib.lines.Line2D at 0x7f874b2c3550>]"
      ]
     },
     "execution_count": 6,
     "metadata": {},
     "output_type": "execute_result"
    },
    {
     "data": {
      "image/png": "[encoded data removed]",
      "text/plain": [
       "<Figure size 432x288 with 1 Axes>"
      ]
     },
     "metadata": {
      "needs_background": "light"
     },
     "output_type": "display_data"
    }
   ],
   "source": [
    "%matplotlib inline\n",
    "import matplotlib.pyplot as plt\n",
    "\n",
    "plt.plot(detunings, dprobs, '.')"
   ]
  },
  {
   "cell_type": "markdown",
   "metadata": {},
   "source": [
    "## Power Rabi\n",
    "\n",
    "We consider another experiment, in which we vary the waveform amplitude and consider how this effects the probability that a qubit is excited. This is formally quite similar to the previous Qubit spectroscopy."
   ]
  },
  {
   "cell_type": "code",
   "execution_count": 7,
   "metadata": {},
   "outputs": [
    {
     "name": "stdout",
     "output_type": "stream",
     "text": [
      "DEFFRAME 0 \"rf\":\n",
      "    DIRECTION: \"tx\"\n",
      "    INITIAL-FREQUENCY: 5145219610.47124\n",
      "    CENTER-FREQUENCY: 5250000000.0\n",
      "    HARDWARE-OBJECT: \"q0_rf\"\n",
      "    SAMPLE-RATE: 1000000000.0\n",
      "\n",
      "DECLARE ro BIT[1]\n",
      "DECLARE scale REAL[1]\n",
      "SET-SCALE 0 \"rf\" scale[0]\n",
      "RX(pi) 0\n",
      "MEASURE 0 ro[0]\n",
      "\n"
     ]
    }
   ],
   "source": [
    "from copy import deepcopy\n",
    "\n",
    "def power_rabi(qubit: int, param: str, *, calibrations: Program, shots: int = 1000) -> Program:\n",
    "    \"\"\" Generate a program for doing a power Rabi experiment.\n",
    "    \n",
    "    :param qubit: The qubit index to run on.\n",
    "    :param param: The name of the parameter used for amplitude scaling.\n",
    "    :param calibrations: The QPU calibrations, needed in order to identify an appropriate pulse and frame.\n",
    "    :param shots: The number of shots to execute for a single run.\n",
    "    \"\"\"\n",
    "    \n",
    "    # The basic idea is:\n",
    "    # - set the frame scaling to the amount indicated by `param`\n",
    "    # - perform the pulse of an RX(pi) gate\n",
    "    # - measure\n",
    "    \n",
    "    # We first find the frame on which the RX(pi) pulse is applied.\n",
    "    cal = calibrations.get_calibration(RX(np.pi, qubit))\n",
    "    pulse = get_pulse(cal)\n",
    "    frame = pulse.frame\n",
    "    \n",
    "    # When we construct the program, we are sure to include the frame definition\n",
    "    # (since SET-SCALE is applied to this frame).\n",
    "    return Program(\n",
    "        calibrations.frames[pulse.frame],\n",
    "        'DECLARE ro BIT',\n",
    "        f'DECLARE {param} REAL',\n",
    "        f'SET-SCALE {frame} {param}',\n",
    "        f'RX(pi) {qubit}',\n",
    "        f'MEASURE {qubit} ro'\n",
    "    ).wrap_in_numshots_loop(1000)\n",
    "\n",
    "print(power_rabi(0, 'scale', calibrations=cals))"
   ]
  },
  {
   "cell_type": "code",
   "execution_count": 8,
   "metadata": {},
   "outputs": [],
   "source": [
    "exe = qc.compiler.native_quil_to_executable(power_rabi(0, 'scale', calibrations=cals))\n",
    "\n",
    "scales = np.linspace(1e-4, 1.0, 20)\n",
    "sprobs = []\n",
    "for scale in scales:\n",
    "    exe.write_memory(region_name='scale', value=scale)\n",
    "    results = qc.run(exe)\n",
    "    p1 = np.sum(results)/len(results)\n",
    "    sprobs.append(p1)"
   ]
  },
  {
   "cell_type": "code",
   "execution_count": 9,
   "metadata": {},
   "outputs": [
    {
     "data": {
      "text/plain": [
       "[<matplotlib.lines.Line2D at 0x7f874883f190>]"
      ]
     },
     "execution_count": 9,
     "metadata": {},
     "output_type": "execute_result"
    },
    {
     "data": {
      "image/png": "[encoded data removed]",
      "text/plain": [
       "<Figure size 432x288 with 1 Axes>"
      ]
     },
     "metadata": {
      "needs_background": "light"
     },
     "output_type": "display_data"
    }
   ],
   "source": [
    "%matplotlib inline\n",
    "\n",
    "plt.plot(scales, sprobs, '.')"
   ]
  },
  {
   "cell_type": "markdown",
   "metadata": {},
   "source": [
    "## Time Rabi\n",
    "\n",
    "Key to our use of parametric compilation in the previous two experiments is that the variable which we were speeping over (frequency or scale) had an associated Quil-T instruction (`SHIFT-FREQUENCY` or `SET-SCALE`). In this example we consider a \"Time Rabi\" experiment, which involves varying the pulse length. \n",
    "\n",
    "A current limitation of Quil-T is that waveforms must be resolved at compile time, and so the `duration` field of a template waveform cannot be a run-time parameter. The workaround for our Time Rabi experiment is that we must generate a new program for each value of `duration`, and we cannot rely on parametric compilation for this."
   ]
  },
  {
   "cell_type": "code",
   "execution_count": 10,
   "metadata": {},
   "outputs": [
    {
     "name": "stdout",
     "output_type": "stream",
     "text": [
      "DEFFRAME 0 \"rf\":\n",
      "    DIRECTION: \"tx\"\n",
      "    INITIAL-FREQUENCY: 5145219610.47124\n",
      "    CENTER-FREQUENCY: 5250000000.0\n",
      "    HARDWARE-OBJECT: \"q0_rf\"\n",
      "    SAMPLE-RATE: 1000000000.0\n",
      "\n",
      "DECLARE ro BIT[1]\n",
      "NONBLOCKING PULSE 0 \"rf\" drag_gaussian(duration: 8e-09, fwhm: 3e-08, t0: 6e-08, anh: -190000000.0, alpha: -0.5128791143256078, scale: 0.63376686965814, phase: 0.0, detuning: 0.0)\n",
      "MEASURE 0 ro[0]\n",
      "\n"
     ]
    }
   ],
   "source": [
    "from copy import deepcopy\n",
    "\n",
    "def time_rabi(qubit: int, duration: float, *, calibrations: Program, shots: int = 1000) -> Program:\n",
    "    \"\"\" Generate a program for doing a time Rabi experiment.\n",
    "    \n",
    "    :param qubit: The qubit index to run on.\n",
    "    :param duration: The pulse duration, in seconds.\n",
    "    :param calibrations: The QPU calibrations, needed in order to identify an appropriate pulse and frame.\n",
    "    :param shots: The number of shots to execute for a single run.\n",
    "    \"\"\"\n",
    "    \n",
    "    # The basic idea is:\n",
    "    # - get the pulse associated to an RX(pi) gate\n",
    "    # - perform a modified version of this, with the `duration` updated\n",
    "    # - measure\n",
    "    \n",
    "    # We first find the frame on which the RX(pi) pulse is applied.\n",
    "    cal = calibrations.get_calibration(RX(np.pi, qubit))\n",
    "    pulse = get_pulse(cal)\n",
    "    frame = pulse.frame\n",
    "    fdefn = calibrations.frames[frame]\n",
    "    \n",
    "    updated_pulse = deepcopy(pulse)\n",
    "    # Note: duration must be aligned to 4 sample boundaries.\n",
    "    updated_pulse.waveform.duration = 4*np.round(duration*fdefn.sample_rate / 4) / fdefn.sample_rate\n",
    "    \n",
    "    # When we construct the program, we are sure to include the frame definition\n",
    "    # (since SET-SCALE is applied to this frame).\n",
    "    return Program(\n",
    "        fdefn,\n",
    "        'DECLARE ro BIT',\n",
    "        updated_pulse,\n",
    "        f'MEASURE {qubit} ro'\n",
    "    ).wrap_in_numshots_loop(1000)\n",
    "\n",
    "print(time_rabi(0, 1e-8, calibrations=cals))"
   ]
  },
  {
   "cell_type": "code",
   "execution_count": 11,
   "metadata": {},
   "outputs": [],
   "source": [
    "times = np.linspace(1e-9, 100e-9, 20)\n",
    "tprobs = []\n",
    "for time in times:\n",
    "    exe = qc.compiler.native_quil_to_executable(time_rabi(0, time, calibrations=cals))\n",
    "    results = qc.run(exe)\n",
    "    p1 = np.sum(results)/len(results)\n",
    "    tprobs.append(p1)"
   ]
  },
  {
   "cell_type": "code",
   "execution_count": 12,
   "metadata": {},
   "outputs": [
    {
     "data": {
      "text/plain": [
       "[<matplotlib.lines.Line2D at 0x7f8748836a90>]"
      ]
     },
     "execution_count": 12,
     "metadata": {},
     "output_type": "execute_result"
    },
    {
     "data": {
      "image/png": "[encoded data removed]",
      "text/plain": [
       "<Figure size 432x288 with 1 Axes>"
      ]
     },
     "metadata": {
      "needs_background": "light"
     },
     "output_type": "display_data"
    }
   ],
   "source": [
    "%matplotlib inline\n",
    "\n",
    "plt.plot(times, tprobs, '.')"
   ]
  }
 ],
 "metadata": {
  "kernelspec": {
   "display_name": "Python 3",
   "language": "python",
   "name": "python3"
  },
  "language_info": {
   "codemirror_mode": {
    "name": "ipython",
    "version": 3
   },
   "file_extension": ".py",
   "mimetype": "text/x-python",
   "name": "python",
   "nbconvert_exporter": "python",
   "pygments_lexer": "ipython3",
   "version": "3.7.6"
  },
  "toc": {
   "base_numbering": 1,
   "nav_menu": {},
   "number_sections": true,
   "sideBar": true,
   "skip_h1_title": false,
   "title_cell": "Table of Contents",
   "title_sidebar": "Contents",
   "toc_cell": false,
   "toc_position": {},
   "toc_section_display": true,
   "toc_window_display": false
  }
 },
 "nbformat": 4,
 "nbformat_minor": 2
}