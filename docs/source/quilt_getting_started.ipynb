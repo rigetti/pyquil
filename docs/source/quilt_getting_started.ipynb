{
 "cells": [
  {
   "cell_type": "markdown",
   "metadata": {},
   "source": [
    "# Getting Up and Running with Quil-T\n",
    "\n",
    "## Language Documentation\n",
    "\n",
    "See https://github.com/rigetti/quil for documentation on the Quil-T language."
   ]
  },
  {
   "cell_type": "markdown",
   "metadata": {},
   "source": [
    "## Construct a `QuantumComputer` object linked to the Quil-T compiler"
   ]
  },
  {
   "cell_type": "code",
   "execution_count": 1,
   "metadata": {},
   "outputs": [],
   "source": [
    "from pyquil import Program, get_qc\n",
    "qc = get_qc(\"Aspen-8\")"
   ]
  },
  {
   "cell_type": "markdown",
   "metadata": {},
   "source": [
    "As a sanity check, the following call should work."
   ]
  },
  {
   "cell_type": "code",
   "execution_count": 2,
   "metadata": {},
   "outputs": [
    {
     "data": {
      "text/plain": [
       "{'quilc': {'quilc': '1.22.0', 'githash': '3b3160c'}, 'qpu_compiler': {}}"
      ]
     },
     "execution_count": 2,
     "metadata": {},
     "output_type": "execute_result"
    }
   ],
   "source": [
    "qc.compiler.get_version_info()"
   ]
  },
  {
   "cell_type": "markdown",
   "metadata": {},
   "source": [
    "## Get Quil-T Calibrations\n",
    "\n",
    "A production QPU has a set of calibrations associated with it. These include frame definitions, gate and measurement calibrations, and custom waveforms. Below we show how to get the default calibrations."
   ]
  },
  {
   "cell_type": "code",
   "execution_count": 3,
   "metadata": {},
   "outputs": [],
   "source": [
    "cals = qc.compiler.get_calibration_program()"
   ]
  },
  {
   "cell_type": "markdown",
   "metadata": {},
   "source": [
    "The `calibration_program` property of `QPUCompiler` provides *cached* access to the QPU calibration information. Upon first using this property a request will be made for the calibration information and may take some time to complete. Subsequent usage of this property will use the cached calibrations and thus will be instantaneous. It should be noted therefore that calibrations **will vary with time** and should be **regularly refreshed** though the specifics of when to refresh the calibrations is left as an exercise for the user. See `QPUCompiler#refresh_calibration_program`."
   ]
  },
  {
   "cell_type": "markdown",
   "metadata": {},
   "source": [
    "### Frame Definitions\n",
    "\n",
    "Frame definitions correspond to specific hardware channels. These have a name (e.g. `0 \"ro_rx\"` for the hardware readout receive channel on Qubit 0), and some metadata (DAC sample rate, initial frame frequency, and a direction).\n",
    "\n",
    "**Note**: These are fixed and should not be edited. If you wish to set a frame's frequency to one different from its initial frequency, your Quil-T program should use `SET-FREQUENCY` (for an absolute value) or `SHIFT-FREQUENCY` (for a relative shift)."
   ]
  },
  {
   "cell_type": "code",
   "execution_count": 4,
   "metadata": {},
   "outputs": [
    {
     "name": "stdout",
     "output_type": "stream",
     "text": [
      "DEFFRAME 0 7 \"cz\":\n",
      "    DIRECTION: \"tx\"\n",
      "    INITIAL-FREQUENCY: 298517072.1886101\n",
      "    CENTER-FREQUENCY: 375000000.0\n",
      "    HARDWARE-OBJECT: \"q0_ff\"\n",
      "    SAMPLE-RATE: 1000000000.0\n",
      "\n"
     ]
    }
   ],
   "source": [
    "from pyquil.quilatom import Frame\n",
    "\n",
    "# Look for CZ frames.\n",
    "cz_frames = filter(lambda f: f[0].name == \"cz\", cals.frames.items())\n",
    "# The first elt is the frame (of type Frame) and the second elt is\n",
    "# the frame definition (of type DefFrame).\n",
    "print(next(cz_frames)[1])"
   ]
  },
  {
   "cell_type": "markdown",
   "metadata": {},
   "source": [
    "### Gate Calibrations\n",
    "\n",
    "Gate and Measurement calibrations present the current Quil-T specification of Rigetti's native gates. "
   ]
  },
  {
   "cell_type": "code",
   "execution_count": 5,
   "metadata": {},
   "outputs": [
    {
     "name": "stdout",
     "output_type": "stream",
     "text": [
      "396 total calibrations, peeking at first two:\n",
      "\n",
      "DEFCAL RX(pi/2) 0:\n",
      "    FENCE 0\n",
      "    NONBLOCKING PULSE 0 \"rf\" drag_gaussian(duration: 1.2e-07, fwhm: 3e-08, t0: 6e-08, anh: -190000000.0, alpha: -0.5128791143256078, scale: 0.31430257697073, phase: 0.0, detuning: 0.0)\n",
      "    FENCE 0\n",
      "\n",
      "DEFCAL RX(-pi/2) 0:\n",
      "    FENCE 0\n",
      "    NONBLOCKING PULSE 0 \"rf\" drag_gaussian(duration: 1.2e-07, fwhm: 3e-08, t0: 6e-08, anh: -190000000.0, alpha: -0.5128791143256078, scale: -0.31430257697073, phase: 0.0, detuning: 0.0)\n",
      "    FENCE 0\n",
      "\n"
     ]
    }
   ],
   "source": [
    "print(len(cals.calibrations), \"total calibrations, peeking at first two:\\n\")\n",
    "for defn in cals.calibrations[:2]:\n",
    "    print(defn)"
   ]
  },
  {
   "cell_type": "markdown",
   "metadata": {},
   "source": [
    "### Waveform Definitions\n",
    "\n",
    "Certain gates (e.g. `RX` gates above) use template waveforms. Others, notably `CZ` gates, use custom waveforms. The `waveforms` member maps waveform names to their definitions."
   ]
  },
  {
   "cell_type": "code",
   "execution_count": 6,
   "metadata": {},
   "outputs": [
    {
     "data": {
      "text/plain": [
       "{'q0_q7_cz/CZ': <pyquil.quilbase.DefWaveform at 0x7f1d60341350>,\n",
       " 'q0_q7_cphase/sqrtCPHASE': <pyquil.quilbase.DefWaveform at 0x7f1d60341590>,\n",
       " 'q0_q7_xy/sqrtiSWAP': <pyquil.quilbase.DefWaveform at 0x7f1d60341610>,\n",
       " 'q1_q16_cz/CZ': <pyquil.quilbase.DefWaveform at 0x7f1d603415d0>,\n",
       " 'q1_q16_cphase/sqrtCPHASE': <pyquil.quilbase.DefWaveform at 0x7f1d60341690>,\n",
       " 'q1_q16_xy/sqrtiSWAP': <pyquil.quilbase.DefWaveform at 0x7f1d60341650>,\n",
       " 'q1_q2_cz/CZ': <pyquil.quilbase.DefWaveform at 0x7f1d60341710>,\n",
       " 'q1_q2_cphase/sqrtCPHASE': <pyquil.quilbase.DefWaveform at 0x7f1d603417d0>,\n",
       " 'q1_q2_xy/sqrtiSWAP': <pyquil.quilbase.DefWaveform at 0x7f1d60341790>,\n",
       " 'q10_q11_cz/CZ': <pyquil.quilbase.DefWaveform at 0x7f1d60341850>,\n",
       " 'q10_q11_cphase/sqrtCPHASE': <pyquil.quilbase.DefWaveform at 0x7f1d60341890>,\n",
       " 'q10_q11_xy/sqrtiSWAP': <pyquil.quilbase.DefWaveform at 0x7f1d60341810>,\n",
       " 'q10_q17_cz/CZ': <pyquil.quilbase.DefWaveform at 0x7f1d603418d0>,\n",
       " 'q10_q17_cphase/sqrtCPHASE': <pyquil.quilbase.DefWaveform at 0x7f1d60341990>,\n",
       " 'q10_q17_xy/sqrtiSWAP': <pyquil.quilbase.DefWaveform at 0x7f1d60341a10>,\n",
       " 'q11_q12_cz/CZ': <pyquil.quilbase.DefWaveform at 0x7f1d603419d0>,\n",
       " 'q11_q12_cphase/sqrtCPHASE': <pyquil.quilbase.DefWaveform at 0x7f1d60341a90>,\n",
       " 'q11_q12_xy/sqrtiSWAP': <pyquil.quilbase.DefWaveform at 0x7f1d60341b10>,\n",
       " 'q11_q26_cz/CZ': <pyquil.quilbase.DefWaveform at 0x7f1d60341ad0>,\n",
       " 'q11_q26_cphase/sqrtCPHASE': <pyquil.quilbase.DefWaveform at 0x7f1d60341b90>,\n",
       " 'q11_q26_xy/sqrtiSWAP': <pyquil.quilbase.DefWaveform at 0x7f1d60341c10>,\n",
       " 'q12_q13_cz/CZ': <pyquil.quilbase.DefWaveform at 0x7f1d60341c50>,\n",
       " 'q12_q13_cphase/sqrtCPHASE': <pyquil.quilbase.DefWaveform at 0x7f1d60341c90>,\n",
       " 'q12_q13_xy/sqrtiSWAP': <pyquil.quilbase.DefWaveform at 0x7f1d60341bd0>,\n",
       " 'q12_q25_cz/CZ': <pyquil.quilbase.DefWaveform at 0x7f1d60341cd0>,\n",
       " 'q12_q25_cphase/sqrtCPHASE': <pyquil.quilbase.DefWaveform at 0x7f1d60341d90>,\n",
       " 'q12_q25_xy/sqrtiSWAP': <pyquil.quilbase.DefWaveform at 0x7f1d60341e10>,\n",
       " 'q15_q16_cz/CZ': <pyquil.quilbase.DefWaveform at 0x7f1d60341dd0>,\n",
       " 'q15_q16_cphase/sqrtCPHASE': <pyquil.quilbase.DefWaveform at 0x7f1d60341e90>,\n",
       " 'q15_q16_xy/sqrtiSWAP': <pyquil.quilbase.DefWaveform at 0x7f1d60341e50>,\n",
       " 'q16_q17_cz/CZ': <pyquil.quilbase.DefWaveform at 0x7f1d60341ed0>,\n",
       " 'q16_q17_cphase/sqrtCPHASE': <pyquil.quilbase.DefWaveform at 0x7f1d60341f90>,\n",
       " 'q16_q17_xy/sqrtiSWAP': <pyquil.quilbase.DefWaveform at 0x7f1d60341f50>,\n",
       " 'q2_q15_cz/CZ': <pyquil.quilbase.DefWaveform at 0x7f1d60341f10>,\n",
       " 'q2_q15_cphase/sqrtCPHASE': <pyquil.quilbase.DefWaveform at 0x7f1d603720d0>,\n",
       " 'q2_q15_xy/sqrtiSWAP': <pyquil.quilbase.DefWaveform at 0x7f1d60372150>,\n",
       " 'q2_q3_cz/CZ': <pyquil.quilbase.DefWaveform at 0x7f1d60372110>,\n",
       " 'q2_q3_cphase/sqrtCPHASE': <pyquil.quilbase.DefWaveform at 0x7f1d603721d0>,\n",
       " 'q2_q3_xy/sqrtiSWAP': <pyquil.quilbase.DefWaveform at 0x7f1d60372190>,\n",
       " 'q20_q21_cz/CZ': <pyquil.quilbase.DefWaveform at 0x7f1d60372210>,\n",
       " 'q20_q21_cphase/sqrtCPHASE': <pyquil.quilbase.DefWaveform at 0x7f1d603722d0>,\n",
       " 'q20_q21_xy/sqrtiSWAP': <pyquil.quilbase.DefWaveform at 0x7f1d60372350>,\n",
       " 'q20_q27_cz/CZ': <pyquil.quilbase.DefWaveform at 0x7f1d60372310>,\n",
       " 'q20_q27_cphase/sqrtCPHASE': <pyquil.quilbase.DefWaveform at 0x7f1d603723d0>,\n",
       " 'q20_q27_xy/sqrtiSWAP': <pyquil.quilbase.DefWaveform at 0x7f1d60372450>,\n",
       " 'q21_q22_cz/CZ': <pyquil.quilbase.DefWaveform at 0x7f1d60372410>,\n",
       " 'q21_q22_cphase/sqrtCPHASE': <pyquil.quilbase.DefWaveform at 0x7f1d603724d0>,\n",
       " 'q21_q22_xy/sqrtiSWAP': <pyquil.quilbase.DefWaveform at 0x7f1d60372490>,\n",
       " 'q21_q36_cz/CZ': <pyquil.quilbase.DefWaveform at 0x7f1d60372510>,\n",
       " 'q21_q36_cphase/sqrtCPHASE': <pyquil.quilbase.DefWaveform at 0x7f1d603725d0>,\n",
       " 'q21_q36_xy/sqrtiSWAP': <pyquil.quilbase.DefWaveform at 0x7f1d60372590>,\n",
       " 'q22_q23_cz/CZ': <pyquil.quilbase.DefWaveform at 0x7f1d60372610>,\n",
       " 'q22_q23_cphase/sqrtCPHASE': <pyquil.quilbase.DefWaveform at 0x7f1d603726d0>,\n",
       " 'q22_q23_xy/sqrtiSWAP': <pyquil.quilbase.DefWaveform at 0x7f1d60372750>,\n",
       " 'q22_q35_cz/CZ': <pyquil.quilbase.DefWaveform at 0x7f1d60372710>,\n",
       " 'q22_q35_cphase/sqrtCPHASE': <pyquil.quilbase.DefWaveform at 0x7f1d603727d0>,\n",
       " 'q22_q35_xy/sqrtiSWAP': <pyquil.quilbase.DefWaveform at 0x7f1d60372850>,\n",
       " 'q23_q24_cz/CZ': <pyquil.quilbase.DefWaveform at 0x7f1d60372810>,\n",
       " 'q23_q24_cphase/sqrtCPHASE': <pyquil.quilbase.DefWaveform at 0x7f1d603728d0>,\n",
       " 'q23_q24_xy/sqrtiSWAP': <pyquil.quilbase.DefWaveform at 0x7f1d60372950>,\n",
       " 'q24_q25_cz/CZ': <pyquil.quilbase.DefWaveform at 0x7f1d60372910>,\n",
       " 'q24_q25_cphase/sqrtCPHASE': <pyquil.quilbase.DefWaveform at 0x7f1d603729d0>,\n",
       " 'q24_q25_xy/sqrtiSWAP': <pyquil.quilbase.DefWaveform at 0x7f1d60372990>,\n",
       " 'q25_q26_cz/CZ': <pyquil.quilbase.DefWaveform at 0x7f1d60372a10>,\n",
       " 'q25_q26_cphase/sqrtCPHASE': <pyquil.quilbase.DefWaveform at 0x7f1d60372ad0>,\n",
       " 'q25_q26_xy/sqrtiSWAP': <pyquil.quilbase.DefWaveform at 0x7f1d60372a90>,\n",
       " 'q26_q27_cz/CZ': <pyquil.quilbase.DefWaveform at 0x7f1d60372b10>,\n",
       " 'q26_q27_cphase/sqrtCPHASE': <pyquil.quilbase.DefWaveform at 0x7f1d60372bd0>,\n",
       " 'q26_q27_xy/sqrtiSWAP': <pyquil.quilbase.DefWaveform at 0x7f1d60372b90>,\n",
       " 'q3_q4_cz/CZ': <pyquil.quilbase.DefWaveform at 0x7f1d60372c10>,\n",
       " 'q3_q4_cphase/sqrtCPHASE': <pyquil.quilbase.DefWaveform at 0x7f1d60372cd0>,\n",
       " 'q3_q4_xy/sqrtiSWAP': <pyquil.quilbase.DefWaveform at 0x7f1d60372d50>,\n",
       " 'q30_q31_cz/CZ': <pyquil.quilbase.DefWaveform at 0x7f1d60372d10>,\n",
       " 'q30_q31_cphase/sqrtCPHASE': <pyquil.quilbase.DefWaveform at 0x7f1d60372dd0>,\n",
       " 'q30_q31_xy/sqrtiSWAP': <pyquil.quilbase.DefWaveform at 0x7f1d60372e50>,\n",
       " 'q30_q37_cz/CZ': <pyquil.quilbase.DefWaveform at 0x7f1d60372e10>,\n",
       " 'q30_q37_cphase/sqrtCPHASE': <pyquil.quilbase.DefWaveform at 0x7f1d60372ed0>,\n",
       " 'q30_q37_xy/sqrtiSWAP': <pyquil.quilbase.DefWaveform at 0x7f1d60372e90>,\n",
       " 'q31_q32_cz/CZ': <pyquil.quilbase.DefWaveform at 0x7f1d60372f10>,\n",
       " 'q31_q32_cphase/sqrtCPHASE': <pyquil.quilbase.DefWaveform at 0x7f1d60372fd0>,\n",
       " 'q31_q32_xy/sqrtiSWAP': <pyquil.quilbase.DefWaveform at 0x7f1d60372f90>,\n",
       " 'q32_q33_cz/CZ': <pyquil.quilbase.DefWaveform at 0x7f1d6032b050>,\n",
       " 'q32_q33_cphase/sqrtCPHASE': <pyquil.quilbase.DefWaveform at 0x7f1d6032b110>,\n",
       " 'q32_q33_xy/sqrtiSWAP': <pyquil.quilbase.DefWaveform at 0x7f1d6032b190>,\n",
       " 'q33_q34_cz/CZ': <pyquil.quilbase.DefWaveform at 0x7f1d6032b150>,\n",
       " 'q33_q34_cphase/sqrtCPHASE': <pyquil.quilbase.DefWaveform at 0x7f1d6032b210>,\n",
       " 'q33_q34_xy/sqrtiSWAP': <pyquil.quilbase.DefWaveform at 0x7f1d6032b1d0>,\n",
       " 'q34_q35_cz/CZ': <pyquil.quilbase.DefWaveform at 0x7f1d6032b250>,\n",
       " 'q34_q35_cphase/sqrtCPHASE': <pyquil.quilbase.DefWaveform at 0x7f1d6032b310>,\n",
       " 'q34_q35_xy/sqrtiSWAP': <pyquil.quilbase.DefWaveform at 0x7f1d6032b2d0>,\n",
       " 'q35_q36_cz/CZ': <pyquil.quilbase.DefWaveform at 0x7f1d6032b350>,\n",
       " 'q35_q36_cphase/sqrtCPHASE': <pyquil.quilbase.DefWaveform at 0x7f1d6032b410>,\n",
       " 'q35_q36_xy/sqrtiSWAP': <pyquil.quilbase.DefWaveform at 0x7f1d6032b490>,\n",
       " 'q36_q37_cz/CZ': <pyquil.quilbase.DefWaveform at 0x7f1d6032b450>,\n",
       " 'q36_q37_cphase/sqrtCPHASE': <pyquil.quilbase.DefWaveform at 0x7f1d6032b510>,\n",
       " 'q36_q37_xy/sqrtiSWAP': <pyquil.quilbase.DefWaveform at 0x7f1d6032b4d0>,\n",
       " 'q4_q5_cz/CZ': <pyquil.quilbase.DefWaveform at 0x7f1d6032b550>,\n",
       " 'q4_q5_cphase/sqrtCPHASE': <pyquil.quilbase.DefWaveform at 0x7f1d6032b610>,\n",
       " 'q4_q5_xy/sqrtiSWAP': <pyquil.quilbase.DefWaveform at 0x7f1d6032b5d0>,\n",
       " 'q5_q6_cz/CZ': <pyquil.quilbase.DefWaveform at 0x7f1d6032b650>,\n",
       " 'q5_q6_cphase/sqrtCPHASE': <pyquil.quilbase.DefWaveform at 0x7f1d6032b710>,\n",
       " 'q5_q6_xy/sqrtiSWAP': <pyquil.quilbase.DefWaveform at 0x7f1d6032b6d0>,\n",
       " 'q6_q7_cz/CZ': <pyquil.quilbase.DefWaveform at 0x7f1d6032b750>,\n",
       " 'q6_q7_cphase/sqrtCPHASE': <pyquil.quilbase.DefWaveform at 0x7f1d6032b810>,\n",
       " 'q6_q7_xy/sqrtiSWAP': <pyquil.quilbase.DefWaveform at 0x7f1d6032b7d0>}"
      ]
     },
     "execution_count": 6,
     "metadata": {},
     "output_type": "execute_result"
    }
   ],
   "source": [
    "cals.waveforms"
   ]
  },
  {
   "cell_type": "markdown",
   "metadata": {},
   "source": [
    "Here is what one of these definitions looks like."
   ]
  },
  {
   "cell_type": "code",
   "execution_count": 7,
   "metadata": {},
   "outputs": [
    {
     "name": "stdout",
     "output_type": "stream",
     "text": [
      "DEFWAVEFORM q0_q7_cz/CZ:\n",
      "    0.0, 0.0, 0.0, 0.0, 0.0, 0.0, 0.0, 0.0, 0.00012178364559662996, 0.0017544499272112704, 0.013457291321491907, 0.0568509693447061, 0.1403395097840485, 0.22382805022339092, 0.26722172824660506, 0.27892456964088574, 0.28055723592250037, 0.2806746072122791, 0.2806789371383469, 0.28067901878029905, 0.28067901956426555, 0.28067901956808755, 0.280679019568097, 0.280679019568097, 0.280679019568097, 0.280679019568097, 0.280679019568097, 0.280679019568097, 0.280679019568097, 0.280679019568097, 0.280679019568097, 0.280679019568097, 0.280679019568097, 0.280679019568097, 0.280679019568097, 0.280679019568097, 0.280679019568097, 0.280679019568097, 0.280679019568097, 0.280679019568097, 0.280679019568097, 0.280679019568097, 0.280679019568097, 0.280679019568097, 0.280679019568097, 0.280679019568097, 0.280679019568097, 0.280679019568097, 0.280679019568097, 0.280679019568097, 0.280679019568097, 0.280679019568097, 0.280679019568097, 0.280679019568097, 0.280679019568097, 0.280679019568097, 0.280679019568097, 0.280679019568097, 0.280679019568097, 0.280679019568097, 0.280679019568097, 0.280679019568097, 0.280679019568097, 0.280679019568097, 0.280679019568097, 0.280679019568097, 0.280679019568097, 0.280679019568097, 0.280679019568097, 0.280679019568097, 0.280679019568097, 0.280679019568097, 0.280679019568097, 0.280679019568097, 0.280679019568097, 0.280679019568097, 0.280679019568097, 0.280679019568097, 0.280679019568097, 0.280679019568097, 0.280679019568097, 0.280679019568097, 0.280679019568097, 0.280679019568097, 0.280679019568097, 0.280679019568097, 0.280679019568097, 0.280679019568097, 0.280679019568097, 0.280679019568097, 0.280679019568097, 0.280679019568097, 0.280679019568097, 0.280679019568097, 0.280679019568097, 0.280679019568097, 0.280679019568097, 0.280679019568097, 0.280679019568097, 0.280679019568097, 0.280679019568097, 0.280679019568097, 0.280679019568097, 0.280679019568097, 0.280679019568097, 0.280679019568097, 0.280679019568097, 0.280679019568097, 0.280679019568097, 0.280679019568097, 0.280679019568097, 0.280679019568097, 0.280679019568097, 0.280679019568097, 0.280679019568097, 0.280679019568097, 0.280679019568097, 0.280679019568097, 0.280679019568097, 0.280679019568097, 0.280679019568097, 0.280679019568097, 0.280679019568097, 0.280679019568097, 0.280679019568097, 0.280679019568097, 0.280679019568097, 0.280679019568097, 0.280679019568097, 0.280679019568097, 0.280679019568097, 0.28067901956808755, 0.28067901956426555, 0.28067901878029905, 0.2806789371383469, 0.2806746072122791, 0.28055723592250037, 0.27892456964088574, 0.26722172824660495, 0.2238280502233906, 0.14033950978404605, 0.05685096934470464, 0.013457291321491488, 0.0017544499272112081, 0.0, 0.0, 0.0, 0.0, 0.0, 0.0, 0.0, 0.0, 0.0, 0.0, 0.0, 0.0\n"
     ]
    }
   ],
   "source": [
    "print(next(iter(cals.waveforms.values()), None))"
   ]
  },
  {
   "cell_type": "markdown",
   "metadata": {},
   "source": [
    "## Compiling and running a Quil-T Program\n",
    "\n",
    "\n",
    "There are three ways to access the compiler from pyQuil:\n",
    "\n",
    "* `qc.compile` is the usual pipeline, and **only works for Quil code**\n",
    "* `qc.compiler.quil_to_native_quil` is the entry point for compiling Quil to native Quil\n",
    "* `qc.compiler.native_quil_to_executable` is the entry point for compiling **Quil-T** programs\n",
    "\n",
    "In particular, the usual workflow of just delegating to `qc.compile` does not currently work with Quil-T. If you wish to use Quil-T right now, your workflow should involve\n",
    "1. calling `qc.compiler.quil_to_native_quil` on code blocks which do not involve Quil-T or Quil-T calibrations\n",
    "2. subsequently calling `qc.compiler.native_quil_to_executable` on blocks involving Quil-T"
   ]
  },
  {
   "cell_type": "markdown",
   "metadata": {},
   "source": [
    "### Compiling Quil Programs\n",
    "\n",
    "`qc.compiler.native_quil_to_executable` requires native Quil + Quil-T operations. In particular, it is assumed that the only gates used are those Rigetti native gates, or ones for which you have provided explicit calibrations. For example, the program below expresses\n",
    "\n",
    "```\n",
    "DECLARE ro BIT\n",
    "H 0\n",
    "CNOT 0 1\n",
    "MEASURE 0 ro\n",
    "```\n",
    "\n",
    "using Rigetti native gates by first using `qc.compiler.quil_to_native_quil`."
   ]
  },
  {
   "cell_type": "code",
   "execution_count": 8,
   "metadata": {
    "scrolled": true
   },
   "outputs": [],
   "source": [
    "prog = Program(\n",
    "    'DECLARE ro BIT',\n",
    "    'H 0',\n",
    "    'CNOT 0 1',\n",
    "    'MEASURE 0 ro'\n",
    ")\n",
    "compiled = qc.compiler.quil_to_native_quil(prog)"
   ]
  },
  {
   "cell_type": "code",
   "execution_count": 9,
   "metadata": {},
   "outputs": [],
   "source": [
    "exe = qc.compiler.native_quil_to_executable(compiled)"
   ]
  },
  {
   "cell_type": "markdown",
   "metadata": {},
   "source": [
    "**Note**: The above compilation may be done even when not on an active QPU reservation. However,\n",
    "\n",
    "* as always, the executable cannot be run until on an active QPU reservation\n",
    "* the QPU settings used for compilation may go stale\n",
    "\n",
    "Therefore, we suggest that although you may rely on `qc.compiler.native_quil_to_executable` for development purposes (for example, to verify correct Quil-T syntax), when executing on a QPU all Quil-T programs should be compiled afresh.\n",
    "\n",
    "Running the executable proceeds as before:"
   ]
  },
  {
   "cell_type": "code",
   "execution_count": 10,
   "metadata": {},
   "outputs": [
    {
     "data": {
      "text/plain": [
       "array([[0]])"
      ]
     },
     "execution_count": 10,
     "metadata": {},
     "output_type": "execute_result"
    }
   ],
   "source": [
    "qc.run(exe)"
   ]
  },
  {
   "cell_type": "markdown",
   "metadata": {},
   "source": [
    "### Another example: a simple T1 experiment\n",
    "\n",
    "As an example of mixing Quil with the new Quil-T instructions, we consider a simple T1 experiment. In short, we\n",
    "\n",
    "1. excite the qubit state\n",
    "2. wait some amount of time\n",
    "3. measure out\n",
    "\n",
    "In this example, we do not do any further data analysis. The purpose here is simply to demonstrate how to compile and run a Quil-T program."
   ]
  },
  {
   "cell_type": "code",
   "execution_count": 11,
   "metadata": {},
   "outputs": [],
   "source": [
    "def t1_program(time, qubit, num_shots=1000):\n",
    "    prog = Program( \"DECLARE ro BIT\\n\"\n",
    "                   f\"RX(pi) {qubit}\\n\"\n",
    "                   f\"FENCE 0\\n\"\n",
    "                   f\"DELAY {qubit} {time}\\n\"\n",
    "                   f\"MEASURE {qubit} ro\")\n",
    "    prog.wrap_in_numshots_loop(num_shots)\n",
    "    return prog"
   ]
  },
  {
   "cell_type": "code",
   "execution_count": 12,
   "metadata": {
    "scrolled": true
   },
   "outputs": [
    {
     "name": "stdout",
     "output_type": "stream",
     "text": [
      "time: 2.00e-08 \tprob: 0.97\n",
      "time: 3.88e-08 \tprob: 0.97\n",
      "time: 7.54e-08 \tprob: 0.97\n",
      "time: 1.47e-07 \tprob: 0.95\n",
      "time: 2.85e-07 \tprob: 0.92\n",
      "time: 5.53e-07 \tprob: 0.94\n",
      "time: 1.07e-06 \tprob: 0.9\n",
      "time: 2.08e-06 \tprob: 0.86\n",
      "time: 4.05e-06 \tprob: 0.77\n",
      "time: 7.86e-06 \tprob: 0.64\n",
      "time: 1.53e-05 \tprob: 0.45\n",
      "time: 2.96e-05 \tprob: 0.25\n",
      "time: 5.76e-05 \tprob: 0.17\n",
      "time: 1.12e-04 \tprob: 0.16\n",
      "time: 2.17e-04 \tprob: 0.17\n",
      "time: 4.22e-04 \tprob: 0.16\n",
      "time: 8.19e-04 \tprob: 0.17\n",
      "time: 1.59e-03 \tprob: 0.14\n",
      "time: 3.09e-03 \tprob: 0.16\n",
      "time: 6.00e-03 \tprob: 0.14\n"
     ]
    }
   ],
   "source": [
    "import numpy as np\n",
    "\n",
    "probs = []\n",
    "\n",
    "times = np.geomspace(20e-9, 60e-4, 20)\n",
    "for time in times:\n",
    "    prog = t1_program(time, 0)\n",
    "    exe = qc.compiler.native_quil_to_executable(prog)\n",
    "    results = qc.run(exe)\n",
    "    prob = np.sum(results) / results.size\n",
    "    probs.append(prob)\n",
    "    print(f\"time: {time:.2e} \\tprob: {prob:.2}\")"
   ]
  },
  {
   "cell_type": "code",
   "execution_count": 13,
   "metadata": {},
   "outputs": [
    {
     "data": {
      "image/png": "[encoded data removed]",
      "text/plain": [
       "<Figure size 432x288 with 1 Axes>"
      ]
     },
     "metadata": {
      "needs_background": "light"
     },
     "output_type": "display_data"
    }
   ],
   "source": [
    "%matplotlib inline\n",
    "import matplotlib.pyplot as plt\n",
    "\n",
    "plt.semilogx(times, probs, '-')\n",
    "plt.xlabel('time (s)')\n",
    "plt.ylabel('p')\n",
    "plt.show()"
   ]
  },
  {
   "cell_type": "markdown",
   "metadata": {},
   "source": [
    "### Using a Custom Calibration\n",
    "\n",
    "All gate and measure applications in a Quil-T program are translated according to either user-supplied or Rigetti calibrations. To easily check which calibration applies to a specific gate, use the `Program.match_calibrations` method."
   ]
  },
  {
   "cell_type": "code",
   "execution_count": 14,
   "metadata": {},
   "outputs": [
    {
     "name": "stdout",
     "output_type": "stream",
     "text": [
      "DEFCAL RX(pi) 0:\n",
      "    FENCE 0\n",
      "    NONBLOCKING PULSE 0 \"rf\" drag_gaussian(duration: 1.2e-07, fwhm: 3e-08, t0: 6e-08, anh: -190000000.0, alpha: -0.5128791143256078, scale: 0.63376686965814, phase: 0.0, detuning: 0.0)\n",
      "    FENCE 0\n",
      "\n"
     ]
    }
   ],
   "source": [
    "from math import pi\n",
    "from pyquil.gates import RX\n",
    "\n",
    "print(cals.get_calibration(RX(pi, 0)))"
   ]
  },
  {
   "cell_type": "markdown",
   "metadata": {},
   "source": [
    "None of the above programs needed us to specify calibrations. By default, the Rigetti native calibrations are used. However, if you specify a calibration in a program, it will take precedence over the native calibrations."
   ]
  },
  {
   "cell_type": "code",
   "execution_count": 15,
   "metadata": {},
   "outputs": [],
   "source": [
    "prog = t1_program(1e-6, 0)\n",
    "\n",
    "# Note: we did NOT specify a calibration for RX(pi) 0 in our previous program\n",
    "assert prog.match_calibrations(RX(pi, 0)) is None\n",
    "# The Quil-T translator provided the default: namely, the same calibration we obtained for ourselves\n",
    "# with `qc.compiler.get_calibration_program()`."
   ]
  },
  {
   "cell_type": "markdown",
   "metadata": {},
   "source": [
    "In the example below, we use a custom calibration, we conjugate the usual pulse with a frequency shift. There's no motivation for the particular value used, beyond simply showing what is possible."
   ]
  },
  {
   "cell_type": "code",
   "execution_count": 16,
   "metadata": {},
   "outputs": [
    {
     "name": "stdout",
     "output_type": "stream",
     "text": [
      "DEFCAL RX(pi/2) 0:\n",
      "    FENCE 0\n",
      "    SET-SCALE 0 \"rf\" 0.353088482172993\n",
      "    SHIFT-FREQUENCY 0 \"rf\" 1000000.0\n",
      "    NONBLOCKING PULSE 0 \"rf\" drag_gaussian(duration: 6.000000000000001e-08, fwhm: 1.5000000000000002e-08, t0: 3.0000000000000004e-08, anh: -210000000.0, alpha: 6.389096630631076)\n",
      "    SHIFT-FREQUENCY 0 \"rf\" -1000000.0\n",
      "    FENCE 0\n",
      "\n",
      "DECLARE ro BIT[1]\n",
      "RX(pi/2) 0\n",
      "MEASURE 0 ro[0]\n",
      "\n"
     ]
    }
   ],
   "source": [
    "prog = Program(\"\"\"DEFCAL RX(pi/2) 0:\n",
    "    FENCE 0\n",
    "    SET-SCALE 0 \"rf\" 0.353088482172993\n",
    "    SHIFT-FREQUENCY 0 \"rf\" 1e6\n",
    "    NONBLOCKING PULSE 0 \"rf\" drag_gaussian(duration: 6.000000000000001e-08, fwhm: 1.5000000000000002e-08, t0: 3.0000000000000004e-08, anh: -210000000.0, alpha: 6.389096630631076)\n",
    "    SHIFT-FREQUENCY 0 \"rf\" -1e6\n",
    "    FENCE 0\n",
    "\n",
    "DECLARE ro BIT\n",
    "RX(pi/2) 0\n",
    "MEASURE 0 ro\"\"\")\n",
    "print(prog)"
   ]
  },
  {
   "cell_type": "code",
   "execution_count": 17,
   "metadata": {},
   "outputs": [
    {
     "name": "stdout",
     "output_type": "stream",
     "text": [
      "DEFCAL RX(pi/2) 0:\n",
      "    FENCE 0\n",
      "    SET-SCALE 0 \"rf\" 0.353088482172993\n",
      "    SHIFT-FREQUENCY 0 \"rf\" 1000000.0\n",
      "    NONBLOCKING PULSE 0 \"rf\" drag_gaussian(duration: 6.000000000000001e-08, fwhm: 1.5000000000000002e-08, t0: 3.0000000000000004e-08, anh: -210000000.0, alpha: 6.389096630631076)\n",
      "    SHIFT-FREQUENCY 0 \"rf\" -1000000.0\n",
      "    FENCE 0\n",
      "\n"
     ]
    }
   ],
   "source": [
    "print(prog.get_calibration(RX(pi/2, 0)))"
   ]
  },
  {
   "cell_type": "code",
   "execution_count": 18,
   "metadata": {},
   "outputs": [],
   "source": [
    "exe = qc.compiler.native_quil_to_executable(prog)"
   ]
  },
  {
   "cell_type": "code",
   "execution_count": 19,
   "metadata": {},
   "outputs": [
    {
     "data": {
      "text/plain": [
       "array([[1]])"
      ]
     },
     "execution_count": 19,
     "metadata": {},
     "output_type": "execute_result"
    }
   ],
   "source": [
    "qc.run(exe)"
   ]
  },
  {
   "cell_type": "markdown",
   "metadata": {},
   "source": [
    "Of course, it is not required to use calibrations. One can construct an equivalent program by replacing the `RX` gate with the body of the calibration:"
   ]
  },
  {
   "cell_type": "code",
   "execution_count": 20,
   "metadata": {},
   "outputs": [],
   "source": [
    "prog = Program(\"\"\"\n",
    "DECLARE ro BIT\n",
    "FENCE 0\n",
    "SET-SCALE 0 \"rf\" 0.353088482172993\n",
    "SHIFT-FREQUENCY 0 \"rf\" 1e6\n",
    "NONBLOCKING PULSE 0 \"rf\" drag_gaussian(duration: 6.000000000000001e-08, fwhm: 1.5000000000000002e-08, t0: 3.0000000000000004e-08, anh: -210000000.0, alpha: 6.389096630631076)\n",
    "SHIFT-FREQUENCY 0 \"rf\" -1e6\n",
    "FENCE 0\n",
    "MEASURE 0 ro\n",
    "\"\"\".strip())"
   ]
  },
  {
   "cell_type": "code",
   "execution_count": 21,
   "metadata": {},
   "outputs": [],
   "source": [
    "exe = qc.compiler.native_quil_to_executable(prog)"
   ]
  },
  {
   "cell_type": "code",
   "execution_count": 22,
   "metadata": {},
   "outputs": [
    {
     "data": {
      "text/plain": [
       "array([[0]])"
      ]
     },
     "execution_count": 22,
     "metadata": {},
     "output_type": "execute_result"
    }
   ],
   "source": [
    "qc.run(exe)"
   ]
  },
  {
   "cell_type": "markdown",
   "metadata": {},
   "source": [
    "#### Parametric Calibrations"
   ]
  },
  {
   "cell_type": "markdown",
   "metadata": {},
   "source": [
    "Some calibrations (e.g. for `RX`) are defined for specific parameter values. Others may depend on general symbolic values, as with `RZ`."
   ]
  },
  {
   "cell_type": "code",
   "execution_count": 23,
   "metadata": {},
   "outputs": [
    {
     "name": "stdout",
     "output_type": "stream",
     "text": [
      "DEFCAL RZ(%theta) 0:\n",
      "    FENCE 0\n",
      "    SHIFT-PHASE 0 \"rf\" -1.0*%theta\n",
      "    SHIFT-PHASE 0 7 \"xy\" -0.5*%theta\n",
      "    FENCE 0\n",
      "\n"
     ]
    }
   ],
   "source": [
    "from pyquil.gates import RZ\n",
    "\n",
    "print(cals.get_calibration(RZ(pi,0)))"
   ]
  },
  {
   "cell_type": "markdown",
   "metadata": {},
   "source": [
    "To get more information about how the matching calibration applies to a specific gate, use `Program.match_calibrations`. The result is a `CalibrationMatch` object which indicates not just the calibration, but the value for parameters."
   ]
  },
  {
   "cell_type": "code",
   "execution_count": 24,
   "metadata": {},
   "outputs": [
    {
     "name": "stdout",
     "output_type": "stream",
     "text": [
      "DEFCAL RZ(%theta) 0:\n",
      "    FENCE 0\n",
      "    SHIFT-PHASE 0 \"rf\" -1.0*%theta\n",
      "    SHIFT-PHASE 0 7 \"xy\" -0.5*%theta\n",
      "    FENCE 0\n",
      "\n",
      "{Parameter('theta'): 3.141592653589793}\n"
     ]
    }
   ],
   "source": [
    "match = cals.match_calibrations(RZ(pi,0))\n",
    "print(match.cal)\n",
    "print(match.settings)"
   ]
  },
  {
   "cell_type": "markdown",
   "metadata": {},
   "source": [
    "You may conveniently recover the body of the calibration, with the matched parameters substituted, using `Program.calibrate`."
   ]
  },
  {
   "cell_type": "code",
   "execution_count": 25,
   "metadata": {},
   "outputs": [
    {
     "name": "stdout",
     "output_type": "stream",
     "text": [
      "FENCE 0\n",
      "SHIFT-PHASE 0 \"rf\" -3.141592653589793\n",
      "SHIFT-PHASE 0 7 \"xy\" -1.5707963267948966\n",
      "FENCE 0\n"
     ]
    }
   ],
   "source": [
    "instrs = cals.calibrate(RZ(pi,0))\n",
    "for instr in instrs:\n",
    "    print(instr)"
   ]
  },
  {
   "cell_type": "markdown",
   "metadata": {},
   "source": [
    "### Non-Native Gates\n",
    "As mentioned above, the `qc.compiler.native_quil_to_executable` call will provide calibrations for Rigetti native gates, if they are not provided by a user. However, a program with non-native gates and no corresponding user-provided calibrations will result in a compilation failure."
   ]
  },
  {
   "cell_type": "code",
   "execution_count": 26,
   "metadata": {},
   "outputs": [
    {
     "name": "stdout",
     "output_type": "stream",
     "text": [
      "Fails on non-native operations {H, CNOT} as expected.\n"
     ]
    }
   ],
   "source": [
    "prog = Program(\"DECLARE ro BIT\\n\"\n",
    "               \"H 0\\n\"\n",
    "               \"CNOT 0 1\\n\"\n",
    "               \"MEASURE 0 ro\")\n",
    "\n",
    "try:\n",
    "    qc.compiler.native_quil_to_executable(prog)\n",
    "except Exception as e:\n",
    "    print(\"Fails on non-native operations {H, CNOT} as expected.\")"
   ]
  }
 ],
 "metadata": {
  "kernelspec": {
   "display_name": "Python 3",
   "language": "python",
   "name": "python3"
  },
  "language_info": {
   "codemirror_mode": {
    "name": "ipython",
    "version": 3
   },
   "file_extension": ".py",
   "mimetype": "text/x-python",
   "name": "python",
   "nbconvert_exporter": "python",
   "pygments_lexer": "ipython3",
   "version": "3.7.6"
  },
  "toc": {
   "base_numbering": 1,
   "nav_menu": {},
   "number_sections": true,
   "sideBar": true,
   "skip_h1_title": false,
   "title_cell": "Table of Contents",
   "title_sidebar": "Contents",
   "toc_cell": false,
   "toc_position": {},
   "toc_section_display": true,
   "toc_window_display": false
  }
 },
 "nbformat": 4,
 "nbformat_minor": 4
}