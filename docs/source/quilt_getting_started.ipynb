{
 "cells": [
  {
   "cell_type": "markdown",
   "metadata": {},
   "source": [
    "# Getting up and running with Quil-T\n",
    "\n",
    "## Language Documentation\n",
    "\n",
    "See the [Quil specification](https://quil-lang.github.io/#12Annex-T--Pulse-Level-Control) for documentation on the Quil-T language"
   ]
  },
  {
   "cell_type": "markdown",
   "metadata": {},
   "source": [
    "## Construct a `QuantumComputer` object linked to the Quil-T compiler"
   ]
  },
  {
   "cell_type": "code",
   "execution_count": 1,
   "metadata": {},
   "outputs": [],
   "source": [
    "from pyquil import Program, get_qc\n",
    "qc = get_qc(\"Aspen-M-3\")"
   ]
  },
  {
   "cell_type": "markdown",
   "metadata": {},
   "source": [
    "As a sanity check, the following call should work."
   ]
  },
  {
   "cell_type": "code",
   "execution_count": 2,
   "metadata": {},
   "outputs": [
    {
     "data": {
      "text/plain": [
       "{'quilc': '1.26.0'}"
      ]
     },
     "execution_count": 2,
     "metadata": {},
     "output_type": "execute_result"
    }
   ],
   "source": [
    "qc.compiler.get_version_info()"
   ]
  },
  {
   "cell_type": "markdown",
   "metadata": {},
   "source": [
    "## Get Quil-T Calibrations\n",
    "\n",
    "A production QPU has a set of calibrations associated with it. These include frame definitions, gate and measurement calibrations, and custom waveforms. Below we show how to get the default calibrations."
   ]
  },
  {
   "cell_type": "code",
   "execution_count": 3,
   "metadata": {},
   "outputs": [],
   "source": [
    "cals = qc.compiler.get_calibration_program()"
   ]
  },
  {
   "cell_type": "markdown",
   "metadata": {},
   "source": [
    "The `calibration_program` property of `QPUCompiler` provides *cached* access to the QPU calibration information. Upon first using this property a request will be made for the calibration information and may take some time to complete. Subsequent usage of this property will use the cached calibrations and thus will be instantaneous. It should be noted therefore that calibrations **will vary with time** and should be **regularly refreshed** though the specifics of when to refresh the calibrations is left as an exercise for the user. See `QPUCompiler#refresh_calibration_program`."
   ]
  },
  {
   "cell_type": "markdown",
   "metadata": {},
   "source": [
    "### Frame Definitions\n",
    "\n",
    "Frame definitions correspond to specific hardware channels. These have a name (e.g. `0 \"ro_rx\"` for the hardware readout receive channel on Qubit 0), and some metadata (DAC sample rate, initial frame frequency, and a direction).\n",
    "\n",
    "**Note**: These are fixed and should not be edited. If you wish to set a frame's frequency to one different from its initial frequency, your Quil-T program should use `SET-FREQUENCY` (for an absolute value) or `SHIFT-FREQUENCY` (for a relative shift)."
   ]
  },
  {
   "cell_type": "code",
   "execution_count": 4,
   "metadata": {},
   "outputs": [
    {
     "name": "stdout",
     "output_type": "stream",
     "text": [
      "DEFFRAME 111 112 \"cz\":\n",
      "\tDIRECTION: \"tx\"\n",
      "\tINITIAL-FREQUENCY: 335285390.8518622\n",
      "\tCENTER-FREQUENCY: 375000000\n",
      "\tSAMPLE-RATE: 1000000000\n",
      "\tHARDWARE-OBJECT: \"q112_ff\"\n"
     ]
    }
   ],
   "source": [
    "from pyquil.quilatom import Frame\n",
    "\n",
    "# Look for CZ frames.\n",
    "cz_frames = filter(lambda f: f[0].name == \"cz\", cals.frames.items())\n",
    "# The first elt is the frame (of type Frame) and the second elt is\n",
    "# the frame definition (of type DefFrame).\n",
    "print(next(cz_frames)[1])"
   ]
  },
  {
   "cell_type": "markdown",
   "metadata": {},
   "source": [
    "### Gate Calibrations\n",
    "\n",
    "Gate and Measurement calibrations present the current Quil-T specification of Rigetti's native gates. "
   ]
  },
  {
   "cell_type": "code",
   "execution_count": 5,
   "metadata": {},
   "outputs": [
    {
     "name": "stdout",
     "output_type": "stream",
     "text": [
      "1230 total calibrations, peeking at first two:\n",
      "\n",
      "DEFCAL I %q:\n",
      "\tDELAY q 4e-8\n",
      "DEFCAL RX(pi/2) 0:\n",
      "\tFENCE 0\n",
      "\tNONBLOCKING PULSE 0 \"rf\" drag_gaussian(alpha: 0.3183552471062913, anh: -220655329.522463, detuning: -321047.14178613486, duration: 2.4000000000000003e-8, fwhm: 6.000000000000001e-9, phase: 0, scale: 0.293772761206776, t0: 1.2000000000000002e-8)\n",
      "\tFENCE 0\n"
     ]
    }
   ],
   "source": [
    "print(len(cals.calibrations), \"total calibrations, peeking at first two:\\n\")\n",
    "for defn in cals.calibrations[:2]:\n",
    "    print(defn)"
   ]
  },
  {
   "cell_type": "markdown",
   "metadata": {},
   "source": [
    "### Waveform Definitions\n",
    "\n",
    "Certain gates (e.g. `RX` gates above) use template waveforms. Others, notably `CZ` gates, use custom waveforms. The `waveforms` member maps waveform names to their definitions."
   ]
  },
  {
   "cell_type": "markdown",
   "metadata": {},
   "source": [
    "Here is what one of these definitions looks like."
   ]
  },
  {
   "cell_type": "code",
   "execution_count": 6,
   "metadata": {},
   "outputs": [
    {
     "name": "stdout",
     "output_type": "stream",
     "text": [
      "DEFWAVEFORM q0_q103_cphase/sqrtCPHASE:\n",
      "\t0, 0, 0, 0, 0, 0, 0, 0, 0.00016140365893729274, 0.0006638156567620885, 0.0023252271377397662, 0.006955991101434095, 0.01783536736835849, 0.03938036134796462, 0.07534636051838922, 0.12595803048478235, 0.1859963237398621, 0.2460346169949419, 0.296646286961335, 0.3326122861317597, 0.35415728011136577, 0.36503665637829014, 0.36966742034198447, 0.37132883182296217, 0.371831243820787, 0.37195929423950663, 0.37198679964711867, 0.3719917787062675, 0.3719925382330088, 0.37199263586195475, 0.371992646435631, 0.371992647400474, 0.3719926474746463, 0.3719926474794497, 0.3719926474797117, 0.37199264747972377, 0.3719926474797242, 0.3719926474797242, 0.3719926474797242, 0.3719926474797242, 0.3719926474797242, 0.3719926474797242, 0.3719926474797242, 0.3719926474797242, 0.37199264747972377, 0.3719926474797117, 0.3719926474794497, 0.3719926474746463, 0.371992647400474, 0.371992646435631, 0.37199263586195475, 0.3719925382330088, 0.3719917787062675, 0.37198679964711867, 0.37195929423950663, 0.371831243820787, 0.37132883182296217, 0.3696674203419845, 0.36503665637829014, 0.3541572801113659, 0.33261228613175986, 0.29664628696133527, 0.24603461699494242, 0.18599632373986255, 0.1259580304847826, 0.0753463605183896, 0.03938036134796485, 0.017835367368358553, 0.006955991101434095, 0.0023252271377397662, 0.0006638156567621092, 0, 0, 0, 0, 0, 0, 0, 0, 0\n"
     ]
    }
   ],
   "source": [
    "print(next(iter(cals.waveforms.values()), None))"
   ]
  },
  {
   "cell_type": "markdown",
   "metadata": {},
   "source": [
    "## Compiling and running a Quil-T Program\n",
    "\n",
    "\n",
    "There are three ways to access the compiler from pyQuil:\n",
    "\n",
    "* `qc.compile` is the usual pipeline, and **only works for Quil code**\n",
    "* `qc.compiler.quil_to_native_quil` is the entry point for compiling Quil to native Quil\n",
    "* `qc.compiler.native_quil_to_executable` is the entry point for compiling **Quil-T** programs\n",
    "\n",
    "In particular, the usual workflow of just delegating to `qc.compile` does not currently work with Quil-T. If you wish to use Quil-T right now, your workflow should involve\n",
    "1. calling `qc.compiler.quil_to_native_quil` on code blocks which do not involve Quil-T or Quil-T calibrations\n",
    "2. subsequently calling `qc.compiler.native_quil_to_executable` on blocks involving Quil-T"
   ]
  },
  {
   "cell_type": "markdown",
   "metadata": {},
   "source": [
    "### Compiling Quil Programs\n",
    "\n",
    "`qc.compiler.native_quil_to_executable` requires native Quil + Quil-T operations. In particular, it is assumed that the only gates used are those Rigetti native gates, or ones for which you have provided explicit calibrations. For example, the program below expresses\n",
    "\n",
    "```\n",
    "DECLARE ro BIT\n",
    "H 0\n",
    "CNOT 0 1\n",
    "MEASURE 0 ro\n",
    "```\n",
    "\n",
    "using Rigetti native gates by first using `qc.compiler.quil_to_native_quil`."
   ]
  },
  {
   "cell_type": "code",
   "execution_count": 7,
   "metadata": {
    "scrolled": true
   },
   "outputs": [],
   "source": [
    "prog = Program(\n",
    "    'DECLARE ro BIT',\n",
    "    'H 0',\n",
    "    'CNOT 0 1',\n",
    "    'MEASURE 0 ro'\n",
    ")\n",
    "compiled = qc.compiler.quil_to_native_quil(prog)"
   ]
  },
  {
   "cell_type": "code",
   "execution_count": 8,
   "metadata": {},
   "outputs": [],
   "source": [
    "exe = qc.compiler.native_quil_to_executable(compiled)"
   ]
  },
  {
   "cell_type": "markdown",
   "metadata": {},
   "source": [
    "**Note**: The above compilation may be done even at any time, however, the QPU settings used for compilation may go stale. Therefore, we suggest that although you may rely on `qc.compiler.native_quil_to_executable` for development purposes (for example, to verify correct Quil-T syntax), when executing on a QPU all Quil-T programs should be compiled afresh.\n",
    "\n",
    "Running the executable proceeds as before:"
   ]
  },
  {
   "cell_type": "code",
   "execution_count": 9,
   "metadata": {},
   "outputs": [
    {
     "data": {
      "text/plain": [
       "{'ro': array([[1]])}"
      ]
     },
     "execution_count": 9,
     "metadata": {},
     "output_type": "execute_result"
    }
   ],
   "source": [
    "result = qc.run(exe)\n",
    "result.get_register_map()"
   ]
  },
  {
   "cell_type": "markdown",
   "metadata": {},
   "source": [
    "### Another example: a simple T1 experiment\n",
    "\n",
    "As an example of mixing Quil with the new Quil-T instructions, we consider a simple T1 experiment. In short, we\n",
    "\n",
    "1. excite the qubit state\n",
    "2. wait some amount of time\n",
    "3. measure out\n",
    "\n",
    "In this example, we do not do any further data analysis. The purpose here is simply to demonstrate how to compile and run a Quil-T program."
   ]
  },
  {
   "cell_type": "code",
   "execution_count": 10,
   "metadata": {},
   "outputs": [],
   "source": [
    "def t1_program(time, qubit, num_shots=1000):\n",
    "    prog = Program( \"DECLARE ro BIT\\n\"\n",
    "                   f\"RX(pi) {qubit}\\n\"\n",
    "                   f\"FENCE 0\\n\"\n",
    "                   f\"DELAY {qubit} {time}\\n\"\n",
    "                   f\"MEASURE {qubit} ro\")\n",
    "    prog.wrap_in_numshots_loop(num_shots)\n",
    "    return prog"
   ]
  },
  {
   "cell_type": "code",
   "execution_count": 11,
   "metadata": {
    "scrolled": true
   },
   "outputs": [
    {
     "name": "stdout",
     "output_type": "stream",
     "text": [
      "time: 2.00e-08 \tprob: 0.92\n",
      "time: 3.88e-08 \tprob: 0.92\n",
      "time: 7.54e-08 \tprob: 0.91\n",
      "time: 1.47e-07 \tprob: 0.9\n",
      "time: 2.85e-07 \tprob: 0.85\n",
      "time: 5.53e-07 \tprob: 0.81\n",
      "time: 1.07e-06 \tprob: 0.68\n",
      "time: 2.08e-06 \tprob: 0.66\n",
      "time: 4.05e-06 \tprob: 0.48\n",
      "time: 7.86e-06 \tprob: 0.38\n",
      "time: 1.53e-05 \tprob: 0.23\n",
      "time: 2.96e-05 \tprob: 0.11\n",
      "time: 5.76e-05 \tprob: 0.084\n",
      "time: 1.12e-04 \tprob: 0.074\n",
      "time: 2.17e-04 \tprob: 0.068\n",
      "time: 4.22e-04 \tprob: 0.068\n",
      "time: 8.19e-04 \tprob: 0.079\n",
      "time: 1.59e-03 \tprob: 0.08\n",
      "time: 3.09e-03 \tprob: 0.094\n",
      "time: 6.00e-03 \tprob: 0.079\n"
     ]
    }
   ],
   "source": [
    "import numpy as np\n",
    "\n",
    "probs = []\n",
    "\n",
    "times = np.geomspace(20e-9, 60e-4, 20)\n",
    "for time in times:\n",
    "    prog = t1_program(time, 0)\n",
    "    exe = qc.compiler.native_quil_to_executable(prog)\n",
    "    results = qc.run(exe).get_register_map().get(\"ro\")\n",
    "    prob = np.sum(results) / results.size\n",
    "    probs.append(prob)\n",
    "    print(f\"time: {time:.2e} \\tprob: {prob:.2}\")"
   ]
  },
  {
   "cell_type": "code",
   "execution_count": 12,
   "metadata": {},
   "outputs": [
    {
     "data": {
      "image/png": "[encoded data removed]",
      "text/plain": [
       "<Figure size 640x480 with 1 Axes>"
      ]
     },
     "metadata": {},
     "output_type": "display_data"
    }
   ],
   "source": [
    "%matplotlib inline\n",
    "import matplotlib.pyplot as plt\n",
    "\n",
    "plt.semilogx(times, probs, '-')\n",
    "plt.xlabel('time (s)')\n",
    "plt.ylabel('p')\n",
    "plt.show()"
   ]
  },
  {
   "cell_type": "markdown",
   "metadata": {},
   "source": [
    "### Using a Custom Calibration\n",
    "\n",
    "All gate and measure applications in a Quil-T program are translated according to either user-supplied or Rigetti calibrations. To easily check which calibration applies to a specific gate, use the `Program.match_calibrations` method."
   ]
  },
  {
   "cell_type": "code",
   "execution_count": 13,
   "metadata": {},
   "outputs": [
    {
     "name": "stdout",
     "output_type": "stream",
     "text": [
      "DEFCAL RX(pi) 0:\n",
      "\tFENCE 0\n",
      "\tNONBLOCKING PULSE 0 \"rf\" drag_gaussian(alpha: 0.3183552471062913, anh: -220655329.522463, detuning: -321047.14178613486, duration: 2.4000000000000003e-8, fwhm: 6.000000000000001e-9, phase: 0, scale: 0.625214040700785, t0: 1.2000000000000002e-8)\n",
      "\tFENCE 0\n"
     ]
    }
   ],
   "source": [
    "from math import pi\n",
    "from pyquil.gates import RX\n",
    "\n",
    "print(cals.get_calibration(RX(pi, 0)))"
   ]
  },
  {
   "cell_type": "markdown",
   "metadata": {},
   "source": [
    "None of the above programs needed us to specify calibrations. By default, the Rigetti native calibrations are used. However, if you specify a calibration in a program, it will take precedence over the native calibrations."
   ]
  },
  {
   "cell_type": "code",
   "execution_count": 14,
   "metadata": {},
   "outputs": [],
   "source": [
    "prog = t1_program(1e-6, 0)\n",
    "\n",
    "# Note: we did NOT specify a calibration for RX(pi) 0 in our previous program\n",
    "assert prog.match_calibrations(RX(pi, 0)) is None\n",
    "# The Quil-T translator provided the default: namely, the same calibration we obtained for ourselves\n",
    "# with `qc.compiler.get_calibration_program()`."
   ]
  },
  {
   "cell_type": "markdown",
   "metadata": {},
   "source": [
    "In the example below, we use a custom calibration, we conjugate the usual pulse with a frequency shift. There's no motivation for the particular value used, beyond simply showing what is possible."
   ]
  },
  {
   "cell_type": "code",
   "execution_count": 15,
   "metadata": {},
   "outputs": [
    {
     "name": "stdout",
     "output_type": "stream",
     "text": [
      "DECLARE ro BIT[1]\n",
      "DEFCAL RX(pi/2) 0:\n",
      "\tFENCE 0\n",
      "\tSET-SCALE 0 \"rf\" 0.353088482172993\n",
      "\tSHIFT-FREQUENCY 0 \"rf\" 1000000\n",
      "\tNONBLOCKING PULSE 0 \"rf\" drag_gaussian(alpha: 6.389096630631076, anh: -210000000, duration: 6.000000000000001e-8, fwhm: 1.5000000000000002e-8, t0: 3.0000000000000004e-8)\n",
      "\tSHIFT-FREQUENCY 0 \"rf\" -1000000\n",
      "\tFENCE 0\n",
      "RX(pi/2) 0\n",
      "MEASURE 0 ro[0]\n",
      "\n"
     ]
    }
   ],
   "source": [
    "prog = Program(\"\"\"DEFCAL RX(pi/2) 0:\n",
    "    FENCE 0\n",
    "    SET-SCALE 0 \"rf\" 0.353088482172993\n",
    "    SHIFT-FREQUENCY 0 \"rf\" 1e6\n",
    "    NONBLOCKING PULSE 0 \"rf\" drag_gaussian(duration: 6.000000000000001e-08, fwhm: 1.5000000000000002e-08, t0: 3.0000000000000004e-08, anh: -210000000.0, alpha: 6.389096630631076)\n",
    "    SHIFT-FREQUENCY 0 \"rf\" -1e6\n",
    "    FENCE 0\n",
    "\n",
    "DECLARE ro BIT\n",
    "RX(pi/2) 0\n",
    "MEASURE 0 ro\"\"\")\n",
    "print(prog)"
   ]
  },
  {
   "cell_type": "code",
   "execution_count": 16,
   "metadata": {},
   "outputs": [
    {
     "name": "stdout",
     "output_type": "stream",
     "text": [
      "DEFCAL RX(pi/2) 0:\n",
      "\tFENCE 0\n",
      "\tSET-SCALE 0 \"rf\" 0.353088482172993\n",
      "\tSHIFT-FREQUENCY 0 \"rf\" 1000000\n",
      "\tNONBLOCKING PULSE 0 \"rf\" drag_gaussian(alpha: 6.389096630631076, anh: -210000000, duration: 6.000000000000001e-8, fwhm: 1.5000000000000002e-8, t0: 3.0000000000000004e-8)\n",
      "\tSHIFT-FREQUENCY 0 \"rf\" -1000000\n",
      "\tFENCE 0\n"
     ]
    }
   ],
   "source": [
    "print(prog.get_calibration(RX(pi/2, 0)))"
   ]
  },
  {
   "cell_type": "code",
   "execution_count": 17,
   "metadata": {},
   "outputs": [],
   "source": [
    "exe = qc.compiler.native_quil_to_executable(prog)"
   ]
  },
  {
   "cell_type": "code",
   "execution_count": 28,
   "metadata": {},
   "outputs": [
    {
     "data": {
      "text/plain": [
       "{'ro': array([[0]])}"
      ]
     },
     "execution_count": 28,
     "metadata": {},
     "output_type": "execute_result"
    }
   ],
   "source": [
    "qc.run(exe).get_register_map()"
   ]
  },
  {
   "cell_type": "markdown",
   "metadata": {},
   "source": [
    "Of course, it is not required to use calibrations. One can construct an equivalent program by replacing the `RX` gate with the body of the calibration:"
   ]
  },
  {
   "cell_type": "code",
   "execution_count": 19,
   "metadata": {},
   "outputs": [],
   "source": [
    "prog = Program(\"\"\"\n",
    "DECLARE ro BIT\n",
    "FENCE 0\n",
    "SET-SCALE 0 \"rf\" 0.353088482172993\n",
    "SHIFT-FREQUENCY 0 \"rf\" 1e6\n",
    "NONBLOCKING PULSE 0 \"rf\" drag_gaussian(duration: 6.000000000000001e-08, fwhm: 1.5000000000000002e-08, t0: 3.0000000000000004e-08, anh: -210000000.0, alpha: 6.389096630631076)\n",
    "SHIFT-FREQUENCY 0 \"rf\" -1e6\n",
    "FENCE 0\n",
    "MEASURE 0 ro\n",
    "\"\"\".strip())"
   ]
  },
  {
   "cell_type": "code",
   "execution_count": 20,
   "metadata": {},
   "outputs": [],
   "source": [
    "exe = qc.compiler.native_quil_to_executable(prog)"
   ]
  },
  {
   "cell_type": "code",
   "execution_count": 33,
   "metadata": {},
   "outputs": [
    {
     "data": {
      "text/plain": [
       "{'ro': array([[1]])}"
      ]
     },
     "execution_count": 33,
     "metadata": {},
     "output_type": "execute_result"
    }
   ],
   "source": [
    "qc.run(exe).get_register_map()"
   ]
  },
  {
   "cell_type": "markdown",
   "metadata": {},
   "source": [
    "#### Parametric Calibrations"
   ]
  },
  {
   "cell_type": "markdown",
   "metadata": {},
   "source": [
    "Some calibrations (e.g. for `RX`) are defined for specific parameter values. Others may depend on general symbolic values, as with `RZ`."
   ]
  },
  {
   "cell_type": "code",
   "execution_count": 22,
   "metadata": {},
   "outputs": [
    {
     "name": "stdout",
     "output_type": "stream",
     "text": [
      "DEFCAL RZ(%theta) 0:\n",
      "\tFENCE 0\n",
      "\tSHIFT-PHASE 0 \"rf\" -1*%theta\n",
      "\tSHIFT-PHASE 0 1 \"xy\" -0.5*%theta\n",
      "\tSHIFT-PHASE 0 103 \"xy\" -0.5*%theta\n",
      "\tFENCE 0\n"
     ]
    }
   ],
   "source": [
    "from pyquil.gates import RZ\n",
    "\n",
    "print(cals.get_calibration(RZ(pi,0)))"
   ]
  },
  {
   "cell_type": "markdown",
   "metadata": {},
   "source": [
    "To get more information about how the matching calibration applies to a specific gate, use `Program.match_calibrations`. The result is a `CalibrationMatch` object which indicates not just the calibration, but the value for parameters."
   ]
  },
  {
   "cell_type": "code",
   "execution_count": 23,
   "metadata": {},
   "outputs": [
    {
     "name": "stdout",
     "output_type": "stream",
     "text": [
      "DEFCAL RZ(%theta) 0:\n",
      "\tFENCE 0\n",
      "\tSHIFT-PHASE 0 \"rf\" -1*%theta\n",
      "\tSHIFT-PHASE 0 1 \"xy\" -0.5*%theta\n",
      "\tSHIFT-PHASE 0 103 \"xy\" -0.5*%theta\n",
      "\tFENCE 0\n",
      "{Parameter('theta'): (3.141592653589793+0j)}\n"
     ]
    }
   ],
   "source": [
    "match = cals.match_calibrations(RZ(pi,0))\n",
    "print(match.cal)\n",
    "print(match.settings)"
   ]
  },
  {
   "cell_type": "markdown",
   "metadata": {},
   "source": [
    "You may conveniently recover the body of the calibration, with the matched parameters substituted, using `Program.calibrate`."
   ]
  },
  {
   "cell_type": "code",
   "execution_count": 24,
   "metadata": {},
   "outputs": [
    {
     "name": "stdout",
     "output_type": "stream",
     "text": [
      "FENCE 0\n",
      "SHIFT-PHASE 0 \"rf\" -1*3.141592653589793\n",
      "SHIFT-PHASE 0 1 \"xy\" -0.5*3.141592653589793\n",
      "SHIFT-PHASE 0 103 \"xy\" -0.5*3.141592653589793\n",
      "FENCE 0\n"
     ]
    }
   ],
   "source": [
    "instrs = cals.calibrate(RZ(pi,0))\n",
    "for instr in instrs:\n",
    "    print(instr)"
   ]
  },
  {
   "cell_type": "markdown",
   "metadata": {},
   "source": [
    "### Non-Native Gates\n",
    "As mentioned above, the `qc.compiler.native_quil_to_executable` call will provide calibrations for Rigetti native gates, if they are not provided by a user. However, a program with non-native gates and no corresponding user-provided calibrations will result in a compilation failure."
   ]
  },
  {
   "cell_type": "code",
   "execution_count": 25,
   "metadata": {},
   "outputs": [
    {
     "name": "stdout",
     "output_type": "stream",
     "text": [
      "Fails on non-native operations {H, CNOT} as expected.\n"
     ]
    }
   ],
   "source": [
    "prog = Program(\"DECLARE ro BIT\\n\"\n",
    "               \"H 0\\n\"\n",
    "               \"CNOT 0 1\\n\"\n",
    "               \"MEASURE 0 ro\")\n",
    "\n",
    "try:\n",
    "    qc.compiler.native_quil_to_executable(prog)\n",
    "except Exception as e:\n",
    "    print(\"Fails on non-native operations {H, CNOT} as expected.\")"
   ]
  }
 ],
 "metadata": {
  "kernelspec": {
   "display_name": "Python 3 (ipykernel)",
   "language": "python",
   "name": "python3"
  },
  "language_info": {
   "codemirror_mode": {
    "name": "ipython",
    "version": 3
   },
   "file_extension": ".py",
   "mimetype": "text/x-python",
   "name": "python",
   "nbconvert_exporter": "python",
   "pygments_lexer": "ipython3",
   "version": "3.8.14"
  },
  "toc": {
   "base_numbering": 1,
   "nav_menu": {},
   "number_sections": true,
   "sideBar": true,
   "skip_h1_title": false,
   "title_cell": "Table of Contents",
   "title_sidebar": "Contents",
   "toc_cell": false,
   "toc_position": {},
   "toc_section_display": true,
   "toc_window_display": false
  }
 },
 "nbformat": 4,
 "nbformat_minor": 4
}
