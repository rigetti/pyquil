{
 "cells": [
  {
   "cell_type": "markdown",
   "metadata": {},
   "source": [
    "# Getting Up and Running with Quil-T\n",
    "\n",
    "## Language Documentation\n",
    "\n",
    "See https://github.com/rigetti/quil for documentation on the Quil-T language."
   ]
  },
  {
   "cell_type": "markdown",
   "metadata": {},
   "source": [
    "## Construct a `QuantumComputer` object linked to the Quil-T compiler"
   ]
  },
  {
   "cell_type": "code",
   "execution_count": 7,
   "metadata": {},
   "outputs": [],
   "source": [
    "from pyquil import Program, get_qc\n",
    "qc = get_qc(\"Aspen-M-3\")"
   ]
  },
  {
   "cell_type": "markdown",
   "metadata": {},
   "source": [
    "As a sanity check, the following call should work."
   ]
  },
  {
   "cell_type": "code",
   "execution_count": 8,
   "metadata": {},
   "outputs": [
    {
     "data": {
      "text/plain": [
       "{'quilc': '1.26.0'}"
      ]
     },
     "execution_count": 8,
     "metadata": {},
     "output_type": "execute_result"
    }
   ],
   "source": [
    "qc.compiler.get_version_info()"
   ]
  },
  {
   "cell_type": "markdown",
   "metadata": {},
   "source": [
    "## Get Quil-T Calibrations\n",
    "\n",
    "A production QPU has a set of calibrations associated with it. These include frame definitions, gate and measurement calibrations, and custom waveforms. Below we show how to get the default calibrations."
   ]
  },
  {
   "cell_type": "code",
   "execution_count": 9,
   "metadata": {},
   "outputs": [],
   "source": [
    "cals = qc.compiler.get_calibration_program()"
   ]
  },
  {
   "cell_type": "markdown",
   "metadata": {},
   "source": [
    "The `calibration_program` property of `QPUCompiler` provides *cached* access to the QPU calibration information. Upon first using this property a request will be made for the calibration information and may take some time to complete. Subsequent usage of this property will use the cached calibrations and thus will be instantaneous. It should be noted therefore that calibrations **will vary with time** and should be **regularly refreshed** though the specifics of when to refresh the calibrations is left as an exercise for the user. See `QPUCompiler#refresh_calibration_program`."
   ]
  },
  {
   "cell_type": "markdown",
   "metadata": {},
   "source": [
    "### Frame Definitions\n",
    "\n",
    "Frame definitions correspond to specific hardware channels. These have a name (e.g. `0 \"ro_rx\"` for the hardware readout receive channel on Qubit 0), and some metadata (DAC sample rate, initial frame frequency, and a direction).\n",
    "\n",
    "**Note**: These are fixed and should not be edited. If you wish to set a frame's frequency to one different from its initial frequency, your Quil-T program should use `SET-FREQUENCY` (for an absolute value) or `SHIFT-FREQUENCY` (for a relative shift)."
   ]
  },
  {
   "cell_type": "code",
   "execution_count": 10,
   "metadata": {},
   "outputs": [
    {
     "name": "stdout",
     "output_type": "stream",
     "text": [
      "DEFFRAME 120 127 \"cz\":\n",
      "\tHARDWARE-OBJECT: \"q120_ff\"\n",
      "\tSAMPLE-RATE: 1000000000\n",
      "\tCENTER-FREQUENCY: 375000000\n",
      "\tDIRECTION: \"tx\"\n",
      "\tINITIAL-FREQUENCY: 439614741.7925588\n"
     ]
    }
   ],
   "source": [
    "from pyquil.quilatom import Frame\n",
    "\n",
    "# Look for CZ frames.\n",
    "cz_frames = filter(lambda f: f[0].name == \"cz\", cals.frames.items())\n",
    "# The first elt is the frame (of type Frame) and the second elt is\n",
    "# the frame definition (of type DefFrame).\n",
    "print(next(cz_frames)[1])"
   ]
  },
  {
   "cell_type": "markdown",
   "metadata": {},
   "source": [
    "### Gate Calibrations\n",
    "\n",
    "Gate and Measurement calibrations present the current Quil-T specification of Rigetti's native gates. "
   ]
  },
  {
   "cell_type": "code",
   "execution_count": 11,
   "metadata": {},
   "outputs": [
    {
     "name": "stdout",
     "output_type": "stream",
     "text": [
      "1230 total calibrations, peeking at first two:\n",
      "\n",
      "DEFCAL I %q:\n",
      "\tDELAY q 4e-8\n",
      "DEFCAL RX(pi/2) 0:\n",
      "\tFENCE 0\n",
      "\tNONBLOCKING PULSE 0 \"rf\" drag_gaussian(alpha: 0.2975653933918168, anh: -220655329.522463, detuning: -321047.14178613486, duration: 2.4000000000000003e-8, fwhm: 6.000000000000001e-9, phase: 0, scale: 0.297334163281372, t0: 1.2000000000000002e-8)\n",
      "\tFENCE 0\n"
     ]
    }
   ],
   "source": [
    "print(len(cals.calibrations), \"total calibrations, peeking at first two:\\n\")\n",
    "for defn in cals.calibrations[:2]:\n",
    "    print(defn)"
   ]
  },
  {
   "cell_type": "markdown",
   "metadata": {},
   "source": [
    "### Waveform Definitions\n",
    "\n",
    "Certain gates (e.g. `RX` gates above) use template waveforms. Others, notably `CZ` gates, use custom waveforms. The `waveforms` member maps waveform names to their definitions."
   ]
  },
  {
   "cell_type": "markdown",
   "metadata": {},
   "source": [
    "Here is what one of these definitions looks like."
   ]
  },
  {
   "cell_type": "code",
   "execution_count": 19,
   "metadata": {},
   "outputs": [
    {
     "name": "stdout",
     "output_type": "stream",
     "text": [
      "DEFWAVEFORM q0_q103_cphase/sqrtCPHASE:\n",
      "\t0, 0, 0, 0, 0, 0, 0, 0, 0.00016089884876480142, 0.0006617394900977214, 0.0023179546984393663, 0.006934235367450845, 0.017779585021558256, 0.039257194332199756, 0.07511070533250117, 0.12556408095777447, 0.18541459692593437, 0.2452651128940943, 0.2957184885193676, 0.3315719995196691, 0.35304960883031056, 0.36389495848441794, 0.3685112391534294, 0.37016745436177106, 0.37066829500310405, 0.3707959449280902, 0.3708233643090926, 0.37082832779560987, 0.37082908494683614, 0.3708291822704353, 0.3708291928110411, 0.3708291937728664, 0.3708291938468067, 0.37082919385159513, 0.3708291938518563, 0.37082919385186836, 0.37082919385186874, 0.37082919385186874, 0.37082919385186874, 0.37082919385186874, 0.37082919385186874, 0.37082919385186874, 0.37082919385186874, 0.37082919385186874, 0.37082919385186836, 0.3708291938518563, 0.37082919385159513, 0.3708291938468067, 0.3708291937728664, 0.3708291928110411, 0.3708291822704353, 0.37082908494683614, 0.37082832779560987, 0.3708233643090926, 0.3707959449280902, 0.37066829500310405, 0.37016745436177106, 0.3685112391534294, 0.36389495848441794, 0.35304960883031067, 0.33157199951966926, 0.29571848851936783, 0.24526511289409483, 0.18541459692593482, 0.12556408095777472, 0.07511070533250154, 0.03925719433219998, 0.017779585021558318, 0.006934235367450845, 0.0023179546984393663, 0.000661739490097742, 0, 0, 0, 0, 0, 0, 0, 0, 0\n"
     ]
    }
   ],
   "source": [
    "print(next(iter(cals.waveforms.values()), None))"
   ]
  },
  {
   "cell_type": "markdown",
   "metadata": {},
   "source": [
    "## Compiling and running a Quil-T Program\n",
    "\n",
    "\n",
    "There are three ways to access the compiler from pyQuil:\n",
    "\n",
    "* `qc.compile` is the usual pipeline, and **only works for Quil code**\n",
    "* `qc.compiler.quil_to_native_quil` is the entry point for compiling Quil to native Quil\n",
    "* `qc.compiler.native_quil_to_executable` is the entry point for compiling **Quil-T** programs\n",
    "\n",
    "In particular, the usual workflow of just delegating to `qc.compile` does not currently work with Quil-T. If you wish to use Quil-T right now, your workflow should involve\n",
    "1. calling `qc.compiler.quil_to_native_quil` on code blocks which do not involve Quil-T or Quil-T calibrations\n",
    "2. subsequently calling `qc.compiler.native_quil_to_executable` on blocks involving Quil-T"
   ]
  },
  {
   "cell_type": "markdown",
   "metadata": {},
   "source": [
    "### Compiling Quil Programs\n",
    "\n",
    "`qc.compiler.native_quil_to_executable` requires native Quil + Quil-T operations. In particular, it is assumed that the only gates used are those Rigetti native gates, or ones for which you have provided explicit calibrations. For example, the program below expresses\n",
    "\n",
    "```\n",
    "DECLARE ro BIT\n",
    "H 0\n",
    "CNOT 0 1\n",
    "MEASURE 0 ro\n",
    "```\n",
    "\n",
    "using Rigetti native gates by first using `qc.compiler.quil_to_native_quil`."
   ]
  },
  {
   "cell_type": "code",
   "execution_count": 20,
   "metadata": {
    "scrolled": true
   },
   "outputs": [],
   "source": [
    "prog = Program(\n",
    "    'DECLARE ro BIT',\n",
    "    'H 0',\n",
    "    'CNOT 0 1',\n",
    "    'MEASURE 0 ro'\n",
    ")\n",
    "compiled = qc.compiler.quil_to_native_quil(prog)"
   ]
  },
  {
   "cell_type": "code",
   "execution_count": null,
   "metadata": {},
   "outputs": [],
   "source": [
    "exe = qc.compiler.native_quil_to_executable(compiled)"
   ]
  },
  {
   "cell_type": "markdown",
   "metadata": {},
   "source": [
    "**Note**: The above compilation may be done even at any time, however, the QPU settings used for compilation may go stale.\n",
    "\n",
    "Therefore, we suggest that although you may rely on `qc.compiler.native_quil_to_executable` for development purposes (for example, to verify correct Quil-T syntax), when executing on a QPU all Quil-T programs should be compiled afresh.\n",
    "\n",
    "Running the executable proceeds as before:"
   ]
  },
  {
   "cell_type": "code",
   "execution_count": 22,
   "metadata": {},
   "outputs": [
    {
     "ename": "SubmissionError",
     "evalue": "An API error occurred: Call failed during gRPC request: status: Unavailable, message: \"error trying to connect: tcp connect error: Operation timed out (os error 60)\", details: [], metadata: MetadataMap { headers: {} }",
     "output_type": "error",
     "traceback": [
      "\u001b[0;31m---------------------------------------------------------------------------\u001b[0m",
      "\u001b[0;31mSubmissionError\u001b[0m                           Traceback (most recent call last)",
      "\u001b[0;32m/var/folders/r2/zg9xpn8x6tv3k3vqt50n667m0000gq/T/ipykernel_2496/2197243345.py\u001b[0m in \u001b[0;36m<cell line: 1>\u001b[0;34m()\u001b[0m\n\u001b[0;32m----> 1\u001b[0;31m \u001b[0mqc\u001b[0m\u001b[0;34m.\u001b[0m\u001b[0mrun\u001b[0m\u001b[0;34m(\u001b[0m\u001b[0mexe\u001b[0m\u001b[0;34m)\u001b[0m\u001b[0;34m\u001b[0m\u001b[0;34m\u001b[0m\u001b[0m\n\u001b[0m",
      "\u001b[0;32m~/dev/pyquil/pyquil/api/_quantum_computer.py\u001b[0m in \u001b[0;36mrun\u001b[0;34m(self, executable, memory_map, **kwargs)\u001b[0m\n\u001b[1;32m    140\u001b[0m         \u001b[0;34m:\u001b[0m\u001b[0;32mreturn\u001b[0m\u001b[0;34m:\u001b[0m \u001b[0mexecution\u001b[0m \u001b[0mresult\u001b[0m \u001b[0mincluding\u001b[0m \u001b[0mreadout\u001b[0m \u001b[0mdata\u001b[0m\u001b[0;34m.\u001b[0m\u001b[0;34m\u001b[0m\u001b[0;34m\u001b[0m\u001b[0m\n\u001b[1;32m    141\u001b[0m         \"\"\"\n\u001b[0;32m--> 142\u001b[0;31m         \u001b[0;32mreturn\u001b[0m \u001b[0mself\u001b[0m\u001b[0;34m.\u001b[0m\u001b[0mqam\u001b[0m\u001b[0;34m.\u001b[0m\u001b[0mrun\u001b[0m\u001b[0;34m(\u001b[0m\u001b[0mexecutable\u001b[0m\u001b[0;34m,\u001b[0m \u001b[0mmemory_map\u001b[0m\u001b[0;34m,\u001b[0m \u001b[0;34m**\u001b[0m\u001b[0mkwargs\u001b[0m\u001b[0;34m)\u001b[0m\u001b[0;34m\u001b[0m\u001b[0;34m\u001b[0m\u001b[0m\n\u001b[0m\u001b[1;32m    143\u001b[0m \u001b[0;34m\u001b[0m\u001b[0m\n\u001b[1;32m    144\u001b[0m     \u001b[0;32mdef\u001b[0m \u001b[0mcalibrate\u001b[0m\u001b[0;34m(\u001b[0m\u001b[0mself\u001b[0m\u001b[0;34m,\u001b[0m \u001b[0mexperiment\u001b[0m\u001b[0;34m:\u001b[0m \u001b[0mExperiment\u001b[0m\u001b[0;34m)\u001b[0m \u001b[0;34m->\u001b[0m \u001b[0mList\u001b[0m\u001b[0;34m[\u001b[0m\u001b[0mExperimentResult\u001b[0m\u001b[0;34m]\u001b[0m\u001b[0;34m:\u001b[0m\u001b[0;34m\u001b[0m\u001b[0;34m\u001b[0m\u001b[0m\n",
      "\u001b[0;32m~/dev/pyquil/pyquil/api/_qam.py\u001b[0m in \u001b[0;36mrun\u001b[0;34m(self, executable, memory_map, **kwargs)\u001b[0m\n\u001b[1;32m    147\u001b[0m         \u001b[0mRun\u001b[0m \u001b[0man\u001b[0m \u001b[0mexecutable\u001b[0m \u001b[0mto\u001b[0m \u001b[0mcompletion\u001b[0m \u001b[0mon\u001b[0m \u001b[0mthe\u001b[0m \u001b[0mQAM\u001b[0m\u001b[0;34m.\u001b[0m\u001b[0;34m\u001b[0m\u001b[0;34m\u001b[0m\u001b[0m\n\u001b[1;32m    148\u001b[0m         \"\"\"\n\u001b[0;32m--> 149\u001b[0;31m         \u001b[0;32mreturn\u001b[0m \u001b[0mself\u001b[0m\u001b[0;34m.\u001b[0m\u001b[0mget_result\u001b[0m\u001b[0;34m(\u001b[0m\u001b[0mself\u001b[0m\u001b[0;34m.\u001b[0m\u001b[0mexecute\u001b[0m\u001b[0;34m(\u001b[0m\u001b[0mexecutable\u001b[0m\u001b[0;34m,\u001b[0m \u001b[0mmemory_map\u001b[0m\u001b[0;34m,\u001b[0m \u001b[0;34m**\u001b[0m\u001b[0mkwargs\u001b[0m\u001b[0;34m)\u001b[0m\u001b[0;34m)\u001b[0m\u001b[0;34m\u001b[0m\u001b[0;34m\u001b[0m\u001b[0m\n\u001b[0m",
      "\u001b[0;32m~/dev/pyquil/pyquil/api/_qpu.py\u001b[0m in \u001b[0;36mexecute\u001b[0;34m(self, executable, memory_map, execution_options, **__)\u001b[0m\n\u001b[1;32m    190\u001b[0m         \u001b[0mpatch_values\u001b[0m \u001b[0;34m=\u001b[0m \u001b[0mbuild_patch_values\u001b[0m\u001b[0;34m(\u001b[0m\u001b[0mexecutable\u001b[0m\u001b[0;34m.\u001b[0m\u001b[0mrecalculation_table\u001b[0m\u001b[0;34m,\u001b[0m \u001b[0mmemory_map\u001b[0m\u001b[0;34m)\u001b[0m\u001b[0;34m\u001b[0m\u001b[0;34m\u001b[0m\u001b[0m\n\u001b[1;32m    191\u001b[0m \u001b[0;34m\u001b[0m\u001b[0m\n\u001b[0;32m--> 192\u001b[0;31m         job_id = submit(\n\u001b[0m\u001b[1;32m    193\u001b[0m             \u001b[0mprogram\u001b[0m\u001b[0;34m=\u001b[0m\u001b[0mexecutable\u001b[0m\u001b[0;34m.\u001b[0m\u001b[0mprogram\u001b[0m\u001b[0;34m,\u001b[0m\u001b[0;34m\u001b[0m\u001b[0;34m\u001b[0m\u001b[0m\n\u001b[1;32m    194\u001b[0m             \u001b[0mpatch_values\u001b[0m\u001b[0;34m=\u001b[0m\u001b[0mpatch_values\u001b[0m\u001b[0;34m,\u001b[0m\u001b[0;34m\u001b[0m\u001b[0;34m\u001b[0m\u001b[0m\n",
      "\u001b[0;31mSubmissionError\u001b[0m: An API error occurred: Call failed during gRPC request: status: Unavailable, message: \"error trying to connect: tcp connect error: Operation timed out (os error 60)\", details: [], metadata: MetadataMap { headers: {} }"
     ]
    }
   ],
   "source": [
    "qc.run(exe)"
   ]
  },
  {
   "cell_type": "markdown",
   "metadata": {},
   "source": [
    "### Another example: a simple T1 experiment\n",
    "\n",
    "As an example of mixing Quil with the new Quil-T instructions, we consider a simple T1 experiment. In short, we\n",
    "\n",
    "1. excite the qubit state\n",
    "2. wait some amount of time\n",
    "3. measure out\n",
    "\n",
    "In this example, we do not do any further data analysis. The purpose here is simply to demonstrate how to compile and run a Quil-T program."
   ]
  },
  {
   "cell_type": "code",
   "execution_count": null,
   "metadata": {},
   "outputs": [],
   "source": [
    "def t1_program(time, qubit, num_shots=1000):\n",
    "    prog = Program( \"DECLARE ro BIT\\n\"\n",
    "                   f\"RX(pi) {qubit}\\n\"\n",
    "                   f\"FENCE 0\\n\"\n",
    "                   f\"DELAY {qubit} {time}\\n\"\n",
    "                   f\"MEASURE {qubit} ro\")\n",
    "    prog.wrap_in_numshots_loop(num_shots)\n",
    "    return prog"
   ]
  },
  {
   "cell_type": "code",
   "execution_count": null,
   "metadata": {
    "scrolled": true
   },
   "outputs": [],
   "source": [
    "import numpy as np\n",
    "\n",
    "probs = []\n",
    "\n",
    "times = np.geomspace(20e-9, 60e-4, 20)\n",
    "for time in times:\n",
    "    prog = t1_program(time, 0)\n",
    "    exe = qc.compiler.native_quil_to_executable(prog)\n",
    "    results = qc.run(exe)\n",
    "    prob = np.sum(results) / results.size\n",
    "    probs.append(prob)\n",
    "    print(f\"time: {time:.2e} \\tprob: {prob:.2}\")"
   ]
  },
  {
   "cell_type": "code",
   "execution_count": null,
   "metadata": {},
   "outputs": [],
   "source": [
    "%matplotlib inline\n",
    "import matplotlib.pyplot as plt\n",
    "\n",
    "plt.semilogx(times, probs, '-')\n",
    "plt.xlabel('time (s)')\n",
    "plt.ylabel('p')\n",
    "plt.show()"
   ]
  },
  {
   "cell_type": "markdown",
   "metadata": {},
   "source": [
    "### Using a Custom Calibration\n",
    "\n",
    "All gate and measure applications in a Quil-T program are translated according to either user-supplied or Rigetti calibrations. To easily check which calibration applies to a specific gate, use the `Program.match_calibrations` method."
   ]
  },
  {
   "cell_type": "code",
   "execution_count": 14,
   "metadata": {},
   "outputs": [
    {
     "name": "stdout",
     "output_type": "stream",
     "text": [
      "DEFCAL RX(pi) 0:\n",
      "    FENCE 0\n",
      "    NONBLOCKING PULSE 0 \"rf\" drag_gaussian(duration: 1.2e-07, fwhm: 3e-08, t0: 6e-08, anh: -190000000.0, alpha: -0.5128791143256078, scale: 0.63376686965814, phase: 0.0, detuning: 0.0)\n",
      "    FENCE 0\n",
      "\n"
     ]
    }
   ],
   "source": [
    "from math import pi\n",
    "from pyquil.gates import RX\n",
    "\n",
    "print(cals.get_calibration(RX(pi, 0)))"
   ]
  },
  {
   "cell_type": "markdown",
   "metadata": {},
   "source": [
    "None of the above programs needed us to specify calibrations. By default, the Rigetti native calibrations are used. However, if you specify a calibration in a program, it will take precedence over the native calibrations."
   ]
  },
  {
   "cell_type": "code",
   "execution_count": 15,
   "metadata": {},
   "outputs": [],
   "source": [
    "prog = t1_program(1e-6, 0)\n",
    "\n",
    "# Note: we did NOT specify a calibration for RX(pi) 0 in our previous program\n",
    "assert prog.match_calibrations(RX(pi, 0)) is None\n",
    "# The Quil-T translator provided the default: namely, the same calibration we obtained for ourselves\n",
    "# with `qc.compiler.get_calibration_program()`."
   ]
  },
  {
   "cell_type": "markdown",
   "metadata": {},
   "source": [
    "In the example below, we use a custom calibration, we conjugate the usual pulse with a frequency shift. There's no motivation for the particular value used, beyond simply showing what is possible."
   ]
  },
  {
   "cell_type": "code",
   "execution_count": 16,
   "metadata": {},
   "outputs": [
    {
     "name": "stdout",
     "output_type": "stream",
     "text": [
      "DEFCAL RX(pi/2) 0:\n",
      "    FENCE 0\n",
      "    SET-SCALE 0 \"rf\" 0.353088482172993\n",
      "    SHIFT-FREQUENCY 0 \"rf\" 1000000.0\n",
      "    NONBLOCKING PULSE 0 \"rf\" drag_gaussian(duration: 6.000000000000001e-08, fwhm: 1.5000000000000002e-08, t0: 3.0000000000000004e-08, anh: -210000000.0, alpha: 6.389096630631076)\n",
      "    SHIFT-FREQUENCY 0 \"rf\" -1000000.0\n",
      "    FENCE 0\n",
      "\n",
      "DECLARE ro BIT[1]\n",
      "RX(pi/2) 0\n",
      "MEASURE 0 ro[0]\n",
      "\n"
     ]
    }
   ],
   "source": [
    "prog = Program(\"\"\"DEFCAL RX(pi/2) 0:\n",
    "    FENCE 0\n",
    "    SET-SCALE 0 \"rf\" 0.353088482172993\n",
    "    SHIFT-FREQUENCY 0 \"rf\" 1e6\n",
    "    NONBLOCKING PULSE 0 \"rf\" drag_gaussian(duration: 6.000000000000001e-08, fwhm: 1.5000000000000002e-08, t0: 3.0000000000000004e-08, anh: -210000000.0, alpha: 6.389096630631076)\n",
    "    SHIFT-FREQUENCY 0 \"rf\" -1e6\n",
    "    FENCE 0\n",
    "\n",
    "DECLARE ro BIT\n",
    "RX(pi/2) 0\n",
    "MEASURE 0 ro\"\"\")\n",
    "print(prog)"
   ]
  },
  {
   "cell_type": "code",
   "execution_count": 17,
   "metadata": {},
   "outputs": [
    {
     "name": "stdout",
     "output_type": "stream",
     "text": [
      "DEFCAL RX(pi/2) 0:\n",
      "    FENCE 0\n",
      "    SET-SCALE 0 \"rf\" 0.353088482172993\n",
      "    SHIFT-FREQUENCY 0 \"rf\" 1000000.0\n",
      "    NONBLOCKING PULSE 0 \"rf\" drag_gaussian(duration: 6.000000000000001e-08, fwhm: 1.5000000000000002e-08, t0: 3.0000000000000004e-08, anh: -210000000.0, alpha: 6.389096630631076)\n",
      "    SHIFT-FREQUENCY 0 \"rf\" -1000000.0\n",
      "    FENCE 0\n",
      "\n"
     ]
    }
   ],
   "source": [
    "print(prog.get_calibration(RX(pi/2, 0)))"
   ]
  },
  {
   "cell_type": "code",
   "execution_count": 18,
   "metadata": {},
   "outputs": [],
   "source": [
    "exe = qc.compiler.native_quil_to_executable(prog)"
   ]
  },
  {
   "cell_type": "code",
   "execution_count": 19,
   "metadata": {},
   "outputs": [
    {
     "data": {
      "text/plain": [
       "array([[1]])"
      ]
     },
     "execution_count": 19,
     "metadata": {},
     "output_type": "execute_result"
    }
   ],
   "source": [
    "qc.run(exe)"
   ]
  },
  {
   "cell_type": "markdown",
   "metadata": {},
   "source": [
    "Of course, it is not required to use calibrations. One can construct an equivalent program by replacing the `RX` gate with the body of the calibration:"
   ]
  },
  {
   "cell_type": "code",
   "execution_count": 20,
   "metadata": {},
   "outputs": [],
   "source": [
    "prog = Program(\"\"\"\n",
    "DECLARE ro BIT\n",
    "FENCE 0\n",
    "SET-SCALE 0 \"rf\" 0.353088482172993\n",
    "SHIFT-FREQUENCY 0 \"rf\" 1e6\n",
    "NONBLOCKING PULSE 0 \"rf\" drag_gaussian(duration: 6.000000000000001e-08, fwhm: 1.5000000000000002e-08, t0: 3.0000000000000004e-08, anh: -210000000.0, alpha: 6.389096630631076)\n",
    "SHIFT-FREQUENCY 0 \"rf\" -1e6\n",
    "FENCE 0\n",
    "MEASURE 0 ro\n",
    "\"\"\".strip())"
   ]
  },
  {
   "cell_type": "code",
   "execution_count": 21,
   "metadata": {},
   "outputs": [],
   "source": [
    "exe = qc.compiler.native_quil_to_executable(prog)"
   ]
  },
  {
   "cell_type": "code",
   "execution_count": 22,
   "metadata": {},
   "outputs": [
    {
     "data": {
      "text/plain": [
       "array([[0]])"
      ]
     },
     "execution_count": 22,
     "metadata": {},
     "output_type": "execute_result"
    }
   ],
   "source": [
    "qc.run(exe)"
   ]
  },
  {
   "cell_type": "markdown",
   "metadata": {},
   "source": [
    "#### Parametric Calibrations"
   ]
  },
  {
   "cell_type": "markdown",
   "metadata": {},
   "source": [
    "Some calibrations (e.g. for `RX`) are defined for specific parameter values. Others may depend on general symbolic values, as with `RZ`."
   ]
  },
  {
   "cell_type": "code",
   "execution_count": 23,
   "metadata": {},
   "outputs": [
    {
     "name": "stdout",
     "output_type": "stream",
     "text": [
      "DEFCAL RZ(%theta) 0:\n",
      "    FENCE 0\n",
      "    SHIFT-PHASE 0 \"rf\" -1.0*%theta\n",
      "    SHIFT-PHASE 0 7 \"xy\" -0.5*%theta\n",
      "    FENCE 0\n",
      "\n"
     ]
    }
   ],
   "source": [
    "from pyquil.gates import RZ\n",
    "\n",
    "print(cals.get_calibration(RZ(pi,0)))"
   ]
  },
  {
   "cell_type": "markdown",
   "metadata": {},
   "source": [
    "To get more information about how the matching calibration applies to a specific gate, use `Program.match_calibrations`. The result is a `CalibrationMatch` object which indicates not just the calibration, but the value for parameters."
   ]
  },
  {
   "cell_type": "code",
   "execution_count": 24,
   "metadata": {},
   "outputs": [
    {
     "name": "stdout",
     "output_type": "stream",
     "text": [
      "DEFCAL RZ(%theta) 0:\n",
      "    FENCE 0\n",
      "    SHIFT-PHASE 0 \"rf\" -1.0*%theta\n",
      "    SHIFT-PHASE 0 7 \"xy\" -0.5*%theta\n",
      "    FENCE 0\n",
      "\n",
      "{Parameter('theta'): 3.141592653589793}\n"
     ]
    }
   ],
   "source": [
    "match = cals.match_calibrations(RZ(pi,0))\n",
    "print(match.cal)\n",
    "print(match.settings)"
   ]
  },
  {
   "cell_type": "markdown",
   "metadata": {},
   "source": [
    "You may conveniently recover the body of the calibration, with the matched parameters substituted, using `Program.calibrate`."
   ]
  },
  {
   "cell_type": "code",
   "execution_count": 25,
   "metadata": {},
   "outputs": [
    {
     "name": "stdout",
     "output_type": "stream",
     "text": [
      "FENCE 0\n",
      "SHIFT-PHASE 0 \"rf\" -3.141592653589793\n",
      "SHIFT-PHASE 0 7 \"xy\" -1.5707963267948966\n",
      "FENCE 0\n"
     ]
    }
   ],
   "source": [
    "instrs = cals.calibrate(RZ(pi,0))\n",
    "for instr in instrs:\n",
    "    print(instr)"
   ]
  },
  {
   "cell_type": "markdown",
   "metadata": {},
   "source": [
    "### Non-Native Gates\n",
    "As mentioned above, the `qc.compiler.native_quil_to_executable` call will provide calibrations for Rigetti native gates, if they are not provided by a user. However, a program with non-native gates and no corresponding user-provided calibrations will result in a compilation failure."
   ]
  },
  {
   "cell_type": "code",
   "execution_count": 26,
   "metadata": {},
   "outputs": [
    {
     "name": "stdout",
     "output_type": "stream",
     "text": [
      "Fails on non-native operations {H, CNOT} as expected.\n"
     ]
    }
   ],
   "source": [
    "prog = Program(\"DECLARE ro BIT\\n\"\n",
    "               \"H 0\\n\"\n",
    "               \"CNOT 0 1\\n\"\n",
    "               \"MEASURE 0 ro\")\n",
    "\n",
    "try:\n",
    "    qc.compiler.native_quil_to_executable(prog)\n",
    "except Exception as e:\n",
    "    print(\"Fails on non-native operations {H, CNOT} as expected.\")"
   ]
  }
 ],
 "metadata": {
  "kernelspec": {
   "display_name": "Python 3 (ipykernel)",
   "language": "python",
   "name": "python3"
  },
  "language_info": {
   "codemirror_mode": {
    "name": "ipython",
    "version": 3
   },
   "file_extension": ".py",
   "mimetype": "text/x-python",
   "name": "python",
   "nbconvert_exporter": "python",
   "pygments_lexer": "ipython3",
   "version": "3.10.5"
  },
  "toc": {
   "base_numbering": 1,
   "nav_menu": {},
   "number_sections": true,
   "sideBar": true,
   "skip_h1_title": false,
   "title_cell": "Table of Contents",
   "title_sidebar": "Contents",
   "toc_cell": false,
   "toc_position": {},
   "toc_section_display": true,
   "toc_window_display": false
  }
 },
 "nbformat": 4,
 "nbformat_minor": 4
}
