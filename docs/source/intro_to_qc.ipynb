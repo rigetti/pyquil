{
 "cells": [
  {
   "cell_type": "markdown",
   "metadata": {},
   "source": [
    "# An Abbreviated Introduction to Quantum Computing"
   ]
  },
  {
   "cell_type": "markdown",
   "metadata": {},
   "source": [
    "For over twenty years inspiring and fascinating work has brought together one of our most fundamental theories of physics - quantum mechanics - and one of our most powerful technologies - computing. Quantum computing is a beautifully interdiscipliary area with two categories of major impact:\n",
    "\n",
    "1. It reorients the relationship between physics and computer science: physics does not just place restrictions on what computers we can design, it also grants new power and inspiration.\n",
    "\n",
    "2. It promises technology that simulates nature at its most fundamental level, allowing us to access deep problems in quantum chemistry, materials discovery, and more.\n",
    "\n",
    "To get here, we've needed to change our usual intuition in many ways.  This sort of intuition reset will be familiar to many programmers from the first time that they learned object-oriented programming, functional programming, distributed programming, or any one of the other marvelous ways of thinking that have been expressed in code over the years.  Like these other paradigms, quantum computing opens up new potential when the basic concepts are grasped.  Unlike these other examples, quantum computing goes further, requiring something akin to an extension of probability theory.  This extension, and the core of quantum computing, are about linear algebra, so this is where we begin: with linear algebra and probability."
   ]
  },
  {
   "cell_type": "markdown",
   "metadata": {},
   "source": [
    "## From bit to qubit"
   ]
  },
  {
   "cell_type": "markdown",
   "metadata": {},
   "source": [
    "#### Probabilistic bits as vector spaces\n",
    "From an operational perspective, a bit is described by the results of measurements of that bit.  Let the possible results of measuring a bit (0 or 1) be represented by orthonormal basis vectors \\\\(\\\\vec{0}\\\\) and \\\\(\\\\vec{1}\\\\). We'll call these vectors **outcomes**. These outcomes span a two-dimensional vector space that represents a probabilistic bit. A probabilistic bit can be represented as a vector $$ \\vec{v} = a\\,\\vec{0} + b\\,\\vec{1},$$ where \\\\(a\\\\) represents the probability of the bit being 0 and \\\\(b\\\\) represents the probability of the bit being 1.  This clearly also requires that \\\\(a+b=1\\\\).  In this picture the **system** (the probabilistic bit) is a two-dimensional real vector space and a **state** of a system is a particular vector in that vector space."
   ]
  },
  {
   "cell_type": "code",
   "execution_count": 1,
   "metadata": {},
   "outputs": [
    {
     "data": {
      "image/png": "[encoded data removed]",
      "text/plain": [
       "<Figure size 432x288 with 1 Axes>"
      ]
     },
     "metadata": {},
     "output_type": "display_data"
    }
   ],
   "source": [
    "%matplotlib inline\n",
    "import numpy as np\n",
    "import matplotlib.pyplot as plt\n",
    "outcome_0 = np.array([1.0, 0.0])\n",
    "outcome_1 = np.array([0.0, 1.0])\n",
    "a = 0.75\n",
    "b = 0.25\n",
    "\n",
    "prob_bit = a*outcome_0 + b*outcome_1\n",
    "\n",
    "X,Y = prob_bit\n",
    "plt.figure()\n",
    "ax = plt.gca()\n",
    "ax.quiver(X,Y,angles='xy',scale_units='xy',scale=1)\n",
    "ax.set_xlim([0,1])\n",
    "ax.set_ylim([0,1])\n",
    "plt.draw()\n",
    "plt.show()"
   ]
  },
  {
   "cell_type": "markdown",
   "metadata": {},
   "source": [
    "Given some state vector, like the one plotted above, we can find the probabilities associated to each outcome by projecting the vector onto the basis outcomes. This gives us a rule like the following:\n",
    "$$ Pr(0) = \\vec{v}^T\\,\\cdot\\,\\vec{0} = a \\\\ Pr(1) = \\vec{v}^T\\,\\cdot\\,\\vec{1} = b,$$\n",
    "where Pr(0) and Pr(1) are the probabilities of the 0 and 1 outcomes respectively."
   ]
  },
  {
   "cell_type": "markdown",
   "metadata": {},
   "source": [
    "#### A remark on notation: Dirac Notation\n",
    "\n",
    "Physicists have introduced a nice notation for these transposes and dot products (Dirac notation) which rewrites\n",
    "$$ \\vec{v} = |\\,v\\rangle \\\\ \\vec{v}^T = \\langle v\\,| \\\\ \\vec{u}^T\\cdot\\vec{v} = \\langle u\\,|\\,v \\rangle.$$\n",
    "So we can rewrite out \"measurement rule\" in this notation as\n",
    "$$ Pr(0) = \\langle v\\,|\\,0 \\rangle = a \\\\ Pr(1) = \\langle v\\,|\\,1 \\rangle = b.$$ \n",
    "We will use this notation throughout the rest of this introduction."
   ]
  },
  {
   "cell_type": "markdown",
   "metadata": {},
   "source": [
    "#### Multiple probabilistic bits\n",
    "\n",
    "This vector space interpretation of a single probabilistic bit can be straightforwardly extended to multiple bits.  Let's take two coins as an example (but labelled 0 and 1 instead of H and T since we are programmers). Their states can be represented as\n",
    "$$ |\\,u\\rangle = \\frac{1}{2}|\\,0_u\\rangle + \\frac{1}{2}|\\,1_u\\rangle \\\\\n",
    "|\\,v\\rangle = \\frac{1}{2}|\\,0_v\\rangle + \\frac{1}{2}|\\,1_v\\rangle, $$\n",
    "where \\\\(1_u\\\\) represents the 1 outcome on coin \\\\(u\\\\).  The **combined system** of the two coins has four possible outcomes \\\\(\\\\{ 0_u0_v,\\\\;0_u1_v,\\\\;1_u0_v,\\\\;1_u1_v \\\\}\\\\) that are the basis states of a larger four-dimensional vector space.  The rule for constructing the **combined state** is to take the tensor product of the individual states, e.g.\n",
    "$$ |\\,u\\rangle\\otimes|\\,v\\rangle = \\frac{1}{4}|\\,0_u0_v\\rangle+\\frac{1}{4}|\\,0_u1_v\\rangle+\\frac{1}{4}|\\,1_u0_v\\rangle+\\frac{1}{4}|\\,1_u1_v\\rangle. $$\n",
    "The combined space is then also given by the tensor product of the vector spaces spanned by  \\\\(\\\\{|\\\\,0_u\\\\rangle, |\\\\,1_u\\\\rangle\\\\}\\\\) and  \\\\(\\\\{|\\\\,0_v\\\\rangle, |\\\\,1_v\\\\rangle\\\\}\\\\) respectively.\n",
    "\n",
    "We'll talk more about these larger spaces in the quantum case, but it is important to note that not all composite states can be written as tensor products of sub-states.  In general, the combined state for \\\\(n\\\\) probabilistic bits is a vector of size \\\\(2^n\\\\) and is given by \\\\(\\\\bigotimes_0^{n-1}|\\\\,v_i\\\\rangle\\\\)."
   ]
  },
  {
   "cell_type": "markdown",
   "metadata": {},
   "source": [
    "#### Qubits\n",
    "\n",
    "Quantum mechanics rewrites these rules some.  A quantum bit, called a qubit, is the quantum analog of a bit in that it has two outcomes when it is measured.  Similar to the previous section, a qubit can also be represented in a vector space, but with complex coefficients instead of real ones.  A qubit **system** is a two-dimensional complex vector space, and the **state** of a qubit is a complex vector in that space. Again we will define a basis of outcomes \\\\(\\\\{|\\\\,0\\\\rangle, |\\\\,1\\\\rangle\\\\}\\\\) and let a generic qubit state be written as\n",
    "$$\\alpha |\\,0\\rangle + \\beta |\\,1\\rangle.$$\n",
    "Since these coefficients can be imaginary, they cannot be immediately be interpreted as probabilities of their associated outcomes.  Instead we rewrite the rule for outcomes in the following manner:\n",
    "$$ Pr(0) = |\\langle v\\,|\\,0 \\rangle|^2 = |a|^2 \\\\ Pr(1) = |\\langle v\\,|\\,1 \\rangle|^2 = |b|^2,$$\n",
    "and as long as \\\\(|a|^2+|b|^2 = 1\\\\) we are able to recover acceptable probabilities for outcomes based on our new complex vector. \n",
    "\n",
    "This switch to complex vectors means that rather than representing a state vector in the plane, we instead to representing the vector on a sphere (called the Bloch sphere in the quantum mechanics literature). From this perspective the quantum state corresponding to a certain 0 outcome is represented by:\n",
    "\n",
    "## ---------IMAGE HERE----------\n",
    "\n",
    "Multiple qubits are represented in precisely the same way, but taking tensor products of the spaces and states. Thus \\\\(n\\\\) qubits have \\\\(2^n\\\\) possible states."
   ]
  },
  {
   "cell_type": "markdown",
   "metadata": {},
   "source": [
    "#### An important distinction\n",
    "\n",
    "An important distinction between the probabilistic case described above and the quantum case is that probabilistic states may just mask out ignorance.  For example a coin is physically only 0 or 1 and the probalistic view merely represents our ignorance about which it actually is.  **This is not the case in quantum mechanics**.  The quantum states - as far as we know - cannot mask any underlying state. This is what people mean when they say that there is no \"hidden variable theory\" for quantum mechanics.  These probabilistic quantum states are as real as it gets: they don't describe our knowledge of the quantum system, they describe the physical reality of the system."
   ]
  },
  {
   "cell_type": "markdown",
   "metadata": {},
   "source": [
    "#### Some code\n",
    "Let's take a look at some code in pyQuil to see how these quantum states play out.  We'll explain many more details about operations and pyQuil in the next sections.\n",
    "\n",
    "The QVM is available on your local machine. You can initialize a localQVM instance by doing the following in your terminal:\n",
    "\n",
    "\n",
    "\n",
    "    ### CONSOLE 1\n",
    "    $ qvm -S\n",
    "    Configured with 2048 MiB of workspace and 8 workers.)\n",
    "    [2018-09-20 15:39:50] Starting server on port 5000.\n",
    "\n",
    "    from pyquil import get_qc\n",
    "    qvm = get_qc('9q-generic-qvm')"
   ]
  },
  {
   "cell_type": "code",
   "execution_count": 22,
   "metadata": {},
   "outputs": [
    {
     "name": "stdout",
     "output_type": "stream",
     "text": [
      "(1+0j)|0>\n"
     ]
    }
   ],
   "source": [
    "# imports for pyQuil. \n",
    "from pyquil import Program, get_qc\n",
    "from pyquil.gates import *\n",
    "import numpy as np\n",
    "from pyquil.api import WavefunctionSimulator\n",
    "qvm = get_qc('9q-generic-qvm')\n",
    "\n",
    "make_wf = WavefunctionSimulator()\n",
    "\n",
    "# pyQuil is based around operations (or gates) so we'll start with the most\n",
    "# basic one: the identity operation, called I. I takes one argument, the index\n",
    "# of the qubit that it should be applied to.\n",
    "from pyquil.gates import I\n",
    "\n",
    "# make a quantum program that allocates one qubit (qubit #0) and does nothing to it\n",
    "p = Program(I(0))\n",
    "\n",
    "# quantum states are called wavefunctions for historical reasons\n",
    "# so we can run this basic program on our connection to the simulator.\n",
    "# This call will return the state of our qubits after we run program p.\n",
    "wavefunction = make_wf.wavefunction(p)\n",
    "print(wavefunction)"
   ]
  },
  {
   "cell_type": "code",
   "execution_count": 23,
   "metadata": {},
   "outputs": [
    {
     "name": "stdout",
     "output_type": "stream",
     "text": [
      "Our qubit is in the state alpha=0j and beta=(1+0j)\n"
     ]
    }
   ],
   "source": [
    "# we can import the qubit \"flip\" operation (called X), which we'll talk about in the next section\n",
    "# and see what that does.\n",
    "from pyquil.gates import X\n",
    "p = Program(X(0))\n",
    "\n",
    "qvm = get_qc('9q-generic-qvm')\n",
    "alpha, beta = make_wf.wavefunction(p)\n",
    "print(\"Our qubit is in the state alpha={} and beta={}\".format(alpha, beta))"
   ]
  },
  {
   "cell_type": "markdown",
   "metadata": {},
   "source": [
    "# multiple qubits also produce the expected scaling of the state"
   ]
  },
  {
   "cell_type": "code",
   "execution_count": 24,
   "metadata": {},
   "outputs": [
    {
     "name": "stdout",
     "output_type": "stream",
     "text": [
      "I 0\n",
      "I 1\n",
      " The quantum state is of dimension: 2\n",
      "\n",
      "I 0\n",
      "I 1\n",
      "I 2\n",
      "I 3\n",
      " The quantum state is of dimension: 4\n",
      "\n",
      "I 0\n",
      "I 1\n",
      "I 2\n",
      "I 3\n",
      "I 4\n",
      "I 5\n",
      "I 6\n",
      "I 7\n",
      "I 8\n",
      "I 9\n",
      " The quantum state is of dimension: 10\n"
     ]
    }
   ],
   "source": [
    "p = Program(I(0), I(1))\n",
    "print(p,\"The quantum state is of dimension:\", len(make_wf.wavefunction(p)))\n",
    "print()\n",
    "\n",
    "p = Program(I(0), I(1), I(2), I(3))\n",
    "print(p,\"The quantum state is of dimension:\", len(make_wf.wavefunction(p)))\n",
    "print()\n",
    "\n",
    "p = Program()\n",
    "for x in range(10):\n",
    "    p.inst(I(x))\n",
    "print(p,\"The quantum state is of dimension:\", len(make_wf.wavefunction(p)))"
   ]
  },
  {
   "cell_type": "markdown",
   "metadata": {},
   "source": [
    "# wavefunction(Program) returns a coefficient array that corresponds to outcomes in the following order\n",
    "\n"
   ]
  },
  {
   "cell_type": "code",
   "execution_count": 20,
   "metadata": {},
   "outputs": [
    {
     "name": "stdout",
     "output_type": "stream",
     "text": [
      "[1. 0. 0. 0.]\n"
     ]
    }
   ],
   "source": [
    "wavefunction = make_wf.wavefunction(Program(I(0), I(1)))\n",
    "print(wavefunction.probabilities()) "
   ]
  },
  {
   "cell_type": "markdown",
   "metadata": {},
   "source": [
    "## Qubit operations"
   ]
  },
  {
   "cell_type": "markdown",
   "metadata": {},
   "source": [
    "In the previous section we introduced our first two \"operations\" the I (or identity operation) and the X operation. Here we'll get into some more details on what these operations are.  Quantum states are complex vectors and quantum operations are **unitary matrices**.  Applying an operation to a quantum state is the same as multiplying a vector by a certain kind of matrix. These matrices are called **gates**\n",
    "\n",
    "Since individual qubits are two-dimensional vectors, operations on individual qubits are 2x2 matrices.  This is what the identity matrix looks like:\n",
    "$$\n",
    "I = \\left(\\begin{matrix}\n",
    "1 & 0\\\\\n",
    "0 & 1\n",
    "\\end{matrix}\\right)\n",
    "$$\n",
    "so the a program that applies this operation to the zero state is just\n",
    "$$ I\\,|\\,0\\rangle = \\left(\\begin{matrix}\n",
    "1 & 0\\\\\n",
    "0 & 1\n",
    "\\end{matrix}\\right)\\left(\\begin{matrix}\n",
    "1 \\\\\n",
    "0 \n",
    "\\end{matrix}\\right) = \\left(\\begin{matrix}\n",
    "1 \\\\\n",
    "0 \n",
    "\\end{matrix}\\right) = |\\,0\\rangle$$"
   ]
  },
  {
   "cell_type": "code",
   "execution_count": 5,
   "metadata": {},
   "outputs": [
    {
     "name": "stdout",
     "output_type": "stream",
     "text": [
      "(1+0j)|0>\n"
     ]
    }
   ],
   "source": [
    "p = Program(I(0))\n",
    "wavefunction = make_wf.wavefunction(p)\n",
    "print(wavefunction)"
   ]
  },
  {
   "cell_type": "markdown",
   "metadata": {},
   "source": [
    "Other standard gates on single qubits are given by the Pauli operator matrices\n",
    "$$\n",
    "X = \\left(\\begin{matrix}\n",
    "0 & 1\\\\\n",
    "1 & 0\n",
    "\\end{matrix}\\right)\n",
    "\\qquad\n",
    "Y = \\left(\\begin{matrix}\n",
    "0 & -i\\\\\n",
    "i & 0\n",
    "\\end{matrix}\\right)\n",
    "\\qquad\n",
    "Z = \\left(\\begin{matrix}\n",
    "1 & 0\\\\\n",
    "0 & -1\n",
    "\\end{matrix}\\right)\n",
    "$$"
   ]
  },
  {
   "cell_type": "code",
   "execution_count": 6,
   "metadata": {},
   "outputs": [
    {
     "name": "stdout",
     "output_type": "stream",
     "text": [
      "X|0> =  [[1 0 0 0 0 0 0 0 0]]\n",
      "Y|0> =  [[1 0 0 0 0 0 0 0 0]]\n",
      "Z|0> =  [[0 0 0 0 0 0 0 0 0]]\n"
     ]
    }
   ],
   "source": [
    "from pyquil.gates import X, Y, Z\n",
    "\n",
    "p = Program(X(0))\n",
    "print(\"X|0> = \", qvm.run_and_measure(p, 1))\n",
    "\n",
    "p = Program(Y(0))\n",
    "print(\"Y|0> = \", qvm.run_and_measure(p, 1))\n",
    "\n",
    "p = Program(Z(0))\n",
    "print(\"Z|0> = \", qvm.run_and_measure(p, 1))"
   ]
  },
  {
   "cell_type": "markdown",
   "metadata": {},
   "source": [
    "# composing qubit operations is the same as multiplying multiple matrices in sequence\n",
    "p = Program(X(0), Y(0), Z(0))\n",
    "print \"ZYX|0> = \", quantum_simulator.wavefunction(p)\n",
    "print \"With outcome probabilities\\n\", quantum_simulator.probabilities(p)"
   ]
  },
  {
   "cell_type": "markdown",
   "metadata": {},
   "source": [
    "Operations can also be applied to composite states of multiple qubits. One common example is the controlled-not or CNOT gate that works on two qubits.  Its matrix form is:\n",
    "$$\n",
    "CNOT = \\left(\\begin{matrix}\n",
    "1 & 0 & 0 & 0 \\\\\n",
    "0 & 1 & 0 & 0 \\\\\n",
    "0 & 0 & 0 & 1 \\\\\n",
    "0 & 0 & 1 & 0 \\\\\n",
    "\\end{matrix}\\right)\n",
    "$$"
   ]
  },
  {
   "cell_type": "code",
   "execution_count": 7,
   "metadata": {},
   "outputs": [
    {
     "name": "stdout",
     "output_type": "stream",
     "text": [
      "CNOT|00> =  [[0 0 0 0 0 0 0 0 0]]\n",
      "CNOT|01> =  [[1 1 0 0 0 0 0 0 0]]\n",
      "CNOT|10> =  [[0 1 0 0 0 0 0 0 0]]\n",
      "CNOT|11> =  [[1 0 0 0 0 0 0 0 0]]\n"
     ]
    }
   ],
   "source": [
    "from pyquil.gates import CNOT\n",
    "\n",
    "p = Program(CNOT(0, 1))\n",
    "print(\"CNOT|00> = \", qvm.run_and_measure(p, 1))\n",
    "\n",
    "p = Program(X(0), CNOT(0, 1))\n",
    "print(\"CNOT|01> = \", qvm.run_and_measure(p, 1))\n",
    "\n",
    "p = Program(X(1), CNOT(0, 1))\n",
    "print(\"CNOT|10> = \", qvm.run_and_measure(p, 1))\n",
    "\n",
    "p = Program(X(0), X(1), CNOT(0, 1))\n",
    "print(\"CNOT|11> = \", qvm.run_and_measure(p, 1))"
   ]
  },
  {
   "cell_type": "markdown",
   "metadata": {},
   "source": [
    "Another example is the SWAP gate:\n",
    "$$\n",
    "SWAP = \\left(\\begin{matrix}\n",
    "1 & 0 & 0 & 0 \\\\\n",
    "0 & 0 & 1 & 0 \\\\\n",
    "0 & 1 & 0 & 0 \\\\\n",
    "0 & 0 & 0 & 1 \\\\\n",
    "\\end{matrix}\\right)\n",
    "$$"
   ]
  },
  {
   "cell_type": "code",
   "execution_count": 8,
   "metadata": {},
   "outputs": [
    {
     "name": "stdout",
     "output_type": "stream",
     "text": [
      "SWAP|01> =  (1+0j)|01>\n",
      "With outcome probabilities\n",
      " [0. 1. 0. 0.]\n"
     ]
    }
   ],
   "source": [
    "from pyquil.gates import SWAP\n",
    "\n",
    "wavefunction = make_wf.wavefunction(p)\n",
    "print(\"SWAP|01> = \", wavefunction)\n",
    "print(\"With outcome probabilities\\n\", wavefunction.probabilities())"
   ]
  },
  {
   "cell_type": "markdown",
   "metadata": {},
   "source": [
    "Quantum computing operations are then composed of a series of these complex matrices being applied to complex vectors.  The reason that these matrices have to be unitary (i.e. that their complex conjugate transpose is their inverse) is that this preserves that the overall probability of all outcomes always sums to one."
   ]
  },
  {
   "cell_type": "markdown",
   "metadata": {},
   "source": [
    "## The Quantum Abstract Machine"
   ]
  },
  {
   "cell_type": "markdown",
   "metadata": {},
   "source": [
    "We now have enough background to introduce the overall programming model that underlies Quil.  This is a hybrid quantum-classical model where some \\\\(N\\\\) qubits interact with \\\\(M\\\\) classical bits. It looks a little like this:"
   ]
  },
  {
   "cell_type": "markdown",
   "metadata": {
    "collapsed": true
   },
   "source": [
    "## IMAGE HERE"
   ]
  },
  {
   "cell_type": "markdown",
   "metadata": {},
   "source": [
    "These qubits and classical bits come with a defined gate set, e.g. which gate operations can be applied to which qubit.  Different kinds of quantum computing hardware places different limitations on what gates can be applied, and the fixed gate set represents these limitations.\n",
    "\n",
    "The next section on measurements will describe the interaction between the classical and quantum parts of a Quantum Abstract Machine (QAM)."
   ]
  },
  {
   "cell_type": "markdown",
   "metadata": {},
   "source": [
    "## Qubit measurements: classical/quantum interaction"
   ]
  },
  {
   "cell_type": "markdown",
   "metadata": {},
   "source": [
    "Measurements have two effects:\n",
    "1. They project the state vector onto one of the basic outcomes \n",
    "2. (and this is optional) They store the outcome of the measurement in a classical bit.\n",
    "\n",
    "Here's a simple example:"
   ]
  },
  {
   "cell_type": "code",
   "execution_count": 18,
   "metadata": {},
   "outputs": [
    {
     "data": {
      "text/plain": [
       "<pyquil.quil.Program at 0x1154a2860>"
      ]
     },
     "execution_count": 18,
     "metadata": {},
     "output_type": "execute_result"
    }
   ],
   "source": [
    "# create a program that stores the outcome of measuring qubit #0 into classical register [0]\n",
    "p = Program(I(0))\n",
    "number_of_classical_registers = 1\n",
    "ro = p.declare('ro', 'BIT', number_of_classical_registers)\n",
    "p.measure(0, ro[0])"
   ]
  },
  {
   "cell_type": "markdown",
   "metadata": {},
   "source": [
    "So far we have used the quantum simulator to cheat a little bit.  We have actually looked at the wavefunction that comes back, when, on real quantum hardware, we are unable to directly look at the wavefunction. Instead we only have access to the classical bits that are affected by measurements.  This functionality is emulated by the `qvm.run` command."
   ]
  },
  {
   "cell_type": "code",
   "execution_count": 19,
   "metadata": {},
   "outputs": [
    {
     "name": "stdout",
     "output_type": "stream",
     "text": [
      "PyQuilExecutableResponse(attributes={'native_quil_metadata': {'final-rewiring': [0, 1, 2, 3, 4, 5, 6, 7, 8]}, 'num_shots': 1}, program='DECLARE ro BIT[1]\\nPRAGMA EXPECTED_REWIRING \"#(0 1 2 3 4 5 6 7 8)\"\\nPRAGMA CURRENT_REWIRING \"#(0 1 2 3 4 5 6 7 8)\"\\nPRAGMA EXPECTED_REWIRING \"#(0 1 2 3 4 5 6 7 8)\"\\nMEASURE 0 ro[0]\\nPRAGMA CURRENT_REWIRING \"#(0 1 2 3 4 5 6 7 8)\"\\n')\n"
     ]
    },
    {
     "data": {
      "text/plain": [
       "array([[0]])"
      ]
     },
     "execution_count": 19,
     "metadata": {},
     "output_type": "execute_result"
    }
   ],
   "source": [
    "# choose what classical registers to look in at the end of the computation\n",
    "p_c = qvm.compile(p)\n",
    "print(p_c)\n",
    "qvm.run(p_c, ro)"
   ]
  },
  {
   "cell_type": "markdown",
   "metadata": {},
   "source": [
    "We see that the register is zero. However, if we had flipped the qubit before measurement then we obtain:"
   ]
  },
  {
   "cell_type": "code",
   "execution_count": 11,
   "metadata": {},
   "outputs": [
    {
     "data": {
      "text/plain": [
       "array([[1]])"
      ]
     },
     "execution_count": 11,
     "metadata": {},
     "output_type": "execute_result"
    }
   ],
   "source": [
    "p = Program(X(0)) # flip the qubit\n",
    "classical_registers = 2\n",
    "ro = p.declare('ro', 'BIT', classical_registers)\n",
    "\n",
    "p.measure(0, ro[0]) # measure the qubit\n",
    "p_c = qvm.compile(p)\n",
    "qvm.run(p_c, ro)"
   ]
  },
  {
   "cell_type": "markdown",
   "metadata": {},
   "source": [
    "These measurements are deterministic, e.g. if we make them multiple times the we always get the same outcome:"
   ]
  },
  {
   "cell_type": "code",
   "execution_count": 12,
   "metadata": {},
   "outputs": [
    {
     "data": {
      "text/plain": [
       "array([[1, 0, 0, 0, 0, 0, 0, 0, 0],\n",
       "       [1, 0, 0, 0, 0, 0, 0, 0, 0],\n",
       "       [1, 0, 0, 0, 0, 0, 0, 0, 0],\n",
       "       [1, 0, 0, 0, 0, 0, 0, 0, 0],\n",
       "       [1, 0, 0, 0, 0, 0, 0, 0, 0],\n",
       "       [1, 0, 0, 0, 0, 0, 0, 0, 0],\n",
       "       [1, 0, 0, 0, 0, 0, 0, 0, 0],\n",
       "       [1, 0, 0, 0, 0, 0, 0, 0, 0],\n",
       "       [1, 0, 0, 0, 0, 0, 0, 0, 0],\n",
       "       [1, 0, 0, 0, 0, 0, 0, 0, 0]])"
      ]
     },
     "execution_count": 12,
     "metadata": {},
     "output_type": "execute_result"
    }
   ],
   "source": [
    "p = Program(X(0))# flip the qubit\n",
    "trials = 10\n",
    "\n",
    "qvm.run_and_measure(p, 10) # measure the qubit\n",
    "\n"
   ]
  },
  {
   "cell_type": "markdown",
   "metadata": {},
   "source": [
    "However this is not the case in general.  Looking at those examples will allow us to understand the way that measurements affect the quantum state as well. We will see that measurements act like projections onto the outcome basis states.  First we introduce the Hadamard matrix:\n",
    "$$\n",
    "H = \\frac{1}{\\sqrt{2}}\\left(\\begin{matrix}\n",
    "1 & 1\\\\\n",
    "1 & -1\n",
    "\\end{matrix}\\right)\n",
    "$$"
   ]
  },
  {
   "cell_type": "code",
   "execution_count": 15,
   "metadata": {},
   "outputs": [
    {
     "name": "stdout",
     "output_type": "stream",
     "text": [
      "H|0> =  (0.7071067812+0j)|0> + (0.7071067812+0j)|1>\n",
      "With outcome probabilities\n",
      " [0.5 0.5]\n"
     ]
    }
   ],
   "source": [
    "from pyquil.gates import H\n",
    "\n",
    "# The Hadamard produces what is called a superposition state\n",
    "coin_program = Program(H(0))\n",
    "wavefunction = make_wf.wavefunction(coin_program)\n",
    "print(\"H|0> = \", wavefunction)\n",
    "print(\"With outcome probabilities\\n\", wavefunction.probabilities())"
   ]
  },
  {
   "cell_type": "markdown",
   "metadata": {},
   "source": [
    "A qubit in this state will half the time be measured to be in 0 and half the time be measured to be in 1. In essence this qubit truly is a random variable representing a coin.  In fact, there are many wavefunctions that will give this same operational outcome. There is a continuous family of states of the form:\n",
    "$$\n",
    "\\frac{1}{\\sqrt{2}}\\left(|\\,0\\rangle + e^{i\\theta}|\\,1\\rangle\\right)\n",
    "$$\n",
    "that represent the outcomes of an unbiased coin."
   ]
  },
  {
   "cell_type": "code",
   "execution_count": 8,
   "metadata": {},
   "outputs": [
    {
     "data": {
      "text/plain": [
       "array([[0, 0, 0, 0, 0, 0, 0, 0, 0],\n",
       "       [0, 0, 0, 0, 0, 0, 0, 0, 0],\n",
       "       [1, 0, 0, 0, 0, 0, 0, 0, 0],\n",
       "       [1, 0, 0, 0, 0, 0, 0, 0, 0],\n",
       "       [1, 0, 0, 0, 0, 0, 0, 0, 0],\n",
       "       [1, 0, 0, 0, 0, 0, 0, 0, 0],\n",
       "       [0, 0, 0, 0, 0, 0, 0, 0, 0],\n",
       "       [1, 0, 0, 0, 0, 0, 0, 0, 0],\n",
       "       [1, 0, 0, 0, 0, 0, 0, 0, 0],\n",
       "       [0, 0, 0, 0, 0, 0, 0, 0, 0]])"
      ]
     },
     "execution_count": 8,
     "metadata": {},
     "output_type": "execute_result"
    }
   ],
   "source": [
    "# introduce measurement\n",
    "\n",
    "coin_program = Program(H(0))\n",
    "trials = 10\n",
    "\n",
    "# we see probabilistic results of about half 1's and half 0's\n",
    "qvm.run_and_measure(coin_program, trials)"
   ]
  },
  {
   "cell_type": "markdown",
   "metadata": {},
   "source": [
    "Another interesting thing to do is to look at the wavefunction AFTER a measurement."
   ]
  },
  {
   "cell_type": "code",
   "execution_count": 8,
   "metadata": {},
   "outputs": [
    {
     "name": "stdout",
     "output_type": "stream",
     "text": [
      "Before measurement: H|0> =  (0.7071067812+0j)|0> + (0.7071067812+0j)|1>\n",
      "After measurement:  (1+0j)|1>\n",
      "After measurement:  (1+0j)|1>\n",
      "After measurement:  (1+0j)|1>\n",
      "After measurement:  (1+0j)|1>\n",
      "After measurement:  (1+0j)|1>\n"
     ]
    }
   ],
   "source": [
    "number_of_classical_registers = 1\n",
    "\n",
    "coin_program = Program(H(0))\n",
    "ro = coin_program.declare('ro', 'BIT', number_of_classical_registers)\n",
    "\n",
    "print(\"Before measurement: H|0> = \", make_wf.wavefunction(coin_program))\n",
    "coin_program.measure(0, ro[0])\n",
    "for x in range(5):\n",
    "    print(\"After measurement: \", make_wf.wavefunction(coin_program))"
   ]
  },
  {
   "cell_type": "markdown",
   "metadata": {},
   "source": [
    "We can clearly see that measurement has an effect on the quantum state independent of what is stored classically.  We begin in a state that has a 50-50 probability of being one or zero. After measurement, the state changes into being 100% 0 or 100% 1 depending on which outcome was obtained.  This is the phenomemon reffered to as wavefunction \"collapse\".  Mathematically, the wavefunction is being projected onto the vector of the obtained outcome."
   ]
  },
  {
   "cell_type": "code",
   "execution_count": 28,
   "metadata": {},
   "outputs": [
    {
     "name": "stdout",
     "output_type": "stream",
     "text": [
      "Before measurement: Bell state =  (0.7071067812+0j)|00> + (0.7071067812+0j)|11>\n",
      "After measurement: {'00': 0.0, '01': 0.0, '10': 0.0, '11': 1.0}\n",
      "After measurement: {'00': 0.0, '01': 0.0, '10': 0.0, '11': 1.0}\n",
      "After measurement: {'00': 0.0, '01': 0.0, '10': 0.0, '11': 1.0}\n",
      "After measurement: {'00': 0.0, '01': 0.0, '10': 0.0, '11': 1.0}\n",
      "After measurement: {'00': 0.0, '01': 0.0, '10': 0.0, '11': 1.0}\n"
     ]
    }
   ],
   "source": [
    "# This happens with bigger systems too\n",
    "number_of_classical_registers = 1\n",
    "\n",
    "# this program prepares something called a Bell state (a special kind of \"entangled state\")\n",
    "bell_program = Program(H(0), CNOT(0, 1))\n",
    "ro = bell_program.declare('ro', 'BIT', number_of_classical_registers)\n",
    "\n",
    "print(\"Before measurement: Bell state = \", make_wf.wavefunction(bell_program))\n",
    "\n",
    "bell_program.measure(0, ro[0])\n",
    "\n",
    "for x in range(5):\n",
    "    wavefunction = make_wf.wavefunction(bell_program)\n",
    "    print(\"After measurement:\", wavefunction.get_outcome_probs())"
   ]
  },
  {
   "cell_type": "markdown",
   "metadata": {},
   "source": [
    "The above program prepares \"entanglement\" because even though their are random outcomes, after all measurement both qubits are the same. They are either both 0 or both 1. This kind of special correllation is the sort of thing quantum mechanics is famous for."
   ]
  },
  {
   "cell_type": "markdown",
   "metadata": {},
   "source": [
    "## ____ NICE DIAGRAMRAMRAR_______"
   ]
  },
  {
   "cell_type": "markdown",
   "metadata": {},
   "source": [
    "## Classical control"
   ]
  },
  {
   "cell_type": "markdown",
   "metadata": {},
   "source": [
    "There are also ways of introducing classical control of quantum programs, i.e. using the state of classical bits to determine what quantum operations to run."
   ]
  },
  {
   "cell_type": "code",
   "execution_count": 46,
   "metadata": {},
   "outputs": [
    {
     "data": {
      "text/plain": [
       "array([[1]])"
      ]
     },
     "execution_count": 46,
     "metadata": {},
     "output_type": "execute_result"
    }
   ],
   "source": [
    "if_prog = Program(X(7)) # if branch\n",
    "else_prog = Program(I(7)) # else branch\n",
    "p = Program(X(0))\n",
    "ro = p.declare('ro', 'BIT', 7)\n",
    "p.measure(0, ro[1]).if_then(ro[1], if_prog, else_prog) # branch on classical reg [1]\n",
    "p.measure(7, ro[7]) # measure qubit #7 into classical register ro[7]\n",
    "make_wf.run_and_measure(p, [7]) # run and check qubit [7]"
   ]
  },
  {
   "cell_type": "markdown",
   "metadata": {},
   "source": [
    "A [1] here means that qubit 7 was indeed flipped. ##DIAGRAMS"
   ]
  },
  {
   "cell_type": "markdown",
   "metadata": {},
   "source": [
    "## Example: The Probabilistically Halting Problem"
   ]
  },
  {
   "cell_type": "markdown",
   "metadata": {},
   "source": [
    "A fun example is to create a program that has an exponentially decreasing chance of halting, but that may run forever!"
   ]
  },
  {
   "cell_type": "code",
   "execution_count": 29,
   "metadata": {},
   "outputs": [
    {
     "name": "stderr",
     "output_type": "stream",
     "text": [
      "/Users/tushar/anaconda3/lib/python3.6/site-packages/pyquil/quilatom.py:610: UserWarning: Addr objects have been deprecated. Defaulting to memory region \"ro\". Use MemoryReference instead.\n",
      "  warn(\"Addr objects have been deprecated. Defaulting to memory region \\\"ro\\\". Use MemoryReference instead.\")\n"
     ]
    },
    {
     "data": {
      "text/plain": [
       "array([[0]])"
      ]
     },
     "execution_count": 29,
     "metadata": {},
     "output_type": "execute_result"
    }
   ],
   "source": [
    "p = Program()\n",
    "inside_loop = Program(H(0))\n",
    "ro = inside_loop.declare('ro', 'BIT', 1)\n",
    "inside_loop.measure(0, ro[0])\n",
    "\n",
    "p.while_do(0, inside_loop)\n",
    "qvm.run(p) "
   ]
  },
  {
   "cell_type": "markdown",
   "metadata": {},
   "source": [
    "# Next Steps\n",
    "\n",
    "We hope that you have enjoyed your whirlwind tour of quantum computing. Lots more resources can be found online and we recommend Nielsen and Chuang's Quantum Information and Quantum Computation as a particular excellent beginner's resource.\n"
   ]
  },
  {
   "cell_type": "code",
   "execution_count": null,
   "metadata": {},
   "outputs": [],
   "source": []
  }
 ],
 "metadata": {
  "kernelspec": {
   "display_name": "Python 3",
   "language": "python",
   "name": "python3"
  },
  "language_info": {
   "codemirror_mode": {
    "name": "ipython",
    "version": 3
   },
   "file_extension": ".py",
   "mimetype": "text/x-python",
   "name": "python",
   "nbconvert_exporter": "python",
   "pygments_lexer": "ipython3",
   "version": "3.6.5"
  }
 },
 "nbformat": 4,
 "nbformat_minor": 1
}
