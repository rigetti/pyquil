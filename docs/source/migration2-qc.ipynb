{
 "cells": [
  {
   "cell_type": "markdown",
   "metadata": {},
   "source": [
    "# New in Forest 2 - QuantumComputer\n",
    "\n",
    "PyQuil is for constructing and running quantum programs on real quantum computers. With the release of pyQuil 2, we have changed parts of the API to better reflect that focus. Instead of swapping between a `QVMConnection` and a `QPUConnection`, you will primarily deal with a `QuantumComputer` with consistent API and behavior regardless of\n",
    "\n",
    " - QVM / QPU\n",
    " - Presence of noise model\n",
    " - Device topology\n",
    " \n",
    "## Running a program\n",
    "Let's show how you can run a simple program on a `QuantumComputer` first we start with the relevant imports."
   ]
  },
  {
   "cell_type": "code",
   "execution_count": 1,
   "metadata": {},
   "outputs": [],
   "source": [
    "from pyquil import Program\n",
    "from pyquil.gates import *"
   ]
  },
  {
   "cell_type": "markdown",
   "metadata": {},
   "source": [
    "We'll write a function that takes a list of qubits and returns a pyQuil `Program` that constructs an entangled \"GHZ\" state. This is a generalization of the two-qubit Bell state."
   ]
  },
  {
   "cell_type": "code",
   "execution_count": 2,
   "metadata": {},
   "outputs": [],
   "source": [
    "def ghz_state(qubits):\n",
    "    \"\"\"Create a GHZ state on the given list of qubits by applying\n",
    "    a Hadamard gate to the first qubit followed by a chain of CNOTs\n",
    "    \"\"\"\n",
    "    program = Program()\n",
    "    program += H(qubits[0])\n",
    "    for q1, q2 in zip(qubits, qubits[1:]):\n",
    "        program += CNOT(q1, q2)\n",
    "    return program"
   ]
  },
  {
   "cell_type": "markdown",
   "metadata": {},
   "source": [
    "For example, creating a GHZ state on qubits 1, 2, and 3 would look like:"
   ]
  },
  {
   "cell_type": "code",
   "execution_count": 3,
   "metadata": {},
   "outputs": [
    {
     "name": "stdout",
     "output_type": "stream",
     "text": [
      "H 0\n",
      "CNOT 0 1\n",
      "CNOT 1 2\n",
      "\n"
     ]
    }
   ],
   "source": [
    "program = ghz_state(qubits=[0, 1, 2])\n",
    "print(program)"
   ]
  },
  {
   "cell_type": "markdown",
   "metadata": {},
   "source": [
    "## Debugging with `WavefunctionSimulator`\n",
    "We can check that this program gives us the desired wavefunction by using [WavefunctionSimulator.wavefunction()](apidocs/autogen/pyquil.api.WavefunctionSimulator.wavefunction.rst#pyquil.api.WavefunctionSimulator.wavefunction)"
   ]
  },
  {
   "cell_type": "code",
   "execution_count": 4,
   "metadata": {},
   "outputs": [
    {
     "name": "stdout",
     "output_type": "stream",
     "text": [
      "(0.7071067812+0j)|000> + (0.7071067812+0j)|111>\n"
     ]
    }
   ],
   "source": [
    "from pyquil.api import WavefunctionSimulator\n",
    "wfn = WavefunctionSimulator().wavefunction(program)\n",
    "print(wfn)"
   ]
  },
  {
   "cell_type": "markdown",
   "metadata": {},
   "source": [
    "We can't get the wavefunction from a real quantum computer though, so instead we'll sample bitstrings. We expect to always measure the bitstring 000 or the bitstring 111 based on the definition of a GHZ state and confirmed by our wavefunction simulation."
   ]
  },
  {
   "cell_type": "markdown",
   "metadata": {},
   "source": [
    "## `get_qc`\n",
    "\n",
    "We'll construct a `QuantumComputer` via the helper method [get_qc](apidocs/quantum_computer.rst#pyquil.get_qc). You may be tempted to use the `QuantumComputer` constructor directly. Please refer to the [advanced documentation](#%E2%80%9CWhat-is-a-QuantumComputer?%E2%80%9D-Advanced-Edition) to see how to do that. Our program uses 3 qubits, so we'll ask for a 3-qubit QVM."
   ]
  },
  {
   "cell_type": "code",
   "execution_count": 5,
   "metadata": {},
   "outputs": [
    {
     "data": {
      "text/plain": [
       "QuantumComputer[name=\"3q-qvm\"]"
      ]
     },
     "execution_count": 5,
     "metadata": {},
     "output_type": "execute_result"
    }
   ],
   "source": [
    "from pyquil import get_qc\n",
    "qc = get_qc('3q-qvm')\n",
    "qc"
   ]
  },
  {
   "cell_type": "markdown",
   "metadata": {},
   "source": [
    "We can do a quick check to make sure it has 3 qubits"
   ]
  },
  {
   "cell_type": "code",
   "execution_count": 6,
   "metadata": {},
   "outputs": [
    {
     "data": {
      "text/plain": [
       "[0, 1, 2]"
      ]
     },
     "execution_count": 6,
     "metadata": {},
     "output_type": "execute_result"
    }
   ],
   "source": [
    "qc.qubits()"
   ]
  },
  {
   "cell_type": "markdown",
   "metadata": {},
   "source": [
    "## Sampling with `run_and_measure`\n",
    "\n",
    "`QuantumComputer.run_and_measure` will run a given program (that does not have explicit `MEASURE` instructions) and then measure *all qubits present in the quantum computer*."
   ]
  },
  {
   "cell_type": "code",
   "execution_count": 7,
   "metadata": {},
   "outputs": [
    {
     "data": {
      "text/plain": [
       "{0: array([1, 0, 0, 1, 1, 1, 1, 0, 1, 0]),\n",
       " 1: array([1, 0, 0, 1, 1, 1, 1, 0, 1, 0]),\n",
       " 2: array([1, 0, 0, 1, 1, 1, 1, 0, 1, 0])}"
      ]
     },
     "execution_count": 7,
     "metadata": {},
     "output_type": "execute_result"
    }
   ],
   "source": [
    "bitstrings = qc.run_and_measure(program, trials=10)\n",
    "bitstrings"
   ]
  },
  {
   "cell_type": "markdown",
   "metadata": {},
   "source": [
    "Let's programatically verify that we always measure 000 or 111 by \"summing\" each bitstring and checking if it's eather 0 (for 000) or 3 (for 111)"
   ]
  },
  {
   "cell_type": "code",
   "execution_count": 8,
   "metadata": {},
   "outputs": [
    {
     "data": {
      "text/plain": [
       "array([3, 0, 0, 3, 3, 3, 3, 0, 3, 0])"
      ]
     },
     "execution_count": 8,
     "metadata": {},
     "output_type": "execute_result"
    }
   ],
   "source": [
    "import numpy as np\n",
    "bitstring_array = np.vstack(bitstrings[q] for q in qc.qubits()).T\n",
    "sums = np.sum(bitstring_array, axis=1)\n",
    "sums"
   ]
  },
  {
   "cell_type": "code",
   "execution_count": 9,
   "metadata": {},
   "outputs": [
    {
     "data": {
      "text/plain": [
       "array([ True,  True,  True,  True,  True,  True,  True,  True,  True,\n",
       "        True])"
      ]
     },
     "execution_count": 9,
     "metadata": {},
     "output_type": "execute_result"
    }
   ],
   "source": [
    "sample_is_ghz = np.logical_or(sums == 0, sums == 3)\n",
    "sample_is_ghz"
   ]
  },
  {
   "cell_type": "code",
   "execution_count": 10,
   "metadata": {},
   "outputs": [
    {
     "data": {
      "text/plain": [
       "True"
      ]
     },
     "execution_count": 10,
     "metadata": {},
     "output_type": "execute_result"
    }
   ],
   "source": [
    "np.all(sample_is_ghz)"
   ]
  },
  {
   "cell_type": "markdown",
   "metadata": {},
   "source": [
    "## Change alert: `run_and_measure` will return a dictionary of 1d bitstrings.\n",
    "\n",
    "*Not* a 2d array. To demonstrate why, consider a lattice whose qubits are not contiguously indexed from 0."
   ]
  },
  {
   "cell_type": "code",
   "execution_count": 11,
   "metadata": {},
   "outputs": [],
   "source": [
    "# TODO: we need a lattice that is not zero-indexed\n",
    "# qc = get_qc('Aspen-0-3Q-B')\n",
    "# qc.run_and_measure(ghz_state(qubits=[1,2,3]))"
   ]
  },
  {
   "cell_type": "markdown",
   "metadata": {},
   "source": [
    "## Change alert: All qubits are measured\n",
    "\n",
    "PyQuil 1.x's `run_and_measure` would only measure qubits used in the given program. Now all qubits (per `qc.qubits()`) are measured. This is easier to reason about and reflects the reality of running on a QPU. When accounting for noise or when running QCVV tasks, you may be interested in the measurement results of qubits that weren't even used in your program!"
   ]
  },
  {
   "cell_type": "code",
   "execution_count": 12,
   "metadata": {},
   "outputs": [
    {
     "data": {
      "text/plain": [
       "{0: array([1, 1, 1, 1, 1, 1, 1, 1, 1, 1]),\n",
       " 1: array([1, 1, 1, 1, 1, 1, 1, 1, 1, 1]),\n",
       " 2: array([1, 1, 1, 1, 1, 1, 1, 1, 1, 1]),\n",
       " 3: array([0, 0, 0, 0, 0, 0, 0, 0, 0, 0])}"
      ]
     },
     "execution_count": 12,
     "metadata": {},
     "output_type": "execute_result"
    }
   ],
   "source": [
    "qc = get_qc('4q-qvm')\n",
    "bitstrings = qc.run_and_measure(Program(X(0), X(1), X(2)), trials=10)\n",
    "bitstrings"
   ]
  },
  {
   "cell_type": "markdown",
   "metadata": {},
   "source": [
    "You can drop qubits you're not interested in by indexing into the returned dictionary"
   ]
  },
  {
   "cell_type": "code",
   "execution_count": 13,
   "metadata": {},
   "outputs": [
    {
     "data": {
      "text/plain": [
       "array([[1, 1, 1, 0],\n",
       "       [1, 1, 1, 0],\n",
       "       [1, 1, 1, 0],\n",
       "       [1, 1, 1, 0],\n",
       "       [1, 1, 1, 0],\n",
       "       [1, 1, 1, 0],\n",
       "       [1, 1, 1, 0],\n",
       "       [1, 1, 1, 0],\n",
       "       [1, 1, 1, 0],\n",
       "       [1, 1, 1, 0]])"
      ]
     },
     "execution_count": 13,
     "metadata": {},
     "output_type": "execute_result"
    }
   ],
   "source": [
    "# Stacking everything\n",
    "np.vstack(bitstrings[q] for q in qc.qubits()).T"
   ]
  },
  {
   "cell_type": "code",
   "execution_count": 14,
   "metadata": {},
   "outputs": [
    {
     "data": {
      "text/plain": [
       "array([[1, 1, 1],\n",
       "       [1, 1, 1],\n",
       "       [1, 1, 1],\n",
       "       [1, 1, 1],\n",
       "       [1, 1, 1],\n",
       "       [1, 1, 1],\n",
       "       [1, 1, 1],\n",
       "       [1, 1, 1],\n",
       "       [1, 1, 1],\n",
       "       [1, 1, 1]])"
      ]
     },
     "execution_count": 14,
     "metadata": {},
     "output_type": "execute_result"
    }
   ],
   "source": [
    "# Stacking what you want (contrast with above)\n",
    "qubits = [0, 1, 2]\n",
    "np.vstack(bitstrings[q] for q in qubits).T"
   ]
  },
  {
   "cell_type": "markdown",
   "metadata": {},
   "source": [
    "## Change alert: `run_and_measure` works with noise models now.\n",
    "\n",
    "In pyQuil 1.x, `run_and_measure` would not work with noise models. Now noise models are supported. Pre-configured noise models can be used via `get_qc('xxxx-noisy-qvm')`.\n",
    "\n",
    "As a consequence, `run_and_measure` for large numbers of trials will be slower in Pyquil 2."
   ]
  },
  {
   "cell_type": "code",
   "execution_count": 15,
   "metadata": {},
   "outputs": [
    {
     "data": {
      "text/plain": [
       "{0: array([0, 1, 1, 0, 0, 1, 1, 0, 1, 1]),\n",
       " 1: array([0, 1, 1, 0, 0, 1, 1, 0, 1, 1]),\n",
       " 2: array([0, 1, 1, 0, 0, 1, 1, 0, 1, 1])}"
      ]
     },
     "execution_count": 15,
     "metadata": {},
     "output_type": "execute_result"
    }
   ],
   "source": [
    "qc = get_qc('3q-noisy-qvm')\n",
    "bitstrings = qc.run_and_measure(program, trials=10)\n",
    "bitstrings"
   ]
  },
  {
   "cell_type": "code",
   "execution_count": 16,
   "metadata": {},
   "outputs": [
    {
     "data": {
      "text/plain": [
       "array([0, 3, 3, 0, 0, 3, 3, 0, 3, 3])"
      ]
     },
     "execution_count": 16,
     "metadata": {},
     "output_type": "execute_result"
    }
   ],
   "source": [
    "bitstring_array = np.vstack(bitstrings[q] for q in qc.qubits()).T\n",
    "sums = np.sum(bitstring_array, axis=1)\n",
    "sums"
   ]
  },
  {
   "cell_type": "code",
   "execution_count": 17,
   "metadata": {},
   "outputs": [
    {
     "data": {
      "text/plain": [
       "True"
      ]
     },
     "execution_count": 17,
     "metadata": {},
     "output_type": "execute_result"
    }
   ],
   "source": [
    "# Noise means now we measure things other than 000 or 111\n",
    "np.all(np.logical_or(sums == 0, sums == 3))"
   ]
  },
  {
   "cell_type": "markdown",
   "metadata": {},
   "source": [
    "## `list_quantum_computers`\n",
    "You can find all possible arguments to `get_qc` with `list_quantum_computers`"
   ]
  },
  {
   "cell_type": "code",
   "execution_count": 18,
   "metadata": {},
   "outputs": [],
   "source": [
    "from pyquil import list_quantum_computers\n",
    "# TODO: unauthenticated endpoint\n",
    "# list_quantum_computers()"
   ]
  },
  {
   "cell_type": "markdown",
   "metadata": {},
   "source": [
    "## `QuantumComputer`s have a topology\n",
    "\n",
    "An important restriction when running on a real quantum computer is the mapping of qubits to the supported two-qubit gates. The QVM is designed to provide increasing levels of \"realism\" to guarantee that if your program executes successfully on `get_qc(\"Aspen-xxx-noisy-qvm\")` then it will execute successfully on `get_qc(\"Aspen-xxx\")`*\n",
    "\n",
    "\\* guarantee not currently guaranteed. This is a work in progress."
   ]
  },
  {
   "cell_type": "markdown",
   "metadata": {},
   "source": [
    "## Inspecting the topology\n",
    "You can access a topology by `qc.qubit_topology()`, which will return a NetworkX representation of qubit connectivity. You can access the full set of supported instructions by `qc.get_isa()`. For example, we include a generic QVM named `\"9q-square-qvm\"` that has a square topology."
   ]
  },
  {
   "cell_type": "code",
   "execution_count": 19,
   "metadata": {},
   "outputs": [
    {
     "data": {
      "image/png": "[encoded data removed]",
      "text/plain": [
       "<Figure size 432x288 with 1 Axes>"
      ]
     },
     "metadata": {},
     "output_type": "display_data"
    }
   ],
   "source": [
    "qc = get_qc('9q-square-qvm')\n",
    "%matplotlib inline\n",
    "import networkx as nx\n",
    "nx.draw(qc.qubit_topology())\n",
    "from matplotlib import pyplot as plt\n",
    "_ = plt.title('9q-square-qvm', fontsize=18)"
   ]
  },
  {
   "cell_type": "markdown",
   "metadata": {},
   "source": [
    "## What If I don't want a topology?\n",
    "\n",
    "`WavefunctionSimulator` still has no notion of qubit connectivity, so feel free to use that for simulating quantum algorithms that you aren't concerned about running on an actual QPU. \n",
    "\n",
    "Above we used `get_qc(\"3q-qvm\")`, `\"4q-qvm\"`, and indeed you can do any `\"{n}q-qvm\"` (subject to computational resource constraints). These QVM's are constructed with a topology! It just happens to be fully connected"
   ]
  },
  {
   "cell_type": "code",
   "execution_count": 20,
   "metadata": {},
   "outputs": [
    {
     "data": {
      "image/png": "[encoded data removed]",
      "text/plain": [
       "<Figure size 432x288 with 1 Axes>"
      ]
     },
     "metadata": {},
     "output_type": "display_data"
    }
   ],
   "source": [
    "nx.draw(get_qc('5q-qvm').qubit_topology())\n",
    "_ = plt.title('5q-qvm is fully connected', fontsize=16)"
   ]
  },
  {
   "cell_type": "markdown",
   "metadata": {},
   "source": [
    "## Heirarchy of realism\n",
    "\n",
    " - `WavefunctionSimulator` to debug algorithm\n",
    " - `get_qc(\"5q-qvm\")` to debug sampling\n",
    " - `get_qc(\"9q-square-qvm\")` to debug mapping to a lattice\n",
    " - `get_qc(\"9q-square-noisy-qvm\"`) to debug generic noise characteristics\n",
    " - `get_qc(\"Aspen-0-16Q-A-qvm\")` to debug mapping to a real lattice\n",
    " - `get_qc(\"Aspen-0-16Q-A-noisy-qvm\")` to debug noise characteristics of a real device\n",
    " - `get_qc(\"Aspen-0-16Q-A\")` to run on a real device"
   ]
  },
  {
   "cell_type": "markdown",
   "metadata": {},
   "source": [
    "## \"What is a `QuantumComputer`?\" Advanced Edition\n",
    "\n",
    "A `QuantumComputer` is a wrapper around three constituent parts, each of which has a programatic interface that must be respected by all classes that implement the interface. By having clear interfaces we can write backend-agnostic methods on `QuantumComputer` and mix-and-match backing objects.\n",
    "\n",
    "The following diagram shows the three objects that must be provided when constructing a `QuantumComputer` \"by hand\". The abstract classes are backed in grey with example implementing classes listed below. Please consult the [api reference](apidocs/quantum_computer.rst#pyquil.api.QuantumComputer) for details on each interface.\n",
    "\n",
    "![Pyquil Objects](./pyquil-objects.png)\n",
    "\n",
    "As an example, let's construct a 5-qubit QVM with one central node and only even numbered qubits."
   ]
  },
  {
   "cell_type": "code",
   "execution_count": 21,
   "metadata": {},
   "outputs": [
    {
     "data": {
      "image/png": "[encoded data removed]",
      "text/plain": [
       "<Figure size 432x288 with 1 Axes>"
      ]
     },
     "metadata": {},
     "output_type": "display_data"
    }
   ],
   "source": [
    "topology = nx.from_edgelist([\n",
    "    (10, 2),\n",
    "    (10, 4),\n",
    "    (10, 6),\n",
    "    (10, 8),\n",
    "])\n",
    "from pyquil.device import NxDevice\n",
    "device = NxDevice(topology)\n",
    "\n",
    "from pyquil.api._qac import AbstractCompiler\n",
    "class MyLazyCompiler(AbstractCompiler):\n",
    "    def quil_to_native_quil(self, program):\n",
    "        return program\n",
    "    \n",
    "    def native_quil_to_executable(self, nq_program):\n",
    "        return nq_program\n",
    "    \n",
    "    \n",
    "from pyquil.api import QuantumComputer, QVM, ForestConnection\n",
    "my_qc = QuantumComputer(\n",
    "    name='my-qvm',\n",
    "    qam=QVM(connection=ForestConnection()),\n",
    "    device=device,\n",
    "    compiler=MyLazyCompiler(),\n",
    ")\n",
    "\n",
    "nx.draw(my_qc.qubit_topology())"
   ]
  },
  {
   "cell_type": "code",
   "execution_count": 22,
   "metadata": {},
   "outputs": [
    {
     "data": {
      "text/plain": [
       "{2: array([0, 0, 0, 0, 0]),\n",
       " 4: array([0, 0, 0, 0, 0]),\n",
       " 6: array([0, 0, 0, 0, 0]),\n",
       " 8: array([0, 0, 0, 0, 0]),\n",
       " 10: array([1, 1, 1, 1, 1])}"
      ]
     },
     "execution_count": 22,
     "metadata": {},
     "output_type": "execute_result"
    }
   ],
   "source": [
    "my_qc.run_and_measure(Program(X(10)), trials=5)"
   ]
  }
 ],
 "metadata": {
  "kernelspec": {
   "display_name": "Python 3",
   "language": "python",
   "name": "python3"
  },
  "language_info": {
   "codemirror_mode": {
    "name": "ipython",
    "version": 3
   },
   "file_extension": ".py",
   "mimetype": "text/x-python",
   "name": "python",
   "nbconvert_exporter": "python",
   "pygments_lexer": "ipython3",
   "version": "3.6.7"
  }
 },
 "nbformat": 4,
 "nbformat_minor": 2
}
