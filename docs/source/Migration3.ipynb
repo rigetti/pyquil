{
 "cells": [
  {
   "cell_type": "markdown",
   "metadata": {},
   "source": [
    "# Migration Part 3\n",
    "## Subtitle: Named variables in Quil\n",
    "\n",
    "Pyquil is for constructing and running hybrid quantum/classical algorithms on real quantum computers. With the release of Pyquil 2, we have changed parts of the API to take advantage of some exciting new features available on QCS.\n",
    "\n",
    "A hybrid algorithm involves using the quantum computer to create a quantum state that would be difficult to prepare classically; measure it in a way particular to your problem; and then update your procedure for creating the state so that the measurements are closer to the correct answer. A *real* hybrid algorithm involves structured ansatze like QAOA for optimization or a UCC ansatz for chemistry. Here, we'll do a much simpler parameterized program"
   ]
  },
  {
   "cell_type": "code",
   "execution_count": null,
   "metadata": {},
   "outputs": [],
   "source": [
    "from pyquil import Program, get_qc\n",
    "from pyquil.gates import *\n",
    "\n",
    "def ansatz(theta):\n",
    "    program = Program()\n",
    "    program += RY(theta, 0)\n",
    "    return program\n",
    "\n",
    "print(ansatz(theta=0.2))"
   ]
  },
  {
   "cell_type": "markdown",
   "metadata": {},
   "source": [
    "## Scan over the parameter (the old way)\n",
    "\n",
    "For this extrordinarily simple ansatz, we can discretize the parameter theta and try all possible values. As the number of parameters increases, the number of combinations increases exponentially so doing a full grid search will become intractable for anything more than ~two parameters."
   ]
  },
  {
   "cell_type": "code",
   "execution_count": null,
   "metadata": {},
   "outputs": [],
   "source": [
    "import numpy as np\n",
    "qc = get_qc(\"2q-qvm\")\n",
    "\n",
    "thetas = np.linspace(0, 2*np.pi, 21)\n",
    "results = []\n",
    "for theta in thetas:\n",
    "    program = ansatz(theta)\n",
    "    bitstrings = qc.run_and_measure(program, trials=1000)\n",
    "    results.append(np.mean(bitstrings[0]))"
   ]
  },
  {
   "cell_type": "code",
   "execution_count": null,
   "metadata": {},
   "outputs": [],
   "source": [
    "%matplotlib inline\n",
    "from matplotlib import pyplot as plt\n",
    "\n",
    "plt.plot(thetas, results, 'o-')\n",
    "plt.xlabel(r'$\\theta$', fontsize=18)\n",
    "_ = plt.ylabel(r'$\\langle \\Psi(\\theta) | \\frac{1 - Z}{2} | \\Psi(\\theta) \\rangle$', fontsize=18)"
   ]
  },
  {
   "cell_type": "markdown",
   "metadata": {},
   "source": [
    "## Do an optimization (the old way)\n",
    "\n",
    "Instead of doing a full grid search, we will employ a classical optimizer to find the best parameter values. Here we use scipy to find the theta that results in sampling the most `1`s in our resultant bitstrings."
   ]
  },
  {
   "cell_type": "code",
   "execution_count": null,
   "metadata": {},
   "outputs": [],
   "source": [
    "def objective_function(theta):\n",
    "    program = ansatz(theta[0])\n",
    "    bitstrings = qc.run_and_measure(program, trials=1000)\n",
    "    result = np.mean(bitstrings[0])\n",
    "    return -result\n",
    "\n",
    "import scipy.optimize\n",
    "res = scipy.optimize.minimize(objective_function, x0=[0.1], method='COBYLA')\n",
    "res"
   ]
  },
  {
   "cell_type": "code",
   "execution_count": null,
   "metadata": {},
   "outputs": [],
   "source": [
    "plt.plot(thetas, results, label='scan')\n",
    "plt.plot([res.x], [-res.fun], '*', ms=20, label='optimization result')\n",
    "plt.legend()"
   ]
  },
  {
   "cell_type": "markdown",
   "metadata": {},
   "source": [
    "## Compilation\n",
    "\n",
    "Prior to QCS, a QPU job would be routed via a series of cloud-based queues and compilation steps. With Forest 2, you are in control of the two stages of compilation so you can amortize the cost of compiling. Your QMI and all classical infrastructure is hosted on the Rigetti premises, so network latency is minimal.\n",
    "\n",
    "### Quil to native quil\n",
    "\n",
    "The first step of compilation converts gates to their hardware-supported equivalent. For example, our parametric RY is converted into RX's and RZ's because these are physically realizable on a Rigetti QPU"
   ]
  },
  {
   "cell_type": "code",
   "execution_count": null,
   "metadata": {},
   "outputs": [],
   "source": [
    "nq_program = qc.compiler.quil_to_native_quil(ansatz(theta=0.5))\n",
    "print(nq_program)"
   ]
  },
  {
   "cell_type": "markdown",
   "metadata": {},
   "source": [
    "### Native quil to executable\n",
    "\n",
    "The second step of compilation will turn named gates into calibrated pulses stored in a binary format suitable for consumption by the control electronics. This means that you can fully compile a given program and run it many times with minimal classical overhead.\n",
    "\n",
    "**Note:** since we're using a QVM, for which there is no binary format, this stage is mocked out and you can see the original Quil inside the `PyQuilExecutableResponse` that is returned. When running on the QPU, this will return a `BinaryExecutableResponse` whose contents are opaque. \n",
    "\n",
    "**TODO:** obscure the contents of `PyQuilExecutableResponse`"
   ]
  },
  {
   "cell_type": "code",
   "execution_count": null,
   "metadata": {},
   "outputs": [],
   "source": [
    "qc.compiler.native_quil_to_executable(nq_program)"
   ]
  },
  {
   "cell_type": "markdown",
   "metadata": {},
   "source": [
    "## Parametric compilation\n",
    "This doesn't buy us much if we have to know exactly what circuit we want to run before compiling it and amortizing the compilation cost. Maybe you could get away with it when you're doing a parameter scan, but for hybrid algorithms, the circuit parameter (here: `theta`) depends on the results of a circuit before. This is the essence of hybrid programming! Therefore, all compilation steps have been upgraded to support named, symbolic parameters that will be updated at runtime with minimal overhead.\n",
    "\n",
    "With this feature, you can compile a parametric program once and run it many times will different parameter values *and* you need not know the parameter values at compilation time.\n",
    "\n",
    "There are a couple of prerequisites to use this feature effectively from PyQuil, which we address in this document.\n",
    "\n",
    "First, you must declare a parameter when constructing your quil program. When declaring a named classical variable, you must specify at least a name and a type. It is conventional to make sure the Python variable name of the reference memory matches the Quil variable name. In our case, we name both things `theta`. Our circuit above would be modified in this way:"
   ]
  },
  {
   "cell_type": "code",
   "execution_count": null,
   "metadata": {},
   "outputs": [],
   "source": [
    "program = Program()\n",
    "theta = program.declare('theta', memory_type='REAL')\n",
    "program += RY(theta, 0)\n",
    "print(program)"
   ]
  },
  {
   "cell_type": "markdown",
   "metadata": {},
   "source": [
    "## Measuring\n",
    "\n",
    "For this three-part series, we've been using the `run_and_measure` functionality of `QuantumComputer`. It's time to get our hands dirty and introduce explicit measure instructions. \n",
    "\n",
    "Above, we declared a classical piece of memory, we've given it a name (`theta`), and we've given it a type (`REAL`). The bits that we measure (or \"read out\" -- `ro` for short) must now also be declared, given a name, and a type. Additionally, we'll usually be measuring more than one qubit so we can give this register a size.\n",
    "\n",
    "The index of the readout register need not match the qubit index. For example below, we create a bell state on qubits 5 and 6 and measure the readout results into `ro[0]` and `ro[1]`.\n",
    "\n",
    "**Note:** The readout register must be named \"ro\" (for now)"
   ]
  },
  {
   "cell_type": "code",
   "execution_count": null,
   "metadata": {},
   "outputs": [],
   "source": [
    "program = Program()\n",
    "ro = program.declare('ro', memory_type='BIT', memory_size=2)\n",
    "program += H(5)\n",
    "program += CNOT(5, 6)\n",
    "program += MEASURE(5, ro[0])\n",
    "program += MEASURE(6, ro[1])\n",
    "print(program)"
   ]
  },
  {
   "cell_type": "markdown",
   "metadata": {},
   "source": [
    "Our very simple ansatz only has one qubit, so the measurement is quite simple"
   ]
  },
  {
   "cell_type": "code",
   "execution_count": null,
   "metadata": {},
   "outputs": [],
   "source": [
    "program = Program()\n",
    "theta = program.declare('theta', memory_type='REAL')\n",
    "ro = program.declare('ro', memory_type='BIT', memory_size=1)\n",
    "program += RY(theta, 0)\n",
    "program += MEASURE(0, ro[0])\n",
    "print(program)"
   ]
  },
  {
   "cell_type": "markdown",
   "metadata": {},
   "source": [
    "## Number of shots\n",
    "The number of trials is compiled into the executable binary, so we must specify this number *prior* to compilation. **TODO: add to str / repr**"
   ]
  },
  {
   "cell_type": "code",
   "execution_count": null,
   "metadata": {},
   "outputs": [],
   "source": [
    "program = Program()\n",
    "theta = program.declare('theta', memory_type='REAL')\n",
    "ro = program.declare('ro', memory_type='BIT', memory_size=1)\n",
    "program += RY(theta, 0)\n",
    "program += MEASURE(0, ro[0])\n",
    "program.wrap_in_numshots_loop(shots=1000)\n",
    "print(program)"
   ]
  },
  {
   "cell_type": "markdown",
   "metadata": {},
   "source": [
    "## Using `qc.run()`\n",
    "\n",
    "To use the lower-level but more powerful `qc.run` interface, we have had to take control of these three things\n",
    "\n",
    " 1. We decalred a read-out register named `ro` of type `BIT` and included explicit `MEASURE` instructions. Since this sets up a (potentially sprase) mapping from qubits to classical addresses, we can expect `qc.run()` to return the classic 2d ndarray of yore instead of the dictionary returned by `run_and_measure`\n",
    " 2. We have called `program.wrap_in_numshots_loop()` prior to compilation so the number of shots can be encoded in an efficient binary representation of the program\n",
    " 3. We have taken control of compilation; either by calling `qc.compile(program)` or by using the lower-level functions:\n",
    "   ```\n",
    "   nq_program = qc.compiler.quil_to_native_quil(program)\n",
    "   executable = qc.compiler.native_quil_to_executable(nq_program)\n",
    "   ```\n",
    "   \n",
    "   \n",
    "**Note:** When using `qc.run()` you *cannot* declare parameters (like `theta`) that will be specified at runtime. Keep reading for how to fully exploit this feature! For now, we'll continue to specify `theta` during program construction\n",
    "   "
   ]
  },
  {
   "cell_type": "code",
   "execution_count": null,
   "metadata": {},
   "outputs": [],
   "source": [
    "def ansatz(theta):\n",
    "    program = Program()\n",
    "    ro = program.declare('ro', memory_type='BIT', memory_size=1)\n",
    "    program += RY(theta, 0)\n",
    "    program += MEASURE(0, ro[0])\n",
    "    return program\n",
    "\n",
    "print(ansatz(theta=np.pi))"
   ]
  },
  {
   "cell_type": "markdown",
   "metadata": {},
   "source": [
    "**TODO** error if you skip `qc.compile`"
   ]
  },
  {
   "cell_type": "code",
   "execution_count": null,
   "metadata": {},
   "outputs": [],
   "source": [
    "program = ansatz(theta=np.pi)\n",
    "program.wrap_in_numshots_loop(shots=5)\n",
    "executable = qc.compile(program)\n",
    "bitstrings = qc.run(program)\n",
    "print(bitstrings.shape)\n",
    "bitstrings"
   ]
  },
  {
   "cell_type": "markdown",
   "metadata": {},
   "source": [
    "## Scan over the parameter (the new way)\n",
    "\n",
    "Finally, all the pieces are in place to compile and run parameterized executable binaries. \n",
    "We declare parameters that will be compiled symbolically into the binary allowing us to amortize the cost of compilation when running hybrid algorithms."
   ]
  },
  {
   "cell_type": "code",
   "execution_count": null,
   "metadata": {},
   "outputs": [],
   "source": [
    "def ansatz():\n",
    "    program = Program()\n",
    "    theta = program.declare('theta', memory_type='REAL')\n",
    "    ro = program.declare('ro', memory_type='BIT', memory_size=1)\n",
    "    program += RY(theta, 0)\n",
    "    program += MEASURE(0, ro[0])\n",
    "    return program\n",
    "\n",
    "print(ansatz())"
   ]
  },
  {
   "cell_type": "markdown",
   "metadata": {},
   "source": [
    "## Using the QAM\n",
    "\n",
    "In Pyquil 2, the Quantum Abstract Machine (QAM) exposes lower-level control over its state. In particular, the following methods are available\n",
    "\n",
    " - `load(executable)`\n",
    " - `run()`\n",
    " - `wait()`\n",
    " - `write_memory(region_name=..., value=...)`\n",
    " - `read_from_memory_region(region_name=...)`\n",
    " \n",
    "We demonstrate how these functions (in tandem with named classical variables) can be used to speed up hybrid algorithms; in this case, the toy example from the top of this document.\n",
    "\n",
    "**Note:** There is much less compilation overhead when running on the QVM so speed increases on the QVM will be marginal. When running on the QPU, however, a single hybrid iteration may only take ~50ms to execute so compilation overhead becomes significant and you can reap major rewards by using the QAM API."
   ]
  },
  {
   "cell_type": "code",
   "execution_count": null,
   "metadata": {},
   "outputs": [],
   "source": [
    "program = ansatz()  # look ma, no arguments!\n",
    "program.wrap_in_numshots_loop(shots=1000)\n",
    "executable = qc.compile(program)\n",
    "qc.qam.load(executable)\n",
    "\n",
    "thetas = np.linspace(0, 2*np.pi, 21)\n",
    "results = []\n",
    "for theta in thetas:\n",
    "    bitstrings = qc.qam.write_memory(region_name='theta', value=theta) \\\n",
    "        .run() \\\n",
    "        .wait() \\\n",
    "        .read_from_memory_region(region_name='ro')\n",
    "    \n",
    "    results.append(np.mean(bitstrings[:, 0]))\n",
    "    \n",
    "%matplotlib inline\n",
    "from matplotlib import pyplot as plt\n",
    "\n",
    "plt.plot(thetas, results, 'o-')\n",
    "plt.xlabel(r'$\\theta$', fontsize=18)\n",
    "_ = plt.ylabel(r'$\\langle \\Psi(\\theta) | \\frac{1 - Z}{2} | \\Psi(\\theta) \\rangle$', fontsize=18)"
   ]
  },
  {
   "cell_type": "markdown",
   "metadata": {},
   "source": [
    "## Do an optimization (the new way)\n",
    "\n",
    "Since parameters are compiled symbolically, we can do hybrid algorithms just as fast as parameter scans. "
   ]
  },
  {
   "cell_type": "code",
   "execution_count": null,
   "metadata": {},
   "outputs": [],
   "source": [
    "qc = get_qc('2q-qvm')\n",
    "program = ansatz()  # look ma, no arguments!\n",
    "program.wrap_in_numshots_loop(shots=1000)\n",
    "executable = qc.compile(program)\n",
    "qc.qam.load(executable)\n",
    "\n",
    "def objective_function(thetas):\n",
    "    theta = thetas[0]\n",
    "    bitstrings = qc.qam.write_memory(region_name='theta', value=theta) \\\n",
    "        .run() \\\n",
    "        .wait() \\\n",
    "        .read_from_memory_region(region_name='ro')\n",
    "    \n",
    "    result = np.mean(bitstrings[:, 0])\n",
    "    return -result\n",
    "\n",
    "res = scipy.optimize.minimize(objective_function, x0=[0.1], method='COBYLA')\n",
    "res"
   ]
  },
  {
   "cell_type": "code",
   "execution_count": null,
   "metadata": {},
   "outputs": [],
   "source": [
    "plt.plot(thetas, results, label='scan')\n",
    "plt.plot([res.x], [-res.fun], '*', ms=20, label='optimization result')\n",
    "plt.legend()"
   ]
  }
 ],
 "metadata": {
  "kernelspec": {
   "display_name": "Python 3",
   "language": "python",
   "name": "python3"
  },
  "language_info": {
   "codemirror_mode": {
    "name": "ipython",
    "version": 3
   },
   "file_extension": ".py",
   "mimetype": "text/x-python",
   "name": "python",
   "nbconvert_exporter": "python",
   "pygments_lexer": "ipython3",
   "version": "3.6.6"
  }
 },
 "nbformat": 4,
 "nbformat_minor": 2
}
