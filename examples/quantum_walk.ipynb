{
 "cells": [
  {
   "cell_type": "code",
   "execution_count": null,
   "metadata": {},
   "outputs": [],
   "source": [
    "import numpy as np\n",
    "import networkx as nx\n",
    "import matplotlib.pyplot as plt\n",
    "from scipy.linalg import expm\n",
    "%matplotlib inline"
   ]
  },
  {
   "cell_type": "markdown",
   "metadata": {},
   "source": [
    "Here we perform a continuous time quantum walk (CTQW) on a complete graph with four nodes (denoted as $K_4$). We will be following [this](https://www.nature.com/articles/ncomms11511) paper."
   ]
  },
  {
   "cell_type": "code",
   "execution_count": null,
   "metadata": {},
   "outputs": [],
   "source": [
    "G = nx.complete_graph(4)\n",
    "nx.draw_networkx(G)"
   ]
  },
  {
   "cell_type": "markdown",
   "metadata": {},
   "source": [
    "The spectrum of complete graphs is quite simple -- one eigenvalue equal to $N-1$ (where $N$ is the number of nodes) and the remaining equal to -1:"
   ]
  },
  {
   "cell_type": "code",
   "execution_count": null,
   "metadata": {},
   "outputs": [],
   "source": [
    "A = nx.adjacency_matrix(G).toarray()\n",
    "eigvals, _ = np.linalg.eigh(A)\n",
    "print(eigvals)"
   ]
  },
  {
   "cell_type": "markdown",
   "metadata": {},
   "source": [
    "For the CTQW the usual hamiltonian is the adjacency matrix $A$. We modify it slightly by adding the identity, i.e. we take $\\mathcal{H} = A + I$. This will reduce the number of gates we need to apply, since the eigenvectors with 0 eigenvalue will not acquire a phase."
   ]
  },
  {
   "cell_type": "code",
   "execution_count": null,
   "metadata": {},
   "outputs": [],
   "source": [
    "hamil = A + np.eye(4)"
   ]
  },
  {
   "cell_type": "markdown",
   "metadata": {},
   "source": [
    "It turns out that $K_n$ graphs are Hadamard diagonalizable, allowing us to write $\\mathcal{H} = Q \\Lambda Q^\\dagger$, where $Q = H \\otimes H$. Let's check that this works."
   ]
  },
  {
   "cell_type": "code",
   "execution_count": null,
   "metadata": {},
   "outputs": [],
   "source": [
    "had = np.sqrt(1/2) * np.array([[1, 1], [1, -1]])\n",
    "pauli_x = np.array([[0, 1], [1, 0]])\n",
    "Q = np.kron(had, had)\n",
    "Q.conj().T.dot(hamil).dot(Q)"
   ]
  },
  {
   "cell_type": "markdown",
   "metadata": {},
   "source": [
    "The time evolution operator $e^{-iHt}$ is also diagonalized by the same transformation. In particular we have\n",
    "\n",
    "$$\n",
    "Q^\\dagger e^{-iHt}Q = \\begin{pmatrix} \n",
    "            e^{-i4t} & 0 & 0 & 0 \\\\\n",
    "            0 & 1 & 0 & 0 \\\\\n",
    "            0 & 0 & 1 & 0 \\\\\n",
    "            0 & 0 & 0 & 1\n",
    "           \\end{pmatrix}\n",
    "$$\n",
    "\n",
    "Which is just a [CPHASE00](http://pyquil.readthedocs.io/en/latest/gates.html) gate with an angle of $-4t$. The circuit to simulate these is then extremely simple:\n",
    "\n",
    "![](circuit.png \"Circuit for $K_4$ CTQW\")\n",
    "\n",
    "(Taken from paper above, $\\gamma = 1$ in our case.)"
   ]
  },
  {
   "cell_type": "code",
   "execution_count": null,
   "metadata": {},
   "outputs": [],
   "source": [
    "from pyquil import Program\n",
    "from pyquil.gates import H, X, CPHASE00\n",
    "from pyquil.api import WavefunctionSimulator"
   ]
  },
  {
   "cell_type": "code",
   "execution_count": null,
   "metadata": {},
   "outputs": [],
   "source": [
    "wfn_sim = WavefunctionSimulator()"
   ]
  },
  {
   "cell_type": "code",
   "execution_count": null,
   "metadata": {},
   "outputs": [],
   "source": [
    "def k_4_ctqw(t):\n",
    "    #   Change to diagonal basis\n",
    "    p = Program(H(0), H(1), X(0), X(1))\n",
    "    \n",
    "    #    Time evolve\n",
    "    p += CPHASE00(-4*t, 0, 1)\n",
    "    \n",
    "    #   Change back to computational basis\n",
    "    p += Program(X(0), X(1), H(0), H(1))\n",
    "    \n",
    "    return p"
   ]
  },
  {
   "cell_type": "markdown",
   "metadata": {},
   "source": [
    "Let's compare the quantum walk with a classical random walk. The classical time evolution operator is $e^{-(\\mathcal{T} - I) t}$ where $\\mathcal{T}$ is the transition matrix of the graph.\n",
    "\n",
    "We choose as our initial condition $|\\psi(0)> = |0>$, that is the walker starts on the first node. Therefore, due to symmetry, the probability of occupation of all nodes besides $| 0 >$ is the same. "
   ]
  },
  {
   "cell_type": "code",
   "execution_count": null,
   "metadata": {},
   "outputs": [],
   "source": [
    "T = A / np.sum(A, axis=0)\n",
    "time = np.linspace(0, 4, 40)\n",
    "quantum_probs = np.zeros((len(time), 4))\n",
    "classical_probs = np.zeros((len(time), 4))\n",
    "\n",
    "for i, t in enumerate(time):\n",
    "    p = k_4_ctqw(t)  \n",
    "    wvf = wfn_sim.wavefunction(p)\n",
    "    vec = wvf.amplitudes\n",
    "    quantum_probs[i] = np.abs(vec)**2\n",
    "\n",
    "    classical_ev = expm((T-np.eye(4))*t)\n",
    "    classical_probs[i] = classical_ev[:, 0]    \n",
    "    \n",
    "f, (ax1, ax2) = plt.subplots(2, sharex=True, sharey=True)\n",
    "\n",
    "ax1.set_title(\"Quantum evolution\")\n",
    "ax1.set_ylabel('p')\n",
    "ax1.plot(time, quantum_probs[:, 0], label='Initial node')\n",
    "ax1.plot(time, quantum_probs[:, 1], label='Remaining nodes')\n",
    "ax1.legend(loc='center left', bbox_to_anchor=(1, 0.5))\n",
    "\n",
    "ax2.set_title(\"Classical evolution\")\n",
    "ax2.set_xlabel('t')\n",
    "ax2.set_ylabel('p')\n",
    "ax2.plot(time, classical_probs[:, 0], label='Initial node')\n",
    "ax2.plot(time, classical_probs[:, 1], label='Remaining nodes')"
   ]
  },
  {
   "cell_type": "markdown",
   "metadata": {},
   "source": [
    "As expected the quantum walk exhbits coherent oscillations whilst the classical walk converges to the stationary distribution $p_i = \\frac{d_i}{\\sum_j d_j} = \\frac{1}{4}$.\n",
    "\n",
    "We can readily generalize this scheme to any $K_{2^n}$ graphs."
   ]
  },
  {
   "cell_type": "code",
   "execution_count": null,
   "metadata": {},
   "outputs": [],
   "source": [
    "def k_2n_ctqw(n, t):\n",
    "    p = Program()\n",
    "    \n",
    "    #    Change to diagonal basis\n",
    "    for i in range(n):\n",
    "        p += Program(H(i), X(i))\n",
    "\n",
    "    #   Create and apply CPHASE00\n",
    "    big_cphase00 = np.diag(np.ones(2**n)) + 0j\n",
    "    big_cphase00[0, 0] = np.exp(-1j*4*t)\n",
    "    p.defgate(\"BIG-CPHASE00\", big_cphase00)     \n",
    "    args = tuple([\"BIG-CPHASE00\"] + list(range(n)))\n",
    "    p.inst(args)\n",
    "\n",
    "    #   Change back to computational basis\n",
    "    for i in range(n):\n",
    "        p += Program(X(i), H(i))\n",
    "    \n",
    "    return p\n",
    "\n",
    "def k_2n_crw(n, t):\n",
    "    G = nx.complete_graph(2**n)\n",
    "    A = nx.adjacency_matrix(G)\n",
    "    T = A / A.sum(axis=0)\n",
    "    classical_ev = expm((T-np.eye(2**n))*t)\n",
    "    \n",
    "    return classical_ev[:, 0]    \n",
    "\n",
    "time = np.linspace(0, 4, 40)\n",
    "quantum_probs = np.zeros((len(time), 8))\n",
    "classical_probs = np.zeros((len(time), 8))\n",
    "\n",
    "for i, t in enumerate(time):\n",
    "    p = k_2n_ctqw(3, t)  \n",
    "    wvf = wfn_sim.wavefunction(p)\n",
    "    vec = wvf.amplitudes\n",
    "    quantum_probs[i] = np.abs(vec)**2\n",
    "    classical_probs[i] = k_2n_crw(3, t)  \n",
    "    \n",
    "f, (ax1, ax2) = plt.subplots(2, sharex=True, sharey=True)\n",
    "\n",
    "ax1.set_title(\"Quantum evolution\")\n",
    "ax1.set_ylabel('p')\n",
    "ax1.plot(time, quantum_probs[:, 0], label='Initial node')\n",
    "ax1.plot(time, quantum_probs[:, 1], label='Remaining nodes')\n",
    "ax1.legend(loc='center left', bbox_to_anchor=(1, 0.5))\n",
    "\n",
    "ax2.set_title(\"Classical evolution\")\n",
    "ax2.set_xlabel('t')\n",
    "ax2.set_ylabel('p')\n",
    "ax2.plot(time, classical_probs[:, 0], label='Initial node')\n",
    "ax2.plot(time, classical_probs[:, 1], label='Remaining nodes')"
   ]
  },
  {
   "cell_type": "code",
   "execution_count": null,
   "metadata": {},
   "outputs": [],
   "source": []
  }
 ],
 "metadata": {
  "language_info": {
   "name": "python",
   "pygments_lexer": "ipython3"
  }
 },
 "nbformat": 4,
 "nbformat_minor": 2
}
