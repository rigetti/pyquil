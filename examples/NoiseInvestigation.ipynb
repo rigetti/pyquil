{
 "cells": [
  {
   "cell_type": "markdown",
   "metadata": {},
   "source": [
    "# Investigating Noise\n",
    "\n",
    "In this example, we investigate how a program might behave on a near-term device that is subject to noise using the convenience function `add_decoherence_noise`."
   ]
  },
  {
   "cell_type": "code",
   "execution_count": null,
   "metadata": {},
   "outputs": [],
   "source": [
    "from pyquil import Program\n",
    "from pyquil.paulis import PauliSum, PauliTerm, exponentiate, exponential_map\n",
    "from pyquil.gates import MEASURE, H, Z, RX, RZ, CZ\n",
    "import numpy as np"
   ]
  },
  {
   "cell_type": "markdown",
   "metadata": {},
   "source": [
    "## The task\n",
    "We want to prepare $e^{i \\theta XY}$ and measure it in the $Z$ basis."
   ]
  },
  {
   "cell_type": "code",
   "execution_count": null,
   "metadata": {},
   "outputs": [],
   "source": [
    "from numpy import pi\n",
    "theta = pi/3\n",
    "xy = PauliTerm('X', 0) * PauliTerm('Y', 1)"
   ]
  },
  {
   "cell_type": "markdown",
   "metadata": {},
   "source": [
    "### The idiomatic Pyquil program"
   ]
  },
  {
   "cell_type": "code",
   "execution_count": null,
   "metadata": {},
   "outputs": [],
   "source": [
    "prog = exponential_map(xy)(theta)\n",
    "print(prog)"
   ]
  },
  {
   "cell_type": "markdown",
   "metadata": {},
   "source": [
    "### The compiled program\n",
    "To run on a real device, we must compile each program to the native gate set for the device. The high-level noise model is similarly constrained to use a small, native gate set. In particular, we can use\n",
    "\n",
    " - $I$\n",
    " - $RZ(\\theta)$\n",
    " - $RX(\\pm \\pi/2)$\n",
    " - $CZ$\n",
    "\n",
    "For simplicity, the compiled program is given below but generally you will want to use a compiler to do this step for you."
   ]
  },
  {
   "cell_type": "code",
   "execution_count": null,
   "metadata": {},
   "outputs": [],
   "source": [
    "def get_compiled_prog(theta):\n",
    "    return Program([\n",
    "        RZ(-pi/2, 0),\n",
    "        RX(-pi/2, 0),\n",
    "        RZ(-pi/2, 1),\n",
    "        RX( pi/2, 1),\n",
    "        CZ(1, 0),\n",
    "        RZ(-pi/2, 1),\n",
    "        RX(-pi/2, 1),\n",
    "        RZ(theta, 1),\n",
    "        RX( pi/2, 1),\n",
    "        CZ(1, 0),\n",
    "        RX( pi/2, 0),\n",
    "        RZ( pi/2, 0),\n",
    "        RZ(-pi/2, 1),\n",
    "        RX( pi/2, 1),\n",
    "        RZ(-pi/2, 1),\n",
    "    ])"
   ]
  },
  {
   "cell_type": "markdown",
   "metadata": {},
   "source": [
    "## Scan over noise parameters\n",
    "We perform a scan over three levels of noise each at 20 theta points.\n",
    "\n",
    "Specifically, we investigate T1 values of 1, 3, and 10 us. By default, T2 = T1 / 2, 1 qubit gates take 50 ns, and 2 qubit gates take 150 ns. \n",
    "\n",
    "In alignment with the device, $I$ and parametric $RZ$ are noiseless while $RX$ and $CZ$ gates experience 1q and 2q gate noise, respectively."
   ]
  },
  {
   "cell_type": "code",
   "execution_count": null,
   "metadata": {},
   "outputs": [],
   "source": [
    "from pyquil import get_qc\n",
    "qc = get_qc('8q-qvm')"
   ]
  },
  {
   "cell_type": "code",
   "execution_count": null,
   "metadata": {},
   "outputs": [],
   "source": [
    "t1s = np.logspace(-6, -5, num=3)\n",
    "thetas = np.linspace(-pi, pi, num=20)\n",
    "t1s * 1e6 # us"
   ]
  },
  {
   "cell_type": "code",
   "execution_count": null,
   "metadata": {},
   "outputs": [],
   "source": [
    "from pyquil.noise import add_decoherence_noise\n",
    "records = []\n",
    "for theta in thetas:\n",
    "    for t1 in t1s:\n",
    "        prog = get_compiled_prog(theta)\n",
    "        ro = prog.declare(\"ro\", memory_size=2)\n",
    "        noisy = add_decoherence_noise(prog, T1=t1, T2=t1/2).inst([\n",
    "            MEASURE(0, ro[0]),\n",
    "            MEASURE(1, ro[1]),\n",
    "        ])\n",
    "        bitstrings = np.array(qc.run(noisy.wrap_in_numshots_loop(1000)))\n",
    "        \n",
    "        # Expectation of Z0 and Z1\n",
    "        z0, z1 = 1 - 2*np.mean(bitstrings, axis=0)\n",
    "        \n",
    "        # Expectation of ZZ by computing the parity of each pair\n",
    "        zz = 1 - (np.sum(bitstrings, axis=1) % 2).mean() * 2 \n",
    "        \n",
    "        record = {\n",
    "            'z0': z0,\n",
    "            'z1': z1,\n",
    "            'zz': zz,\n",
    "            'theta': theta,\n",
    "            't1': t1,\n",
    "        }\n",
    "        records += [record]"
   ]
  },
  {
   "cell_type": "markdown",
   "metadata": {},
   "source": [
    "## Plot the results"
   ]
  },
  {
   "cell_type": "code",
   "execution_count": null,
   "metadata": {},
   "outputs": [],
   "source": [
    "%matplotlib inline\n",
    "from matplotlib import pyplot as plt\n",
    "import seaborn as sns\n",
    "sns.set(style='ticks', palette='colorblind')"
   ]
  },
  {
   "cell_type": "code",
   "execution_count": null,
   "metadata": {},
   "outputs": [],
   "source": [
    "import pandas as pd\n",
    "df_all = pd.DataFrame(records)\n",
    "fig, (ax1, ax2, ax3) = plt.subplots(1, 3, figsize=(12,4))\n",
    "\n",
    "for t1 in t1s:\n",
    "    df = df_all.query('t1 == @t1')\n",
    "    \n",
    "    ax1.plot(df['theta'], df['z0'], 'o-')    \n",
    "    ax2.plot(df['theta'], df['z1'], 'o-')    \n",
    "    ax3.plot(df['theta'], df['zz'], 'o-', label='T1 = {:.0f} us'.format(t1*1e6))\n",
    "    \n",
    "ax3.legend(loc='best')\n",
    "\n",
    "ax1.set_ylabel('Z0')\n",
    "ax2.set_ylabel('Z1')\n",
    "ax3.set_ylabel('ZZ')\n",
    "ax2.set_xlabel(r'$\\theta$')\n",
    "fig.tight_layout()"
   ]
  },
  {
   "cell_type": "code",
   "execution_count": null,
   "metadata": {},
   "outputs": [],
   "source": []
  }
 ],
 "metadata": {
  "language_info": {
   "name": "python",
   "pygments_lexer": "ipython3"
  }
 },
 "nbformat": 4,
 "nbformat_minor": 2
}
