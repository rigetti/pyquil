{
 "cells": [
  {
   "cell_type": "markdown",
   "metadata": {},
   "source": [
    "# Installation and Getting Started\n",
    "\n",
    "- [Environment Setup](#Environment-Setup)\n",
    "    - [Prerequisites](#Prerequisites)\n",
    "    - [Installation](#Installation)\n",
    "    - [Connecting to a Rigetti QVM](#Connecting-to-a-Rigetti-QVM)\n",
    "- [Basic Usage](#Basic-Usage)\n",
    "    - [Some Program Construction Features](#Some-Program-Construction-Features)\n",
    "    - [Fixing a Mistaken Instruction](#Fixing-a-Mistaken-Instruction)\n",
    "    - [The Standard Gate Set](#The-Standard-Gate-Set)\n",
    "    - [Defining New Gates](#Defining-New-Gates)\n",
    "- [Advanced Usage](#Advanced-Usage)\n",
    "    - [Quantum Fourier Transform (QFT)](#Quantum-Fourier-Transform)\n",
    "    - [Classical Control Flow](#Classical-Control-Flow)\n",
    "    - [Parametric Depolarizing Noise](#Parametric-Depolarizing-Noise)\n",
    "    - [Pauli Operator Algebra](#Pauli-Operator-Algebra)\n",
    "- [Exercises](#Exercises)\n",
    "    - [Exercise 1 - Quantum Dice](#Exercise-1---Quantum-Dice)\n",
    "    - [Exercise 2 - Controlled Gates](#Exercise-2---Controlled-Gates)\n",
    "    - [Exercise 3 - Grover's Algorithm](#Exercise-3---Grover's-Algorithm)\n",
    "\n",
    "This toolkit provides some simple libraries for writing quantum programs using the quantum instruction language Quil. pyQuil is part of the [Forest](http://forest.rigetti.com) suite of tools for quantum programming and is currently in private beta.\n",
    "\n",
    "```python\n",
    "import pyquil.quil as pq\n",
    "import pyquil.forest as forest\n",
    "from pyquil.gates import *\n",
    "qvm = forest.Connection()\n",
    "p = pq.Program()\n",
    "p.inst(H(0), CNOT(0, 1))\n",
    "    <pyquil.pyquil.Program object at 0x101ebfb50>\n",
    "qvm.wavefunction(p)\n",
    "    [(0.7071067811865475+0j), 0j, 0j, (0.7071067811865475+0j)]\n",
    "```\n",
    "\n",
    "It comes with a few parts:\n",
    "\n",
    "1. **Quil**: The Quantum Instruction Language standard. Instructions written in Quil can be executed on any implementation of a quantum abstract machine, such as the quantum virtual machine (QVM), or on a real quantum processing unit (QPU). More details regarding Quil can be found in the [whitepaper](https://arxiv.org/abs/1608.03355).\n",
    "2. **QVM**: A Quantum Virtual Machine, which is an implementation of the quantum abstract machine on classical hardware.  The QVM lets you use a regular computer to simulate a small quantum computer.  You can access the Rigetti QVM running in the cloud with your API key.  Sign up [here](http://forest.rigetti.com) to get your key.\n",
    "3. **pyQuil**: A Python library to help write and run Quil code and quantum programs.\n",
    "\n",
    "## Environment Setup\n",
    "\n",
    "### Prerequisites\n",
    "\n",
    "Before starting, ensure that you have an installation of Python 2.7 (version 2.7.10 or greater) and the Python package manager pip. We recommend installing [Anaconda](https://www.continuum.io/downloads) for an all-in-one installation of Python 2.7. If pip is not installed, it can be installed with `easy_install pip`.\n",
    "\n",
    "### Installation\n",
    "After obtaining pyQuil from [GitHub](https://github.com/rigetticomputing/pyquil) or from a source distribution, navigate into its directory in a terminal and run\n",
    "\n",
    "```\n",
    "pip install pyquil\n",
    "```\n",
    "\n",
    "The library will now be available globally.\n",
    "\n",
    "### Connecting to a Rigetti QVM\n",
    "In order to connect to a Rigetti QVM you need to configure your pyQuil installation with your QVM API key. For permanent one-time setup, you can do this by creating a file in your home directory with the following lines:\n",
    "```\n",
    "[Rigetti Forest]\n",
    "url: <FOREST_URL>\n",
    "key: <YOUR_FOREST_API_KEY>\n",
    "```\n",
    "Look [here](http://pyquil.readthedocs.io/en/latest/getting_started.html#connecting-to-a-rigetti-qvm) to see more information about setting up your connection to Forest.\n",
    "\n",
    "If this configuration is not set, pyQuil will default to looking for a local QVM at `https://api.rigetti.com/qvm`."
   ]
  },
  {
   "cell_type": "markdown",
   "metadata": {},
   "source": [
    "## Basic Usage\n",
    "\n",
    "To ensure that your installation is working correctly, try running the following Python commands interactively.  First, import the **`quil`** module (which constructs quantum programs) and the **`forest`** module (which allows connections to the Rigetti QVM). We'll also import some basic gates for pyQuil.\n"
   ]
  },
  {
   "cell_type": "code",
   "execution_count": 1,
   "metadata": {
    "collapsed": false
   },
   "outputs": [],
   "source": [
    "import pyquil.quil as pq\n",
    "import pyquil.forest as forest\n",
    "from pyquil.gates import *"
   ]
  },
  {
   "cell_type": "markdown",
   "metadata": {},
   "source": [
    "Next, we want to open a connection to the QVM."
   ]
  },
  {
   "cell_type": "code",
   "execution_count": 2,
   "metadata": {
    "collapsed": false
   },
   "outputs": [],
   "source": [
    "qvm = forest.Connection()"
   ]
  },
  {
   "cell_type": "markdown",
   "metadata": {},
   "source": [
    "Now we can make a program by adding some Quil instruction using the `inst` method on a `Program` object."
   ]
  },
  {
   "cell_type": "code",
   "execution_count": 3,
   "metadata": {
    "collapsed": false
   },
   "outputs": [
    {
     "data": {
      "text/plain": [
       "<pyquil.quil.Program at 0x7f7ce3466c50>"
      ]
     },
     "execution_count": 3,
     "metadata": {},
     "output_type": "execute_result"
    }
   ],
   "source": [
    "p = pq.Program()\n",
    "p.inst(X(0)).measure(0, 0)"
   ]
  },
  {
   "cell_type": "markdown",
   "metadata": {},
   "source": [
    "This program simply applies the $X$-gate to the zeroth qubit, measures that qubit, and stores the measurement result in the zeroth classical register. We can look at the Quil code that makes up this program simply by printing it."
   ]
  },
  {
   "cell_type": "code",
   "execution_count": 4,
   "metadata": {
    "collapsed": false
   },
   "outputs": [
    {
     "name": "stdout",
     "output_type": "stream",
     "text": [
      "X 0\n",
      "MEASURE 0 [0]\n",
      "\n"
     ]
    }
   ],
   "source": [
    "print p"
   ]
  },
  {
   "cell_type": "markdown",
   "metadata": {},
   "source": [
    "Most importantly, of course, we can see what happens if we run this program on the QVM:"
   ]
  },
  {
   "cell_type": "code",
   "execution_count": 5,
   "metadata": {
    "collapsed": false
   },
   "outputs": [
    {
     "data": {
      "text/plain": [
       "[[1]]"
      ]
     },
     "execution_count": 5,
     "metadata": {},
     "output_type": "execute_result"
    }
   ],
   "source": [
    "classical_regs = [0] # A list of which classical registers to return the values of.\n",
    "\n",
    "qvm.run(p, classical_regs)"
   ]
  },
  {
   "cell_type": "markdown",
   "metadata": {},
   "source": [
    "We see that the result of this program is that the classical register `[0]` now stores the state of qubit 0, which should be $\\left\\vert 1\\right\\rangle$ after an $X$-gate.  We can of course ask for more classical registers:"
   ]
  },
  {
   "cell_type": "code",
   "execution_count": 6,
   "metadata": {
    "collapsed": false
   },
   "outputs": [
    {
     "data": {
      "text/plain": [
       "[[1, 0, 0]]"
      ]
     },
     "execution_count": 6,
     "metadata": {},
     "output_type": "execute_result"
    }
   ],
   "source": [
    "qvm.run(p, [0, 1, 2])"
   ]
  },
  {
   "cell_type": "markdown",
   "metadata": {},
   "source": [
    "The classical registers are initialized to zero, so registers `[1]` and `[2]` come out as zero. If we stored the measurement in a different classical register we would obtain:"
   ]
  },
  {
   "cell_type": "code",
   "execution_count": 7,
   "metadata": {
    "collapsed": false
   },
   "outputs": [
    {
     "data": {
      "text/plain": [
       "[[0, 1, 0]]"
      ]
     },
     "execution_count": 7,
     "metadata": {},
     "output_type": "execute_result"
    }
   ],
   "source": [
    "p = pq.Program()   # clear the old program\n",
    "p.inst(X(0)).measure(0, 1)\n",
    "qvm.run(p, [0, 1, 2])"
   ]
  },
  {
   "cell_type": "markdown",
   "metadata": {},
   "source": [
    "We can also run programs multiple times and accumulate all the results in a single list:"
   ]
  },
  {
   "cell_type": "code",
   "execution_count": 8,
   "metadata": {
    "collapsed": false
   },
   "outputs": [
    {
     "data": {
      "text/plain": [
       "[[0], [0], [1], [0], [1]]"
      ]
     },
     "execution_count": 8,
     "metadata": {},
     "output_type": "execute_result"
    }
   ],
   "source": [
    "coin_flip = pq.Program().inst(H(0)).measure(0, 0)\n",
    "num_flips = 5\n",
    "qvm.run(coin_flip, [0], num_flips)"
   ]
  },
  {
   "cell_type": "markdown",
   "metadata": {},
   "source": [
    "Try running the above code several times. You will, with very high probability, get different results each time.\n",
    "\n",
    "As the QVM is a virtual machine, we can also inspect the wavefunction of a program directly, even without measurements:"
   ]
  },
  {
   "cell_type": "code",
   "execution_count": 9,
   "metadata": {
    "collapsed": false
   },
   "outputs": [
    {
     "data": {
      "text/plain": [
       "(array([ 0.70710678+0.j,  0.70710678+0.j]), [])"
      ]
     },
     "execution_count": 9,
     "metadata": {},
     "output_type": "execute_result"
    }
   ],
   "source": [
    "coin_flip = pq.Program().inst(H(0))\n",
    "qvm.wavefunction(coin_flip)"
   ]
  },
  {
   "cell_type": "markdown",
   "metadata": {},
   "source": [
    "It is important to remember that this `wavefunction` method is just a useful debugging tool for small quantum systems, and it cannot be feasibly obtained on a quantum processor."
   ]
  },
  {
   "cell_type": "markdown",
   "metadata": {},
   "source": [
    "### Some Program Construction Features\n",
    "\n",
    "Multiple instructions can be applied at once or chained together. The following are all valid programs:"
   ]
  },
  {
   "cell_type": "code",
   "execution_count": 10,
   "metadata": {
    "collapsed": false
   },
   "outputs": [
    {
     "name": "stdout",
     "output_type": "stream",
     "text": [
      "Multiple inst arguments with final measurement:\n",
      "X 0\n",
      "Y 1\n",
      "Z 0\n",
      "MEASURE 0 [1]\n",
      "\n",
      "Chained inst with explicit MEASURE instruction:\n",
      "X 0\n",
      "Y 1\n",
      "MEASURE 0 [1]\n",
      "MEASURE 1 [2]\n",
      "\n",
      "A mix of chained inst and measures:\n",
      "X 0\n",
      "MEASURE 0 [1]\n",
      "Y 1\n",
      "X 0\n",
      "MEASURE 0 [0]\n",
      "\n",
      "A composition of two programs:\n",
      "X 0\n",
      "Y 0\n",
      "\n"
     ]
    }
   ],
   "source": [
    "print \"Multiple inst arguments with final measurement:\"\n",
    "print pq.Program().inst(X(0), Y(1), Z(0)).measure(0, 1)\n",
    "\n",
    "print \"Chained inst with explicit MEASURE instruction:\"\n",
    "print pq.Program().inst(X(0)).inst(Y(1)).measure(0, 1).inst(MEASURE(1, 2))\n",
    "\n",
    "print \"A mix of chained inst and measures:\"\n",
    "print pq.Program().inst(X(0)).measure(0, 1).inst(Y(1), X(0)).measure(0, 0)\n",
    "\n",
    "print \"A composition of two programs:\"\n",
    "print pq.Program(X(0)) + pq.Program(Y(0))"
   ]
  },
  {
   "cell_type": "markdown",
   "metadata": {},
   "source": [
    "### Fixing a Mistaken Instruction\n",
    "\n",
    "If an instruction was appended to a program incorrectly, one can pop it off."
   ]
  },
  {
   "cell_type": "code",
   "execution_count": 11,
   "metadata": {
    "collapsed": false
   },
   "outputs": [
    {
     "name": "stdout",
     "output_type": "stream",
     "text": [
      "Oops! We have added Y 1 by accident:\n",
      "X 0\n",
      "Y 1\n",
      "\n",
      "We can fix by popping:\n",
      "X 0\n",
      "\n",
      "And then add it back:\n",
      "X 0\n",
      "Y 1\n",
      "\n"
     ]
    }
   ],
   "source": [
    "p = pq.Program().inst(X(0))\n",
    "p.inst(Y(1))\n",
    "print \"Oops! We have added Y 1 by accident:\"\n",
    "print p\n",
    "\n",
    "print \"We can fix by popping:\"\n",
    "p.pop()\n",
    "print p\n",
    "\n",
    "print \"And then add it back:\"\n",
    "p += pq.Program(Y(1))\n",
    "print p"
   ]
  },
  {
   "cell_type": "markdown",
   "metadata": {},
   "source": [
    "### The Standard Gate Set\n",
    "The following gates methods come standard with Quil and `gates.py`:\n",
    "\n",
    "- Pauli gates  `I`, `X`, `Y`, `Z`\n",
    "\n",
    "- Hadamard gate: `H`\n",
    "\n",
    "- Phase gates: `PHASE(` $\\theta$ `)`, `S`, `T`\n",
    "\n",
    "- Controlled phase gates: `CPHASE00(` $\\alpha$ `)`, `CPHASE01(` $\\alpha$ `)`, `CPHASE10(` $\\alpha$ `)`, `CPHASE(` $\\alpha$ `)`\n",
    "\n",
    "- Cartesian rotation gates: `RX(` $\\theta$ `)`, `RY(` $\\theta$ `)`, `RZ(` $\\theta$ `)`\n",
    "\n",
    "- Controlled $X$ gates: `CNOT`, `CCNOT`\n",
    "\n",
    "- Swap gates: `SWAP`, `CSWAP`, `ISWAP`, `PSWAP(` $\\alpha$ `)`\n",
    "\n",
    "The parameterized gates take a real or complex floating point number as an argument."
   ]
  },
  {
   "cell_type": "markdown",
   "metadata": {
    "collapsed": true
   },
   "source": [
    "### Defining New Gates\n",
    "\n",
    "New gates can be easily added inline to Quil programs. All you need is a matrix representation of the gate. For example, below we define a $\\sqrt{X}$ gate."
   ]
  },
  {
   "cell_type": "code",
   "execution_count": 12,
   "metadata": {
    "collapsed": false
   },
   "outputs": [
    {
     "name": "stdout",
     "output_type": "stream",
     "text": [
      "DEFGATE SQRT-X:\n",
      "    0.49999999999999989+0.49999999999999989i, 0.49999999999999989-0.49999999999999989i\n",
      "    0.49999999999999989-0.49999999999999989i, 0.49999999999999989+0.49999999999999989i\n",
      "\n",
      "SQRT-X 0\n",
      "\n"
     ]
    }
   ],
   "source": [
    "import numpy as np\n",
    "from scipy.linalg import sqrtm\n",
    "\n",
    "# First we define the new gate from a matrix\n",
    "x_gate_matrix = np.array(([0.0, 1.0], [1.0, 0.0]))\n",
    "sqrt_x = sqrtm(x_gate_matrix)\n",
    "p = pq.Program().defgate(\"SQRT-X\", sqrt_x)\n",
    "\n",
    "# Then we can use the new gate,\n",
    "p.inst((\"SQRT-X\", 0))\n",
    "print p"
   ]
  },
  {
   "cell_type": "code",
   "execution_count": 13,
   "metadata": {
    "collapsed": false
   },
   "outputs": [
    {
     "data": {
      "text/plain": [
       "(array([ 0.5+0.5j,  0.5-0.5j]), [])"
      ]
     },
     "execution_count": 13,
     "metadata": {},
     "output_type": "execute_result"
    }
   ],
   "source": [
    "qvm.wavefunction(p)"
   ]
  },
  {
   "cell_type": "markdown",
   "metadata": {},
   "source": [
    "Quil in general supports defining parametric gates, though right now only static gates are supported by pyQuil. Below we show how we can define $X_1\\otimes \\sqrt{X_0} $ as a single gate."
   ]
  },
  {
   "cell_type": "code",
   "execution_count": 14,
   "metadata": {
    "collapsed": false
   },
   "outputs": [
    {
     "data": {
      "text/plain": [
       "(array([ 0.0+0.j ,  0.5+0.5j,  0.0+0.j ,  0.5-0.5j]), [])"
      ]
     },
     "execution_count": 14,
     "metadata": {},
     "output_type": "execute_result"
    }
   ],
   "source": [
    "# A multi-qubit defgate example\n",
    "x_gate_matrix = np.array(([0.0, 1.0], [1.0, 0.0]))\n",
    "x_sqrt_x = np.kron(sqrtm(x_gate_matrix), x_gate_matrix)\n",
    "p = pq.Program().defgate(\"X-SQRT-X\", x_sqrt_x)\n",
    "\n",
    "# Then we can use the new gate\n",
    "p.inst((\"X-SQRT-X\", 1, 0))\n",
    "qvm.wavefunction(p)"
   ]
  },
  {
   "cell_type": "markdown",
   "metadata": {},
   "source": [
    "## Advanced Usage"
   ]
  },
  {
   "cell_type": "markdown",
   "metadata": {},
   "source": [
    "### Quantum Fourier Transform (QFT) <a id='Quantum-Fourier-Transform'></a>\n",
    "\n",
    "Let's do an example that includes multi-qubit parameterized gates.\n",
    "\n",
    "Here we wish to compute the discrete Fourier transform of `[0, 1, 0, 0, 0, 0, 0, 0]`. We do this in three steps:\n",
    "\n",
    "1. Write a function called `qft3` to make a 3-qubit QFT quantum program.\n",
    "2. Write a state preparation quantum program.\n",
    "3. Execute state preparation followed by the QFT on the QVM.\n",
    "\n",
    "First we define a function to make a 3-qubit QFT quantum program. This is a mix of Hadamard and CPHASE gates, with a final bit reversal correction at the end consisting of a single SWAP gate."
   ]
  },
  {
   "cell_type": "code",
   "execution_count": 15,
   "metadata": {
    "collapsed": false
   },
   "outputs": [],
   "source": [
    "from math import pi\n",
    "\n",
    "def qft3(q0, q1, q2):\n",
    "    p = pq.Program()\n",
    "    p.inst( H(q2),\n",
    "            CPHASE(pi/2.0, q1, q2),\n",
    "            H(q1),\n",
    "            CPHASE(pi/4.0, q0, q2),\n",
    "            CPHASE(pi/2.0, q0, q1),\n",
    "            H(q0),\n",
    "            SWAP(q0, q2) )\n",
    "    return p"
   ]
  },
  {
   "cell_type": "markdown",
   "metadata": {},
   "source": [
    "There is a very important detail to recognize here: The function `qft3` doesn't *compute* the QFT, but rather it *makes a quantum program* to compute the QFT on qubits `q0`, `q1`, and `q2`.\n",
    "\n",
    "We can see what this program looks like in Quil notation by doing the following:"
   ]
  },
  {
   "cell_type": "code",
   "execution_count": 16,
   "metadata": {
    "collapsed": false
   },
   "outputs": [
    {
     "name": "stdout",
     "output_type": "stream",
     "text": [
      "H 2\n",
      "CPHASE(1.5707963267948966) 1 2\n",
      "H 1\n",
      "CPHASE(0.7853981633974483) 0 2\n",
      "CPHASE(1.5707963267948966) 0 1\n",
      "H 0\n",
      "SWAP 0 2\n",
      "\n"
     ]
    }
   ],
   "source": [
    "print qft3(0, 1, 2)"
   ]
  },
  {
   "cell_type": "markdown",
   "metadata": {},
   "source": [
    "Next, we want to prepare a state that corresponds to the sequence we want to compute the discrete Fourier transform of. Fortunately, this is easy, we just apply an $X$-gate to the zeroth qubit."
   ]
  },
  {
   "cell_type": "code",
   "execution_count": 17,
   "metadata": {
    "collapsed": false
   },
   "outputs": [],
   "source": [
    "state_prep = pq.Program().inst(X(0))"
   ]
  },
  {
   "cell_type": "markdown",
   "metadata": {},
   "source": [
    "We can verify that this works by computing its wavefunction. However, we need to add some \"dummy\" qubits, because otherwise `wavefunction` would return a two-element vector."
   ]
  },
  {
   "cell_type": "code",
   "execution_count": 18,
   "metadata": {
    "collapsed": false
   },
   "outputs": [
    {
     "data": {
      "text/plain": [
       "(array([ 0.+0.j,  1.+0.j,  0.+0.j,  0.+0.j]), [])"
      ]
     },
     "execution_count": 18,
     "metadata": {},
     "output_type": "execute_result"
    }
   ],
   "source": [
    "add_dummy_qubits = pq.Program().inst(I(2))\n",
    "qvm.wavefunction(state_prep + add_dummy_qubits)"
   ]
  },
  {
   "cell_type": "markdown",
   "metadata": {},
   "source": [
    "If we have two quantum programs `a` and `b`, we can concatenate them by doing `a + b`. Using this, all we need to do is compute the QFT after state preparation to get our final result."
   ]
  },
  {
   "cell_type": "code",
   "execution_count": 19,
   "metadata": {
    "collapsed": false,
    "scrolled": true
   },
   "outputs": [
    {
     "data": {
      "text/plain": [
       "(array([  3.53553391e-01+0.j        ,   2.50000000e-01+0.25j      ,\n",
       "          2.16489014e-17+0.35355339j,  -2.50000000e-01+0.25j      ,\n",
       "         -3.53553391e-01+0.j        ,  -2.50000000e-01-0.25j      ,\n",
       "         -2.16489014e-17-0.35355339j,   2.50000000e-01-0.25j      ]), [])"
      ]
     },
     "execution_count": 19,
     "metadata": {},
     "output_type": "execute_result"
    }
   ],
   "source": [
    "qvm.wavefunction(state_prep + qft3(0, 1, 2))"
   ]
  },
  {
   "cell_type": "markdown",
   "metadata": {},
   "source": [
    "We can verify this works by computing the (inverse) FFT from NumPy."
   ]
  },
  {
   "cell_type": "code",
   "execution_count": 20,
   "metadata": {
    "collapsed": false
   },
   "outputs": [
    {
     "data": {
      "text/plain": [
       "array([ 0.35355339+0.j        ,  0.25000000+0.25j      ,\n",
       "        0.00000000+0.35355339j, -0.25000000+0.25j      ,\n",
       "       -0.35355339+0.j        , -0.25000000-0.25j      ,\n",
       "        0.00000000-0.35355339j,  0.25000000-0.25j      ])"
      ]
     },
     "execution_count": 20,
     "metadata": {},
     "output_type": "execute_result"
    }
   ],
   "source": [
    "from numpy.fft import ifft\n",
    "ifft([0,1,0,0,0,0,0,0], norm=\"ortho\")"
   ]
  },
  {
   "cell_type": "markdown",
   "metadata": {},
   "source": [
    "### Classical Control Flow\n",
    "\n",
    "Here are a couple quick examples that show how much richer the classical control of a Quil program can be. In this first example, we have a register called `classical_flag_register` which we use for looping. Then we construct the loop in the following steps:\n",
    "\n",
    "1. We first initialize this register to `1` with the `init_register` program so our while loop will execute. This is often called the *loop preamble* or *loop initialization*.\n",
    "\n",
    "2. Next, we write body of the loop in a program itself. This will be a program that computes an $X$ followed by an $H$ on our qubit.\n",
    "\n",
    "3. Lastly, we put it all together using the `while_do` method."
   ]
  },
  {
   "cell_type": "code",
   "execution_count": 21,
   "metadata": {
    "collapsed": false
   },
   "outputs": [
    {
     "name": "stdout",
     "output_type": "stream",
     "text": [
      "TRUE [2]\n",
      "LABEL @START1\n",
      "JUMP-UNLESS @END2 [2]\n",
      "X 0\n",
      "H 0\n",
      "MEASURE 0 [2]\n",
      "JUMP @START1\n",
      "LABEL @END2\n",
      "\n"
     ]
    }
   ],
   "source": [
    "# Name our classical registers:\n",
    "classical_flag_register = 2\n",
    "\n",
    "# Write out the loop initialization and body programs:\n",
    "init_register = pq.Program(TRUE([classical_flag_register]))\n",
    "loop_body = pq.Program(X(0), H(0)).measure(0, classical_flag_register)\n",
    "\n",
    "# Put it all together in a loop program:\n",
    "loop_prog = init_register.while_do(classical_flag_register, loop_body)\n",
    "\n",
    "print loop_prog"
   ]
  },
  {
   "cell_type": "markdown",
   "metadata": {},
   "source": [
    "Notice that the `init_register` program applied a Quil instruction directly to a classical register. There are several classical commands that can be used in this fashion:\n",
    "\n",
    "- `TRUE` which sets a single classical bit to be 1\n",
    "- `FALSE` which sets a single classical bit to be 0\n",
    "- `NOT` which flips a classical bit\n",
    "- `AND` which operates on two classical bits\n",
    "- `OR` which operates on two classical bits\n",
    "- `MOVE` which moves the value of a classical bit at one classical address into another\n",
    "- `EXCHANGE` which swaps the value of two classical bits\n",
    "\n",
    "In this next example, we show how to do conditional branching in the form of the traditional `if` construct as in many programming languages. Much like the last example, we construct programs for each branch of the `if`, and put it all together by using the `if_then` method."
   ]
  },
  {
   "cell_type": "code",
   "execution_count": 22,
   "metadata": {
    "collapsed": false
   },
   "outputs": [
    {
     "name": "stdout",
     "output_type": "stream",
     "text": [
      "H 1\n",
      "MEASURE 1 [1]\n",
      "JUMP-WHEN @THEN3 [1]\n",
      "JUMP @END4\n",
      "LABEL @THEN3\n",
      "X 0\n",
      "LABEL @END4\n",
      "MEASURE 0 [0]\n",
      "\n"
     ]
    }
   ],
   "source": [
    "# Name our classical registers:\n",
    "test_register = 1\n",
    "answer_register = 0\n",
    "\n",
    "# Construct each branch of our if-statement. We can have empty branches\n",
    "# simply by having empty programs.\n",
    "then_branch = pq.Program(X(0))\n",
    "else_branch = pq.Program()\n",
    "\n",
    "# Make a program that will put a 0 or 1 in test_register with 50% probability:\n",
    "branching_prog = pq.Program(H(1)).measure(1, test_register)\n",
    "\n",
    "# Add the conditional branching:\n",
    "branching_prog.if_then(test_register, then_branch, else_branch)\n",
    "\n",
    "# Measure qubit 0 into our answer register:\n",
    "branching_prog.measure(0, answer_register)\n",
    "\n",
    "print branching_prog"
   ]
  },
  {
   "cell_type": "markdown",
   "metadata": {},
   "source": [
    "We can run this program a few times to see what we get in the `answer_register`."
   ]
  },
  {
   "cell_type": "code",
   "execution_count": 23,
   "metadata": {
    "collapsed": false
   },
   "outputs": [
    {
     "data": {
      "text/plain": [
       "[[1], [1], [0], [1], [0], [0], [0], [0], [1], [0]]"
      ]
     },
     "execution_count": 23,
     "metadata": {},
     "output_type": "execute_result"
    }
   ],
   "source": [
    "qvm.run(branching_prog, [answer_register], 10)"
   ]
  },
  {
   "cell_type": "markdown",
   "metadata": {},
   "source": [
    "### Parametric Depolarizing Noise\n",
    "The Rigetti QVM has support for emulating certain types of noise models. One such model is *parametric depolarizing noise*, which is defined by a set of 6 probabilities:\n",
    "\n",
    "- The probabilities $P_X$, $P_Y$, and $P_Z$ which define respectively the probability of a Pauli $X$, $Y$, or $Z$ gate getting applied to *each* qubit after *every* gate application. These probabilities are called the *gate noise probabilities*.\n",
    "\n",
    "- The probabilities $P_X'$, $P_Y'$, and $P_Z'$ which define respectively the probability of a Pauli $X$, $Y$, or $Z$ gate getting applied to the qubit being measured *before* it is measured. These probabilities are called the *measurement noise probabilities*.\n",
    "\n",
    "We can instantiate a noisy QVM by creating a new connection with these probabilities specified."
   ]
  },
  {
   "cell_type": "code",
   "execution_count": 24,
   "metadata": {
    "collapsed": false
   },
   "outputs": [],
   "source": [
    "# 20% chance of a X gate being applied after gate applications and before measurements.\n",
    "gate_noise_probs = [0.2, 0.0, 0.0]\n",
    "meas_noise_probs = [0.2, 0.0, 0.0]\n",
    "noisy_qvm = forest.Connection(gate_noise=gate_noise_probs, measurement_noise=meas_noise_probs)"
   ]
  },
  {
   "cell_type": "markdown",
   "metadata": {},
   "source": [
    "We can test this by applying an $X$ gate and measuring. Nominally, we should always measure `1`."
   ]
  },
  {
   "cell_type": "code",
   "execution_count": 25,
   "metadata": {
    "collapsed": false
   },
   "outputs": [
    {
     "name": "stdout",
     "output_type": "stream",
     "text": [
      "Without Noise: [[1], [1], [1], [1], [1], [1], [1], [1], [1], [1]]\n",
      "With Noise   : [[1], [1], [1], [1], [1], [0], [1], [0], [1], [1]]\n"
     ]
    }
   ],
   "source": [
    "p = pq.Program().inst(X(0)).measure(0, 0)\n",
    "print \"Without Noise:\", qvm.run(p, [0], 10)\n",
    "print \"With Noise   :\", noisy_qvm.run(p, [0], 10)"
   ]
  },
  {
   "cell_type": "markdown",
   "metadata": {},
   "source": [
    "### Parametric Programs\n",
    "\n",
    "A big advantage of working in pyQuil is that you are able to leverage all the functionality of Python to generate Quil programs. In quantum/classical hybrid algorithms this often leads to situations where complex classical functions are used to generate Quil programs. pyQuil provides a convenient construction to allow you to use Python functions to generate templates of Quil programs, called `ParametricPrograms`:"
   ]
  },
  {
   "cell_type": "code",
   "execution_count": 26,
   "metadata": {
    "collapsed": true
   },
   "outputs": [],
   "source": [
    "# This function returns a quantum circuit with different rotation angles on a gate on qubit 0\n",
    "def rotator(angle):\n",
    "    return pq.Program(RX(angle, 0))\n",
    "\n",
    "from pyquil.parametric import ParametricProgram\n",
    "par_p = ParametricProgram(rotator) # This produces a new type of parameterized program object"
   ]
  },
  {
   "cell_type": "markdown",
   "metadata": {},
   "source": [
    "The parametric program `par_p` now takes the same arguments as `rotator`:"
   ]
  },
  {
   "cell_type": "code",
   "execution_count": 27,
   "metadata": {
    "collapsed": false
   },
   "outputs": [
    {
     "name": "stdout",
     "output_type": "stream",
     "text": [
      "RX(0.5) 0\n",
      "\n"
     ]
    }
   ],
   "source": [
    "print par_p(0.5)"
   ]
  },
  {
   "cell_type": "markdown",
   "metadata": {},
   "source": [
    "We can think of ``ParametricPrograms`` as a sort of template for Quil programs.  They cache computations\n",
    "that happen in Python functions so that templates in Quil can be efficiently substituted."
   ]
  },
  {
   "cell_type": "markdown",
   "metadata": {},
   "source": [
    "### Pauli Operator Algebra\n",
    "Many algorithms require manipulating sums of Pauli combinations, such as \\\\[\\sigma = \\tfrac{1}{2}I - \\tfrac{3}{4}X_0Y_1Z_3 + (5-2i)Z_1X_2,\\\\] where $G_n$ indicates the gate $G$ acting on qubit $n$. We can represent such sums by constructing `PauliTerm` and `PauliSum`. The above sum can be constructed as follows:"
   ]
  },
  {
   "cell_type": "code",
   "execution_count": 28,
   "metadata": {
    "collapsed": false
   },
   "outputs": [
    {
     "name": "stdout",
     "output_type": "stream",
     "text": [
      "sigma = 0.5*I + -0.75*X0*Y1*Z3 + (5-2j)*Z1*X2\n"
     ]
    }
   ],
   "source": [
    "from pyquil.paulis import ID, sX, sY, sZ\n",
    "\n",
    "# Pauli term takes an operator \"X\", \"Y\", \"Z\", or \"I\"; a qubit to act on, and\n",
    "# an optional coefficient.\n",
    "a = 0.5 * ID\n",
    "b = -0.75 * sX(0) * sY(1) * sZ(3)\n",
    "c = (5-2j) * sZ(1) * sX(2)\n",
    "\n",
    "# Construct a sum of Pauli terms.\n",
    "sigma = a + b + c\n",
    "print \"sigma =\", sigma"
   ]
  },
  {
   "cell_type": "markdown",
   "metadata": {},
   "source": [
    "There are two primary things one can do with Pauli terms and sums:\n",
    "\n",
    "1. A Pauli sum's fully \"tensored up\" form can be computed with the `tensor_up` function.\n",
    "\n",
    "2. Quil code can be generated to compute the exponentiation of a Pauli term, i.e., $\\exp[-i\\sigma]$.\n",
    "\n",
    "When arithmetic is done with Pauli sums, simplification is automatically done.\n",
    "\n",
    "The following shows an instructive example of all three."
   ]
  },
  {
   "cell_type": "code",
   "execution_count": 29,
   "metadata": {
    "collapsed": false
   },
   "outputs": [
    {
     "name": "stdout",
     "output_type": "stream",
     "text": [
      "Simplified  : (32.46875-30j)*I + (-16.734375+15j)*X0*Y1*Z3 + (71.5625-144.625j)*Z1*X2\n",
      "\n",
      "Quil to compute exp[iX] on qubit 0:\n",
      "H 0\n",
      "RZ(-2.0) 0\n",
      "H 0\n",
      "\n"
     ]
    }
   ],
   "source": [
    "import pyquil.paulis as pl\n",
    "\n",
    "# Simplification\n",
    "sigma_cubed = sigma * sigma * sigma\n",
    "print \"Simplified  :\", sigma_cubed\n",
    "print\n",
    "\n",
    "#Produce Quil code to compute exp[iX]\n",
    "H = -1.0 * sX(0)\n",
    "print \"Quil to compute exp[iX] on qubit 0:\"\n",
    "print pl.exponential_map(H)(1.0)"
   ]
  },
  {
   "cell_type": "markdown",
   "metadata": {},
   "source": [
    "## Exercises\n",
    "\n",
    "### Exercise 1 - Quantum Dice\n",
    "\n",
    "Write a quantum program to simulate throwing an 8-sided die.  The Python function you should produce is:\n",
    "\n",
    "```\n",
    "def throw_octahedral_die():\n",
    "    # return the result of throwing an 8 sided die, an int between 1 and 8, by running a quantum program\n",
    "```\n",
    "\n",
    "Next, extend the program to work for any kind of fair die:\n",
    "\n",
    "```\n",
    "def throw_polyhedral_die(num_sides):\n",
    "    # return the result of throwing a num_sides sided die by running a quantum program\n",
    "```"
   ]
  },
  {
   "cell_type": "markdown",
   "metadata": {
    "collapsed": true
   },
   "source": [
    "### Exercise 2 - Controlled Gates\n",
    "\n",
    "We can use the full generality of NumPy and SciPy to construct new gate matrices.\n",
    "\n",
    "1. Write a function `controlled` which takes a $2\\times 2$ matrix $U$ representing a single qubit operator, and makes a $4\\times 4$ matrix which is a controlled variant of $U$, with the first argument being the *control qubit*.\n",
    "\n",
    "2. Write a Quil program to define a controlled-$Y$ gate in this manner. Find the wavefunction when applying this gate to qubit 1 controlled by qubit 0."
   ]
  },
  {
   "cell_type": "markdown",
   "metadata": {
    "collapsed": false
   },
   "source": [
    "### Exercise 3 - Grover's Algorithm\n",
    "\n",
    "Write a quantum program for the single-shot Grover's algorithm.  The Python function you should produce is:\n",
    "\n",
    "```\n",
    "# data is an array of 0's and 1's such that there are exactly three times as many\n",
    "# 0's as 1's\n",
    "def single_shot_grovers(data):\n",
    "    # return an index that contains the value 1\n",
    "```\n",
    "\n",
    "As an example: `single_shot_grovers([0,0,1,0])` should return 2.\n",
    "\n",
    "**HINT** - Remember that the Grover's diffusion operator is:\n",
    "\n",
    "$$\n",
    "\\begin{pmatrix}\n",
    "2/N - 1 & 2/N & \\cdots & 2/N \\\\\n",
    "2/N &  & &\\\\\n",
    "\\vdots & & \\ddots & \\\\\n",
    "2/N & & & 2/N-1\n",
    "\\end{pmatrix}\n",
    "$$"
   ]
  }
 ],
 "metadata": {
  "anaconda-cloud": {},
  "kernelspec": {
   "display_name": "Python [default]",
   "language": "python",
   "name": "python2"
  },
  "language_info": {
   "codemirror_mode": {
    "name": "ipython",
    "version": 2
   },
   "file_extension": ".py",
   "mimetype": "text/x-python",
   "name": "python",
   "nbconvert_exporter": "python",
   "pygments_lexer": "ipython2",
   "version": "2.7.12"
  }
 },
 "nbformat": 4,
 "nbformat_minor": 0
}
